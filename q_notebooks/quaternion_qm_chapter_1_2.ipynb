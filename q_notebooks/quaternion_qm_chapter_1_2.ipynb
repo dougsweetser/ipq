{
 "cells": [
  {
   "cell_type": "markdown",
   "metadata": {},
   "source": [
    "# Quaternion Series Quantum Mechanics: Lectures 1 and 2"
   ]
  },
  {
   "cell_type": "markdown",
   "metadata": {},
   "source": [
    "by Doug Sweetser, email to sweetser@alum.mit.edu"
   ]
  },
  {
   "cell_type": "markdown",
   "metadata": {},
   "source": [
    "This notebook is being created as a companion to the book \"Quantum Mechanics: the Theoretical Minimum\" by Susskind and Friedman (QM:TTM for short). Those authors of course never use quaternions as they are a bit player in the crowded field of mathematical tools. Nature has used one accounting system since the beginning of space-time, so I will be a jerk in the name of consistency. This leads to a different perspective on what makes an equation quantum mechanical. If a conjugate operator is used, then the expression is about quantum mechanics. It is odd to have such a brief assertion given the complexity of the subject, but that make the hypothesis fun - and testable by seeing if anything in the book cannot be done with quaternions and their conjugates. Import the tools to work with quaternions in this notebook."
   ]
  },
  {
   "cell_type": "code",
   "execution_count": 2,
   "metadata": {},
   "outputs": [],
   "source": [
    "%%capture\n",
    "%matplotlib inline\n",
    "import numpy as np\n",
    "import sympy as sp\n",
    "import matplotlib.pyplot as plt\n",
    "\n",
    "# To get equations the look like, well, equations, use the following.\n",
    "from sympy.interactive import printing\n",
    "printing.init_printing(use_latex=True)\n",
    "from IPython.display import display\n",
    "\n",
    "# Tools for manipulating quaternions.\n",
    "import Q_tools as qt;"
   ]
  },
  {
   "cell_type": "markdown",
   "metadata": {},
   "source": [
    "## Lecture 1: Systems and Experiments"
   ]
  },
  {
   "cell_type": "markdown",
   "metadata": {},
   "source": [
    "### Bracket Notation and Three Identities"
   ]
  },
  {
   "cell_type": "markdown",
   "metadata": {},
   "source": [
    "Bracket notation from this quaternion-centric perspective is just a quaternion product where the first term must necessarily be conjugated. I have called this the \"Euclidean product\". The quaternion product is associative but the Euclidean product is not ($(A^* B)^* C \\ne A^* (B^* C)$ although their norms are equal). Write out three things in bracket notation that are known to be true about inner products(QM:TTH, p. 31).\n",
    "1. $<A|A> \\rightarrow A^* A$ is real\n",
    "1. $<A|B> = <B|A>^* \\rightarrow A^* B = (B^* A)^*$\n",
    "1. $(<A|+<B|)|C> = <A|C> + <B|C> \\rightarrow (A+ B)^*C = A^*C + B^* C$\n",
    "\n",
    "This may provide the first signs that the odd math of quantum mechanics is the math of Euclidean products of quaternions.\n",
    "\n",
    "So, is $A^* A$ real? Yes and no."
   ]
  },
  {
   "cell_type": "code",
   "execution_count": 3,
   "metadata": {},
   "outputs": [
    {
     "data": {
      "image/png": "[encoded data removed]",
      "text/latex": [
       "$$A_{1}^{2} + A_{2}^{2} + A_{3}^{2} + a_{0}^{2}$$"
      ],
      "text/plain": [
       "  2     2     2     2\n",
       "A₁  + A₂  + A₃  + a₀ "
      ]
     },
     "metadata": {},
     "output_type": "display_data"
    },
    {
     "data": {
      "image/png": "[encoded data removed]",
      "text/latex": [
       "$$0$$"
      ],
      "text/plain": [
       "0"
      ]
     },
     "metadata": {},
     "output_type": "display_data"
    },
    {
     "data": {
      "image/png": "[encoded data removed]",
      "text/latex": [
       "$$0$$"
      ],
      "text/plain": [
       "0"
      ]
     },
     "metadata": {},
     "output_type": "display_data"
    },
    {
     "data": {
      "image/png": "[encoded data removed]",
      "text/latex": [
       "$$0$$"
      ],
      "text/plain": [
       "0"
      ]
     },
     "metadata": {},
     "output_type": "display_data"
    }
   ],
   "source": [
    "a0, A1, A2, A3 = sp.symbols(\"a0 A1 A2 A3\")\n",
    "b0, B1, B2, B3 = sp.symbols(\"b0 B1 B2 B3\")\n",
    "c0, C1, C2, C3 = sp.symbols(\"c0 C1 C2 C3\")\n",
    "A = qt.QH([a0, A1, A2, A3], qtype=\"A\")\n",
    "B = qt.QH([b0, B1, B2, B3], qtype=\"B\")\n",
    "C = qt.QH([c0, C1, C2, C3], qtype=\"C\")\n",
    "display(A.conj().product(A).t)\n",
    "display(A.conj().product(A).x)\n",
    "display(A.conj().product(A).y)\n",
    "display(A.conj().product(A).z)"
   ]
  },
  {
   "cell_type": "markdown",
   "metadata": {},
   "source": [
    "The first term is a real-valued, with the 3-imaginary vector equal to zero. I think it is bad practice to just pretend the three zeros are *not there in any way*. One can make an equivalence relation between quaternions of the form $(\\mathbb{R}, 0, 0, 0)$ and the real numbers. The real numbers are a subgroup of quaternions, and never the other way around.\n",
    "\n",
    "It is important to understand exactly why the three imaginary terms are zero. It is too common for people to say \"it's the norm\" and give the subject no thought. No thought means no insights. A quaternion points in the direction of itself, so all the anti-symmetric cross terms are equal to zero. The conjugate operator picks out the mirror reflection of the imaginary terms. The product of an imaginary with its mirror image is an all positive real number and zero for all three imaginary numbers.\n",
    "\n",
    "Calculus is the story of neighborhoods near points. There are two broad classes of changes one can imagine for a norm. In the first, a point $A$ goes to $A'$. It could be either slightly bigger or smaller, shown in a slightly bigger or smaller first value. Or the mirror reflection to be slightly off. This would create a non-zero space-times-time 3-vector. Everyone accepts that a norm can get larger or smaller, it is a \"size\" thing. But a change in direction will lead to imaginary terms that can either commute, anti-commute, or be a mixture of both. This possibility makes this view of a quaternion norm sound richer."
   ]
  },
  {
   "cell_type": "markdown",
   "metadata": {},
   "source": [
    "Test out the second identity:\n",
    "\n",
    "$$(A^* B)^* = (B^*, A)$$"
   ]
  },
  {
   "cell_type": "code",
   "execution_count": 4,
   "metadata": {},
   "outputs": [
    {
     "name": "stdout",
     "output_type": "stream",
     "text": [
      "(A* B)* = (A1*B1 + A2*B2 + A3*B3 + a0*b0, -A1*b0 - A2*B3 + A3*B2 + B1*a0, A1*B3 - A2*b0 - A3*B1 + B2*a0, -A1*B2 + A2*B1 - A3*b0 + B3*a0) A*xB\n",
      "B* A    = (A1*B1 + A2*B2 + A3*B3 + a0*b0, -A1*b0 - A2*B3 + A3*B2 + B1*a0, A1*B3 - A2*b0 - A3*B1 + B2*a0, -A1*B2 + A2*B1 - A3*b0 + B3*a0) B*xA*\n",
      "(A* B)* - B* A = (0, 0, 0, 0) A*xB-B*xA*\n"
     ]
    }
   ],
   "source": [
    "AB_conj = A.Euclidean_product(B)\n",
    "BA = B.Euclidean_product(A).conj()\n",
    "print(\"(A* B)* = {}\".format(AB_conj))\n",
    "print(\"B* A    = {}\".format(BA))\n",
    "print(\"(A* B)* - B* A = {}\".format(AB_conj.dif(BA)))"
   ]
  },
  {
   "cell_type": "markdown",
   "metadata": {},
   "source": [
    "Note on notation: someone pointed out that is *absolutely all calculations start and end with quaternions*, then it is easy to feel lost - this quaternion looks like that one. The string at the end that I call a \"qtype\" represents all the steps that went into a calculation. The last qtype above reads: A*xB-B*xA* which hopefully is clear in this contex."
   ]
  },
  {
   "cell_type": "markdown",
   "metadata": {},
   "source": [
    "Despite the fact that quaternions do not commute, the conjugate operator does the job correctly because the angle between the two quaternions does not change."
   ]
  },
  {
   "cell_type": "markdown",
   "metadata": {},
   "source": [
    "Now for the third identity about sums."
   ]
  },
  {
   "cell_type": "code",
   "execution_count": 5,
   "metadata": {},
   "outputs": [
    {
     "name": "stdout",
     "output_type": "stream",
     "text": [
      "(A+B)* C:  (A1*C1 + A2*C2 + A3*C3 + B1*C1 + B2*C2 + B3*C3 + a0*c0 + b0*c0, -A1*c0 - A2*C3 + A3*C2 - B1*c0 - B2*C3 + B3*C2 + C1*a0 + C1*b0, A1*C3 - A2*c0 - A3*C1 + B1*C3 - B2*c0 - B3*C1 + C2*a0 + C2*b0, -A1*C2 + A2*C1 - A3*c0 - B1*C2 + B2*C1 - B3*c0 + C3*a0 + C3*b0) A*+B*xC\n",
      "\n",
      "A*C + B*C: (A1*C1 + A2*C2 + A3*C3 + B1*C1 + B2*C2 + B3*C3 + a0*c0 + b0*c0, -A1*c0 - A2*C3 + A3*C2 - B1*c0 - B2*C3 + B3*C2 + C1*a0 + C1*b0, A1*C3 - A2*c0 - A3*C1 + B1*C3 - B2*c0 - B3*C1 + C2*a0 + C2*b0, -A1*C2 + A2*C1 - A3*c0 - B1*C2 + B2*C1 - B3*c0 + C3*a0 + C3*b0) A*xC+B*xC\n",
      "\n",
      "(A+B)* C - (A*C + B*C): (0, 0, 0, 0) A*+B*xC-A*xC+B*xC\n"
     ]
    }
   ],
   "source": [
    "A_plus_B_then_C = A.conj().add(B.conj()).product(C).expand_q()\n",
    "AC_plus_BC = A.conj().product(C).add(B.conj().product(C)).expand_q()\n",
    "print(\"(A+B)* C:  {}\\n\".format(A_plus_B_then_C))\n",
    "print(\"A*C + B*C: {}\\n\".format(AC_plus_BC))\n",
    "print(\"(A+B)* C - (A*C + B*C): {}\".format(A_plus_B_then_C.dif(AC_plus_BC)))"
   ]
  },
  {
   "cell_type": "markdown",
   "metadata": {},
   "source": [
    "Subtracting one from the other shows they are identical.\n",
    "\n",
    "There are many more algebraic relationships known for Hilbert spaces such as the triangle inequality and the Schwarz inequality which is the basis of the uncertainty principle. These all work for the [Euclidean product with quaternions](https://dougsweetser.github.io/Q/QM/bracket_notation/)."
   ]
  },
  {
   "cell_type": "markdown",
   "metadata": {},
   "source": [
    "## Lecture 2: Quantum States"
   ]
  },
  {
   "cell_type": "markdown",
   "metadata": {},
   "source": [
    "### Quaternion Series as Quantum States"
   ]
  },
  {
   "cell_type": "markdown",
   "metadata": {},
   "source": [
    "A quantum state is an n-dimensional vector space. This is fundamentally different from a set of states because certain math relationships are allowed. Vectors can be added to one another, multiplied by complex numbers. One can take the inner product of two vectors. Most important calculations involve taking the inner product.\n",
    "\n",
    "A perspective I will explore here is that a (possibly infinite) series of quaternions has the same algebraic properties of Hilbert spaces when one uses the Euclidean product, $A^* B = \\sum_{1}^{n} a_n^* b_n$"
   ]
  },
  {
   "cell_type": "markdown",
   "metadata": {},
   "source": [
    "![AxB.png](images/AxB.png)"
   ]
  },
  {
   "cell_type": "markdown",
   "metadata": {},
   "source": [
    "This only works if the length of the series for **A** is exactly equal to that of **B**. Whatever can be done with a quaternion can be done with its series representation. Unlike vectors that can either be be a row or a column, quaternion series only have a length. Let's just do one calculation, < A | A >:"
   ]
  },
  {
   "cell_type": "code",
   "execution_count": 6,
   "metadata": {},
   "outputs": [
    {
     "name": "stdout",
     "output_type": "stream",
     "text": [
      "<A|A>\n",
      "n=1: (14, 0, 0, 0) Q*xQ\n",
      "n=2: (10, 0, 0, 0) Q*xQ\n",
      "sum= (24, 0, 0, 0) Q*xQ+Q*xQ\n"
     ]
    }
   ],
   "source": [
    "A = qt.QHStates([qt.QH([0,1,2,3]), qt.QH([1,2,1,2])])\n",
    "AA = A.Euclidean_product('bra', ket=A)\n",
    "AA.print_states(\"<A|A>\")"
   ]
  },
  {
   "cell_type": "markdown",
   "metadata": {},
   "source": [
    "A little calculation in the head should show this works as expected - except one is not used to seeing quaternion series in action."
   ]
  },
  {
   "cell_type": "markdown",
   "metadata": {},
   "source": [
    "The first system analyzed has but 2 states, keeping things simple. The first pair of states are likewise so simple they are orthonormal to a casual observer."
   ]
  },
  {
   "cell_type": "code",
   "execution_count": 7,
   "metadata": {},
   "outputs": [
    {
     "name": "stdout",
     "output_type": "stream",
     "text": [
      "u\n",
      "n=1: (1, 0, 0, 0) 1\n",
      "n=2: (0, 0, 0, 0) 0\n",
      "sum= (1, 0, 0, 0) 1+0\n",
      "\n",
      "d\n",
      "n=1: (0, 0, 0, 0) 0\n",
      "n=2: (1, 0, 0, 0) 1\n",
      "sum= (1, 0, 0, 0) 0+1\n"
     ]
    }
   ],
   "source": [
    "q0, q1, qi, qj, qk = qt.QH().q_0(), qt.QH().q_1(), qt.QH().q_i(), qt.QH().q_j(), qt.QH().q_k()\n",
    "\n",
    "u = qt.QHStates([q1, q0])\n",
    "d = qt.QHStates([q0, q1])\n",
    "\n",
    "u.print_states(\"u\", True)\n",
    "d.print_states(\"d\")"
   ]
  },
  {
   "cell_type": "markdown",
   "metadata": {},
   "source": [
    "Calculate $<u|u>$, $<d|d>$ and $<u|d>$:"
   ]
  },
  {
   "cell_type": "code",
   "execution_count": 10,
   "metadata": {},
   "outputs": [
    {
     "name": "stdout",
     "output_type": "stream",
     "text": [
      "<u|u>\n",
      "n=1: (1, 0, 0, 0) 1*x1\n",
      "n=2: (0, 0, 0, 0) 0*x0\n",
      "sum= (1, 0, 0, 0) 1*x1+0*x0\n"
     ]
    }
   ],
   "source": [
    "u.Euclidean_product('bra', ket=u).print_states(\"<u|u>\")"
   ]
  },
  {
   "cell_type": "code",
   "execution_count": 9,
   "metadata": {
    "scrolled": true
   },
   "outputs": [
    {
     "name": "stdout",
     "output_type": "stream",
     "text": [
      "<d|d>\n",
      "n=1: (0, 0, 0, 0) 0*x0\n",
      "n=2: (1, 0, 0, 0) 1*x1\n",
      "sum= (1, 0, 0, 0) 0*x0+1*x1\n"
     ]
    }
   ],
   "source": [
    "d.Euclidean_product('bra', ket=d).print_states(\"<d|d>\")"
   ]
  },
  {
   "cell_type": "code",
   "execution_count": 12,
   "metadata": {},
   "outputs": [
    {
     "name": "stdout",
     "output_type": "stream",
     "text": [
      "<u|d>\n",
      "n=1: (0, 0, 0, 0) 1*x0\n",
      "n=2: (0, 0, 0, 0) 0*x1\n",
      "sum= (0, 0, 0, 0) 1*x0+0*x1\n"
     ]
    }
   ],
   "source": [
    "u.Euclidean_product('bra', ket=d).print_states(\"<u|d>\")"
   ]
  },
  {
   "cell_type": "markdown",
   "metadata": {},
   "source": [
    "The next pair of states is constructed from the first pair, $u$ and $d$ like so (QM:TTM, page 41):"
   ]
  },
  {
   "cell_type": "code",
   "execution_count": 15,
   "metadata": {},
   "outputs": [
    {
     "name": "stdout",
     "output_type": "stream",
     "text": [
      "r\n",
      "n=1: (0.707106781186548, 0, 0, 0) Qx1+0x0+Qx0+0x1\n",
      "n=2: (0.707106781186548, 0, 0, 0) 0x1+Qx0+0x0+Qx1\n",
      "sum= (1.41421356237310, 0, 0, 0) Qx1+0x0+Qx0+0x1+0x1+Qx0+0x0+Qx1\n",
      "\n",
      "L\n",
      "n=1: (0.707106781186548, 0, 0, 0) Qx1+0x0-Qx0+0x1\n",
      "n=2: (-0.707106781186548, 0, 0, 0) 0x1+Qx0-0x0+Qx1\n",
      "sum= (0, 0, 0, 0) Qx1+0x0-Qx0+0x1+0x1+Qx0-0x0+Qx1\n"
     ]
    }
   ],
   "source": [
    "sqrt_2op = qt.QHStates([qt.QH([sp.sqrt(1/2), 0, 0, 0])])\n",
    "\n",
    "u2 = u.Euclidean_product('ket', operator=sqrt_2op)\n",
    "d2 = d.Euclidean_product('ket', operator=sqrt_2op)\n",
    "\n",
    "r = u2.add(d2)\n",
    "L = u2.dif(d2)\n",
    "\n",
    "r.print_states(\"r\", True)\n",
    "L.print_states(\"L\")"
   ]
  },
  {
   "cell_type": "code",
   "execution_count": 16,
   "metadata": {},
   "outputs": [
    {
     "name": "stdout",
     "output_type": "stream",
     "text": [
      "<r|r>\n",
      "n=1: (0.500000000000000, 0, 0, 0) Qx1+0x0+Qx0+0x1*xQx1+0x0+Qx0+0x1\n",
      "n=2: (0.500000000000000, 0, 0, 0) 0x1+Qx0+0x0+Qx1*x0x1+Qx0+0x0+Qx1\n",
      "sum= (1.00000000000000, 0, 0, 0) Qx1+0x0+Qx0+0x1*xQx1+0x0+Qx0+0x1+0x1+Qx0+0x0+Qx1*x0x1+Qx0+0x0+Qx1\n",
      "\n",
      "<L|L>\n",
      "n=1: (0.500000000000000, 0, 0, 0) Qx1+0x0-Qx0+0x1*xQx1+0x0-Qx0+0x1\n",
      "n=2: (0.500000000000000, 0, 0, 0) 0x1+Qx0-0x0+Qx1*x0x1+Qx0-0x0+Qx1\n",
      "sum= (1.00000000000000, 0, 0, 0) Qx1+0x0-Qx0+0x1*xQx1+0x0-Qx0+0x1+0x1+Qx0-0x0+Qx1*x0x1+Qx0-0x0+Qx1\n",
      "\n",
      "<r|L>\n",
      "n=1: (0.500000000000000, 0, 0, 0) Qx1+0x0+Qx0+0x1*xQx1+0x0-Qx0+0x1\n",
      "n=2: (-0.500000000000000, 0, 0, 0) 0x1+Qx0+0x0+Qx1*x0x1+Qx0-0x0+Qx1\n",
      "sum= (0, 0, 0, 0) Qx1+0x0+Qx0+0x1*xQx1+0x0-Qx0+0x1+0x1+Qx0+0x0+Qx1*x0x1+Qx0-0x0+Qx1\n",
      "\n"
     ]
    }
   ],
   "source": [
    "r.Euclidean_product('bra', ket=r).print_states(\"<r|r>\", True)\n",
    "L.Euclidean_product('bra', ket=L).print_states(\"<L|L>\", True)\n",
    "r.Euclidean_product('bra', ket=L).print_states(\"<r|L>\", True)"
   ]
  },
  {
   "cell_type": "markdown",
   "metadata": {},
   "source": [
    "The final calculation for chapter 2 is like the one for $r$ and $L$ except one uses an arbitrarily chosen imaginary value - it could point any direction in 3D space - like so:"
   ]
  },
  {
   "cell_type": "code",
   "execution_count": 20,
   "metadata": {},
   "outputs": [
    {
     "name": "stdout",
     "output_type": "stream",
     "text": [
      "i\n",
      "n=1: (0.707106781186548, 0, 0, 0) 1xQx1+0x0+Qx0+0x1+0x0x1+Qx0+0x0+Qx1\n",
      "n=2: (0, 0.707106781186548, 0, 0) 0xQx1+0x0+Qx0+0x1+ix0x1+Qx0+0x0+Qx1\n",
      "sum= (0.707106781186548, 0.707106781186548, 0, 0) 1xQx1+0x0+Qx0+0x1+0x0x1+Qx0+0x0+Qx1+0xQx1+0x0+Qx0+0x1+ix0x1+Qx0+0x0+Qx1\n",
      "\n",
      "o\n",
      "n=1: (0.707106781186548, 0, 0, 0) 1xQx1+0x0-Qx0+0x1+0x0x1+Qx0-0x0+Qx1\n",
      "n=2: (0, -0.707106781186548, 0, 0) 0xQx1+0x0-Qx0+0x1+ix0x1+Qx0-0x0+Qx1\n",
      "sum= (0.707106781186548, -0.707106781186548, 0, 0) 1xQx1+0x0-Qx0+0x1+0x0x1+Qx0-0x0+Qx1+0xQx1+0x0-Qx0+0x1+ix0x1+Qx0-0x0+Qx1\n"
     ]
    }
   ],
   "source": [
    "i_op = qt.QHStates([q1, q0, q0, qi])\n",
    "\n",
    "i = r.Euclidean_product('ket', operator=i_op)\n",
    "o = L.Euclidean_product('ket', operator=i_op)\n",
    "\n",
    "i.print_states(\"i\", True)\n",
    "o.print_states(\"o\")"
   ]
  },
  {
   "cell_type": "code",
   "execution_count": 22,
   "metadata": {},
   "outputs": [
    {
     "name": "stdout",
     "output_type": "stream",
     "text": [
      "<i|i>\n",
      "n=1: (0.500000000000000, 0, 0, 0) 1xQx1+0x0+Qx0+0x1+0x0x1+Qx0+0x0+Qx1*x1xQx1+0x0+Qx0+0x1+0x0x1+Qx0+0x0+Qx1\n",
      "n=2: (0.500000000000000, 0, 0, 0) 0xQx1+0x0+Qx0+0x1+ix0x1+Qx0+0x0+Qx1*x0xQx1+0x0+Qx0+0x1+ix0x1+Qx0+0x0+Qx1\n",
      "sum= (1.00000000000000, 0, 0, 0) 1xQx1+0x0+Qx0+0x1+0x0x1+Qx0+0x0+Qx1*x1xQx1+0x0+Qx0+0x1+0x0x1+Qx0+0x0+Qx1+0xQx1+0x0+Qx0+0x1+ix0x1+Qx0+0x0+Qx1*x0xQx1+0x0+Qx0+0x1+ix0x1+Qx0+0x0+Qx1\n",
      "\n",
      "<o|o>\n",
      "n=1: (0.500000000000000, 0, 0, 0) 1xQx1+0x0-Qx0+0x1+0x0x1+Qx0-0x0+Qx1*x1xQx1+0x0-Qx0+0x1+0x0x1+Qx0-0x0+Qx1\n",
      "n=2: (0.500000000000000, 0, 0, 0) 0xQx1+0x0-Qx0+0x1+ix0x1+Qx0-0x0+Qx1*x0xQx1+0x0-Qx0+0x1+ix0x1+Qx0-0x0+Qx1\n",
      "sum= (1.00000000000000, 0, 0, 0) 1xQx1+0x0-Qx0+0x1+0x0x1+Qx0-0x0+Qx1*x1xQx1+0x0-Qx0+0x1+0x0x1+Qx0-0x0+Qx1+0xQx1+0x0-Qx0+0x1+ix0x1+Qx0-0x0+Qx1*x0xQx1+0x0-Qx0+0x1+ix0x1+Qx0-0x0+Qx1\n",
      "\n",
      "<i|o>\n",
      "n=1: (0.500000000000000, 0, 0, 0) 1xQx1+0x0+Qx0+0x1+0x0x1+Qx0+0x0+Qx1*x1xQx1+0x0-Qx0+0x1+0x0x1+Qx0-0x0+Qx1\n",
      "n=2: (-0.500000000000000, 0, 0, 0) 0xQx1+0x0+Qx0+0x1+ix0x1+Qx0+0x0+Qx1*x0xQx1+0x0-Qx0+0x1+ix0x1+Qx0-0x0+Qx1\n",
      "sum= (0, 0, 0, 0) 1xQx1+0x0+Qx0+0x1+0x0x1+Qx0+0x0+Qx1*x1xQx1+0x0-Qx0+0x1+0x0x1+Qx0-0x0+Qx1+0xQx1+0x0+Qx0+0x1+ix0x1+Qx0+0x0+Qx1*x0xQx1+0x0-Qx0+0x1+ix0x1+Qx0-0x0+Qx1\n"
     ]
    }
   ],
   "source": [
    "i.Euclidean_product('bra', ket=i).print_states(\"<i|i>\", True)\n",
    "o.Euclidean_product('bra', ket=o).print_states(\"<o|o>\", True)\n",
    "i.Euclidean_product('bra', ket=o).print_states(\"<i|o>\")"
   ]
  },
  {
   "cell_type": "markdown",
   "metadata": {},
   "source": [
    "Notice how long the qtypes have gotten (the strings that keep a record of all the manipulations done to a quaternion). The initial state was just a zero and a one, but that had to get added to another and normalized, then multiplied by a factor of $i$ and combined again."
   ]
  },
  {
   "cell_type": "markdown",
   "metadata": {},
   "source": [
    "Orthonormal again, as hoped for."
   ]
  },
  {
   "cell_type": "markdown",
   "metadata": {},
   "source": [
    "Is the quaternion series approach a faithful representation of these 6 states? On page 43-44, there are 8 products that all add up to one half. See if this works out..."
   ]
  },
  {
   "cell_type": "code",
   "execution_count": 26,
   "metadata": {},
   "outputs": [
    {
     "name": "stdout",
     "output_type": "stream",
     "text": [
      "ouuo sum:\n",
      " (0.353553390593274, 0, 0, 0) 1xQx1+0x0-Qx0+0x1+0x0x1+Qx0-0x0+Qx1*x1x1xQx1+0x0+Qx0+0x1+0x0x1+Qx0+0x0+Qx1*x1xQx1+0x0-Qx0+0x1+0x0x1+Qx0-0x0+Qx1+0xQx1+0x0-Qx0+0x1+ix0x1+Qx0-0x0+Qx1*x0x0xQx1+0x0+Qx0+0x1+ix0x1+Qx0+0x0+Qx1*x0xQx1+0x0-Qx0+0x1+ix0x1+Qx0-0x0+Qx1 \n",
      "\n",
      "oddo sum:\n",
      " (0.500000000000000, 0, 0, 0) 1xQx1+0x0-Qx0+0x1+0x0x1+Qx0-0x0+Qx1*x0x0*x1xQx1+0x0-Qx0+0x1+0x0x1+Qx0-0x0+Qx1+0xQx1+0x0-Qx0+0x1+ix0x1+Qx0-0x0+Qx1*x1x1*x0xQx1+0x0-Qx0+0x1+ix0x1+Qx0-0x0+Qx1 \n",
      "\n",
      "iuui sum:\n",
      " (0.500000000000000, 0, 0, 0) 1xQx1+0x0+Qx0+0x1+0x0x1+Qx0+0x0+Qx1*x1x1*x1xQx1+0x0+Qx0+0x1+0x0x1+Qx0+0x0+Qx1+0xQx1+0x0+Qx0+0x1+ix0x1+Qx0+0x0+Qx1*x0x0*x0xQx1+0x0+Qx0+0x1+ix0x1+Qx0+0x0+Qx1 \n",
      "\n",
      "iddi sum:\n",
      " (0.500000000000000, 0, 0, 0) 1xQx1+0x0+Qx0+0x1+0x0x1+Qx0+0x0+Qx1*x0x0*x1xQx1+0x0+Qx0+0x1+0x0x1+Qx0+0x0+Qx1+0xQx1+0x0+Qx0+0x1+ix0x1+Qx0+0x0+Qx1*x1x1*x0xQx1+0x0+Qx0+0x1+ix0x1+Qx0+0x0+Qx1\n"
     ]
    }
   ],
   "source": [
    "ou = o.Euclidean_product('bra', ket=u)\n",
    "uo = i.Euclidean_product('bra', ket=o)\n",
    "print(\"ouuo sum:\\n\", ou.product('bra', ket=uo).summation(), \"\\n\")\n",
    "od = o.Euclidean_product('bra', ket=d)\n",
    "do = d.Euclidean_product('bra', ket=o)\n",
    "print(\"oddo sum:\\n\", od.product('bra', ket=do).summation(), \"\\n\")\n",
    "iu = i.Euclidean_product('bra', ket=u)\n",
    "ui = u.Euclidean_product('bra', ket=i)\n",
    "print(\"iuui sum:\\n\", iu.product('bra', ket=ui).summation(), \"\\n\")\n",
    "id = i.Euclidean_product('bra', ket=d)\n",
    "di = d.Euclidean_product('bra', ket=i)\n",
    "print(\"iddi sum:\\n\", id.product('bra', ket=di).summation())"
   ]
  },
  {
   "cell_type": "code",
   "execution_count": 28,
   "metadata": {},
   "outputs": [
    {
     "name": "stdout",
     "output_type": "stream",
     "text": [
      "orro:\n",
      " (0.500000000000000, 0, 0, 0) 1xQx1+0x0-Qx0+0x1+0x0x1+Qx0-0x0+Qx1*xQx1+0x0+Qx0+0x1xQx1+0x0+Qx0+0x1*x1xQx1+0x0-Qx0+0x1+0x0x1+Qx0-0x0+Qx1+0xQx1+0x0-Qx0+0x1+ix0x1+Qx0-0x0+Qx1*x0x1+Qx0+0x0+Qx1x0x1+Qx0+0x0+Qx1*x0xQx1+0x0-Qx0+0x1+ix0x1+Qx0-0x0+Qx1 \n",
      "\n",
      "oLLo:\n",
      " (0.500000000000000, 0, 0, 0) 1xQx1+0x0-Qx0+0x1+0x0x1+Qx0-0x0+Qx1*xQx1+0x0-Qx0+0x1xQx1+0x0-Qx0+0x1*x1xQx1+0x0-Qx0+0x1+0x0x1+Qx0-0x0+Qx1+0xQx1+0x0-Qx0+0x1+ix0x1+Qx0-0x0+Qx1*x0x1+Qx0-0x0+Qx1x0x1+Qx0-0x0+Qx1*x0xQx1+0x0-Qx0+0x1+ix0x1+Qx0-0x0+Qx1 \n",
      "\n",
      "irri:\n",
      " (0.500000000000000, 0, 0, 0) 1xQx1+0x0+Qx0+0x1+0x0x1+Qx0+0x0+Qx1*xQx1+0x0+Qx0+0x1xQx1+0x0+Qx0+0x1*x1xQx1+0x0+Qx0+0x1+0x0x1+Qx0+0x0+Qx1+0xQx1+0x0+Qx0+0x1+ix0x1+Qx0+0x0+Qx1*x0x1+Qx0+0x0+Qx1x0x1+Qx0+0x0+Qx1*x0xQx1+0x0+Qx0+0x1+ix0x1+Qx0+0x0+Qx1 \n",
      "\n",
      "iLLi:\n",
      " (0.500000000000000, 0, 0, 0) 1xQx1+0x0+Qx0+0x1+0x0x1+Qx0+0x0+Qx1*xQx1+0x0-Qx0+0x1xQx1+0x0-Qx0+0x1*x1xQx1+0x0+Qx0+0x1+0x0x1+Qx0+0x0+Qx1+0xQx1+0x0+Qx0+0x1+ix0x1+Qx0+0x0+Qx1*x0x1+Qx0-0x0+Qx1x0x1+Qx0-0x0+Qx1*x0xQx1+0x0+Qx0+0x1+ix0x1+Qx0+0x0+Qx1\n"
     ]
    }
   ],
   "source": [
    "Or = o.Euclidean_product('bra', ket=r)\n",
    "ro = r.Euclidean_product('bra', ket=o)\n",
    "print(\"orro:\\n\", Or.product('bra', ket=ro).summation(), \"\\n\")\n",
    "oL = o.Euclidean_product('bra', ket=L)\n",
    "Lo = L.Euclidean_product('bra', ket=o)\n",
    "print(\"oLLo:\\n\", oL.product('bra', ket=Lo).summation(), \"\\n\")\n",
    "ir = i.Euclidean_product('bra', ket=r)\n",
    "ri = r.Euclidean_product('bra', ket=i)\n",
    "print(\"irri:\\n\", ir.product('bra', ket=ri).summation(), \"\\n\")\n",
    "iL = i.Euclidean_product('bra', ket=L)\n",
    "Li = L.Euclidean_product('bra', ket=i)\n",
    "print(\"iLLi:\\n\", iL.product('bra', ket=Li).summation())"
   ]
  },
  {
   "cell_type": "markdown",
   "metadata": {},
   "source": [
    "There is an important technical detail in this calculation I should point out. In the <bra|ket> form, the bra gets conjugated. Notice though that if one does two of these, < i | L >< L | i >, then there has to be a product formed between the two brackets. In practice, < i | L >* < L | i > gives the wrong result:"
   ]
  },
  {
   "cell_type": "code",
   "execution_count": 29,
   "metadata": {},
   "outputs": [
    {
     "name": "stdout",
     "output_type": "stream",
     "text": [
      "iL*Li:\n",
      " (0, 0, 0, 0) 1xQx1+0x0+Qx0+0x1+0x0x1+Qx0+0x0+Qx1*xQx1+0x0-Qx0+0x1*xQx1+0x0-Qx0+0x1*x1xQx1+0x0+Qx0+0x1+0x0x1+Qx0+0x0+Qx1+0xQx1+0x0+Qx0+0x1+ix0x1+Qx0+0x0+Qx1*x0x1+Qx0-0x0+Qx1*x0x1+Qx0-0x0+Qx1*x0xQx1+0x0+Qx0+0x1+ix0x1+Qx0+0x0+Qx1\n"
     ]
    }
   ],
   "source": [
    "print(\"iL*Li:\\n\", iL.Euclidean_product('bra', ket=Li).summation())"
   ]
  },
  {
   "cell_type": "code",
   "execution_count": null,
   "metadata": {},
   "outputs": [],
   "source": []
  }
 ],
 "metadata": {
  "kernelspec": {
   "display_name": "Python 3",
   "language": "python",
   "name": "python3"
  },
  "language_info": {
   "codemirror_mode": {
    "name": "ipython",
    "version": 3
   },
   "file_extension": ".py",
   "mimetype": "text/x-python",
   "name": "python",
   "nbconvert_exporter": "python",
   "pygments_lexer": "ipython3",
   "version": "3.5.1"
  }
 },
 "nbformat": 4,
 "nbformat_minor": 2
}
