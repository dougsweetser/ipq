{
 "cells": [
  {
   "cell_type": "markdown",
   "metadata": {},
   "source": [
    "# The Space-Arrow of Space-time"
   ]
  },
  {
   "cell_type": "markdown",
   "metadata": {},
   "source": [
    "People have claimed Nature does not have an arrow for time. I don't think the question, as stated, is well-formed. Any analysis of the arrow of time for one observer will look like the arrow of space-time to another one moving relative to the first.\n",
    "\n",
    "Two different problems are often cited on this subject. The first is that the fundamental forces of the standard model - EM, the weak force, and the strong force - are unaltered by a change in the arrow of (space-)time. Second, that the Lorentz group can be used an arbitrary number of times and still flip the value of time precisely.\n",
    "\n",
    "In this short talk, I will show how keeping the space terms next to the time ones leads to the world we know, where space-time reversal does not come easy."
   ]
  },
  {
   "cell_type": "markdown",
   "metadata": {},
   "source": [
    "## Space-time Reversal in EM"
   ]
  },
  {
   "cell_type": "markdown",
   "metadata": {},
   "source": [
    "Let me provide a quick sketch of how to derive the Maxwell source equations, not just write them down like Minkowski did. The goal is to calculate the Lorentz invariant quantity $B^2 - E^2$, the difference of two squares. Based on high school algebra, this should be obtained by the product of the sum and difference of $E$ and $B$. Once one has this difference of squares, the Euler-Lagrange equations to derive Gauss's and Ampere's laws. \n",
    "\n",
    "Start all the ways a 4-potential can change in space-time (doesn't that sound general?):"
   ]
  },
  {
   "cell_type": "markdown",
   "metadata": {},
   "source": [
    "![](images/DA.png)"
   ]
  },
  {
   "cell_type": "markdown",
   "metadata": {},
   "source": [
    "The first term is a gauge field. Since photons are being studied, this gauge field has to be set to zero. For anything that is not a photon, this field will be non-zero. It is interesting to me that it is just \"naturally\" here. It can be zeroed out easily enough:"
   ]
  },
  {
   "cell_type": "markdown",
   "metadata": {},
   "source": [
    "![](images/DA_no_scalar_EB.png)"
   ]
  },
  {
   "cell_type": "markdown",
   "metadata": {},
   "source": [
    "By changing the order of the differential acting on the potential, only the magnetic field $B$ will change signs."
   ]
  },
  {
   "cell_type": "markdown",
   "metadata": {},
   "source": [
    "![](images/AD_no_scalar_EB.png)"
   ]
  },
  {
   "cell_type": "markdown",
   "metadata": {},
   "source": [
    "Form the product of these two:"
   ]
  },
  {
   "cell_type": "markdown",
   "metadata": {},
   "source": [
    "![](images/B2-E2.png)"
   ]
  },
  {
   "cell_type": "markdown",
   "metadata": {},
   "source": [
    "The first observation to make that everyone makes is that reversing time will never, ever change the value of the difference between the square of the magnetic field and the square of the electric field. That is what a square does. This is why one can conclude with confidence that the fundamental forces in physics are unaltered by changes in time. The weak and strong forces are mere variations on EM using other gauge groups."
   ]
  },
  {
   "cell_type": "markdown",
   "metadata": {},
   "source": [
    "The second observation that no one makes is that the Poynting vector is sitting right next door. The Poynting vector will change signs under time reversal. A complete analysis of EM must include the part that responds to time reversal. By omitting it, a mystery is claimed."
   ]
  },
  {
   "cell_type": "markdown",
   "metadata": {},
   "source": [
    "## Space-time Reversal is Locally Irreversible"
   ]
  },
  {
   "cell_type": "markdown",
   "metadata": {},
   "source": [
    "In this notebook, I will show two different ways how when one thinks about space-time reversal instead of just time reversal using space-time numbers, that such a system cannot be reversed an arbitrarily large number of times as is the case for the Lorentz group. First the tools need to work with space-time numbers have to loaded."
   ]
  },
  {
   "cell_type": "code",
   "execution_count": 1,
   "metadata": {},
   "outputs": [],
   "source": [
    "%%capture\n",
    "%matplotlib inline\n",
    "import numpy as np\n",
    "import sympy as sp\n",
    "import matplotlib.pyplot as plt\n",
    "\n",
    "# To get equations the look like, well, equations, use the following.\n",
    "from sympy.interactive import printing\n",
    "printing.init_printing(use_latex=True)\n",
    "from IPython.display import display\n",
    "\n",
    "# Tools for manipulating quaternions.\n",
    "import Q_tools as qt;"
   ]
  },
  {
   "cell_type": "markdown",
   "metadata": {},
   "source": [
    "The member of the Lorentz group that reverses time is remarkably simple: it is a matrix that has minus one in the upper diagonal position, positive one for the other diagonal positions, and zeros elsewhere."
   ]
  },
  {
   "cell_type": "code",
   "execution_count": 2,
   "metadata": {},
   "outputs": [
    {
     "data": {
      "text/plain": [
       "array([[-1,  0,  0,  0],\n",
       "       [ 0,  1,  0,  0],\n",
       "       [ 0,  0,  1,  0],\n",
       "       [ 0,  0,  0,  1]])"
      ]
     },
     "metadata": {},
     "output_type": "display_data"
    }
   ],
   "source": [
    "TimeReversal = np.array([[-1,0,0,0],[0,1,0,0],[0,0,1,0],[0,0,0,1]])\n",
    "display(TimeReversal)"
   ]
  },
  {
   "cell_type": "markdown",
   "metadata": {},
   "source": [
    "Create a 4-vector."
   ]
  },
  {
   "cell_type": "code",
   "execution_count": 3,
   "metadata": {},
   "outputs": [],
   "source": [
    "t, x, y, z = sp.symbols(\"t x y z\")"
   ]
  },
  {
   "cell_type": "code",
   "execution_count": 4,
   "metadata": {},
   "outputs": [
    {
     "data": {
      "text/plain": [
       "array([t, x, y, z], dtype=object)"
      ]
     },
     "metadata": {},
     "output_type": "display_data"
    }
   ],
   "source": [
    "Vector = np.array([t, x, y, z])\n",
    "display(Vector)"
   ]
  },
  {
   "cell_type": "code",
   "execution_count": 5,
   "metadata": {},
   "outputs": [
    {
     "data": {
      "text/plain": [
       "array([[-t, 0, 0, 0],\n",
       "       [0, x, 0, 0],\n",
       "       [0, 0, y, 0],\n",
       "       [0, 0, 0, z]], dtype=object)"
      ]
     },
     "metadata": {},
     "output_type": "display_data"
    }
   ],
   "source": [
    "display(Vector * TimeReversal)"
   ]
  },
  {
   "cell_type": "markdown",
   "metadata": {},
   "source": [
    "Do the time reversal a bunch of times."
   ]
  },
  {
   "cell_type": "code",
   "execution_count": 6,
   "metadata": {},
   "outputs": [
    {
     "data": {
      "text/plain": [
       "array([[t, 0, 0, 0],\n",
       "       [0, x, 0, 0],\n",
       "       [0, 0, y, 0],\n",
       "       [0, 0, 0, z]], dtype=object)"
      ]
     },
     "metadata": {},
     "output_type": "display_data"
    },
    {
     "data": {
      "text/plain": [
       "array([[-t, 0, 0, 0],\n",
       "       [0, x, 0, 0],\n",
       "       [0, 0, y, 0],\n",
       "       [0, 0, 0, z]], dtype=object)"
      ]
     },
     "metadata": {},
     "output_type": "display_data"
    }
   ],
   "source": [
    "display(Vector * TimeReversal * TimeReversal)\n",
    "display(Vector * TimeReversal * TimeReversal * TimeReversal)"
   ]
  },
  {
   "cell_type": "markdown",
   "metadata": {},
   "source": [
    "It comes as no surprise that if the time-reversal member of the Lorentz group is done an even number of times, then nothing changes, but an odd number of times reverses time exactly."
   ]
  },
  {
   "cell_type": "markdown",
   "metadata": {},
   "source": [
    "For the quaternion approach, one solves a pretty simple algebraic expression instead of using a global matrix. The equation to solve is:\n",
    "$$ P T_r = - P^* $$\n",
    "Solve for $T_r$:\n",
    "$$ T_r = - P^{-1} P^* $$"
   ]
  },
  {
   "cell_type": "code",
   "execution_count": 7,
   "metadata": {},
   "outputs": [
    {
     "data": {
      "image/png": "[encoded data removed]",
      "text/latex": [
       "$$- \\frac{1.0 t^{2}}{t^{2} + x^{2} + y^{2} + z^{2}} + \\frac{1.0 x^{2}}{t^{2} + x^{2} + y^{2} + z^{2}} + \\frac{1.0 y^{2}}{t^{2} + x^{2} + y^{2} + z^{2}} + \\frac{1.0 z^{2}}{t^{2} + x^{2} + y^{2} + z^{2}}$$"
      ],
      "text/plain": [
       "             2                   2                   2                   2    \n",
       "        1.0⋅t               1.0⋅x               1.0⋅y               1.0⋅z     \n",
       "- ───────────────── + ───────────────── + ───────────────── + ────────────────\n",
       "   2    2    2    2    2    2    2    2    2    2    2    2    2    2    2    \n",
       "  t  + x  + y  + z    t  + x  + y  + z    t  + x  + y  + z    t  + x  + y  + z\n",
       "\n",
       " \n",
       " \n",
       "─\n",
       "2\n",
       " "
      ]
     },
     "metadata": {},
     "output_type": "display_data"
    },
    {
     "data": {
      "image/png": "[encoded data removed]",
      "text/latex": [
       "$$\\frac{2.0 t x}{t^{2} + x^{2} + y^{2} + z^{2}}$$"
      ],
      "text/plain": [
       "     2.0⋅t⋅x     \n",
       "─────────────────\n",
       " 2    2    2    2\n",
       "t  + x  + y  + z "
      ]
     },
     "metadata": {},
     "output_type": "display_data"
    },
    {
     "data": {
      "image/png": "[encoded data removed]",
      "text/latex": [
       "$$\\frac{2.0 t y}{t^{2} + x^{2} + y^{2} + z^{2}}$$"
      ],
      "text/plain": [
       "     2.0⋅t⋅y     \n",
       "─────────────────\n",
       " 2    2    2    2\n",
       "t  + x  + y  + z "
      ]
     },
     "metadata": {},
     "output_type": "display_data"
    },
    {
     "data": {
      "image/png": "[encoded data removed]",
      "text/latex": [
       "$$\\frac{2.0 t z}{t^{2} + x^{2} + y^{2} + z^{2}}$$"
      ],
      "text/plain": [
       "     2.0⋅t⋅z     \n",
       "─────────────────\n",
       " 2    2    2    2\n",
       "t  + x  + y  + z "
      ]
     },
     "metadata": {},
     "output_type": "display_data"
    }
   ],
   "source": [
    "P = qt.QH([t, x, y, z])\n",
    "Tr = P.flip_signs().invert().product(P.conj())\n",
    "display(Tr.t)\n",
    "display(Tr.x)\n",
    "display(Tr.y)\n",
    "display(Tr.z)"
   ]
  },
  {
   "cell_type": "markdown",
   "metadata": {},
   "source": [
    "Does this considerably more complicated expression than the Lorentz group do its job? Of course is **should**, but let's just show this is the case:"
   ]
  },
  {
   "cell_type": "code",
   "execution_count": 8,
   "metadata": {},
   "outputs": [
    {
     "data": {
      "image/png": "[encoded data removed]",
      "text/latex": [
       "$$- 1.0 t$$"
      ],
      "text/plain": [
       "-1.0⋅t"
      ]
     },
     "metadata": {},
     "output_type": "display_data"
    },
    {
     "data": {
      "image/png": "[encoded data removed]",
      "text/latex": [
       "$$1.0 x$$"
      ],
      "text/plain": [
       "1.0⋅x"
      ]
     },
     "metadata": {},
     "output_type": "display_data"
    },
    {
     "data": {
      "image/png": "[encoded data removed]",
      "text/latex": [
       "$$1.0 y$$"
      ],
      "text/plain": [
       "1.0⋅y"
      ]
     },
     "metadata": {},
     "output_type": "display_data"
    },
    {
     "data": {
      "image/png": "[encoded data removed]",
      "text/latex": [
       "$$1.0 z$$"
      ],
      "text/plain": [
       "1.0⋅z"
      ]
     },
     "metadata": {},
     "output_type": "display_data"
    }
   ],
   "source": [
    "PFlip = P.product(Tr)\n",
    "display(sp.simplify(PFlip.t))\n",
    "display(sp.simplify(PFlip.x))\n",
    "display(sp.simplify(PFlip.y))\n",
    "display(sp.simplify(PFlip.z))"
   ]
  },
  {
   "cell_type": "markdown",
   "metadata": {},
   "source": [
    "Apply Tr twice to see if one gets back to the start point."
   ]
  },
  {
   "cell_type": "code",
   "execution_count": 9,
   "metadata": {},
   "outputs": [
    {
     "data": {
      "image/png": "[encoded data removed]",
      "text/latex": [
       "$$- \\frac{1.0 t \\left(- 1.0 t^{2} + 3.0 x^{2} + 3.0 y^{2} + 3.0 z^{2}\\right)}{t^{2} + x^{2} + y^{2} + z^{2}}$$"
      ],
      "text/plain": [
       "       ⎛       2        2        2        2⎞ \n",
       "-1.0⋅t⋅⎝- 1.0⋅t  + 3.0⋅x  + 3.0⋅y  + 3.0⋅z ⎠ \n",
       "─────────────────────────────────────────────\n",
       "               2    2    2    2              \n",
       "              t  + x  + y  + z               "
      ]
     },
     "metadata": {},
     "output_type": "display_data"
    },
    {
     "data": {
      "image/png": "[encoded data removed]",
      "text/latex": [
       "$$\\frac{1.0 x \\left(- 3.0 t^{2} + 1.0 x^{2} + 1.0 y^{2} + 1.0 z^{2}\\right)}{t^{2} + x^{2} + y^{2} + z^{2}}$$"
      ],
      "text/plain": [
       "      ⎛       2        2        2        2⎞\n",
       "1.0⋅x⋅⎝- 3.0⋅t  + 1.0⋅x  + 1.0⋅y  + 1.0⋅z ⎠\n",
       "───────────────────────────────────────────\n",
       "              2    2    2    2             \n",
       "             t  + x  + y  + z              "
      ]
     },
     "metadata": {},
     "output_type": "display_data"
    },
    {
     "data": {
      "image/png": "[encoded data removed]",
      "text/latex": [
       "$$\\frac{1.0 y \\left(- 3.0 t^{2} + 1.0 x^{2} + 1.0 y^{2} + 1.0 z^{2}\\right)}{t^{2} + x^{2} + y^{2} + z^{2}}$$"
      ],
      "text/plain": [
       "      ⎛       2        2        2        2⎞\n",
       "1.0⋅y⋅⎝- 3.0⋅t  + 1.0⋅x  + 1.0⋅y  + 1.0⋅z ⎠\n",
       "───────────────────────────────────────────\n",
       "              2    2    2    2             \n",
       "             t  + x  + y  + z              "
      ]
     },
     "metadata": {},
     "output_type": "display_data"
    },
    {
     "data": {
      "image/png": "[encoded data removed]",
      "text/latex": [
       "$$\\frac{1.0 z \\left(- 3.0 t^{2} + 1.0 x^{2} + 1.0 y^{2} + 1.0 z^{2}\\right)}{t^{2} + x^{2} + y^{2} + z^{2}}$$"
      ],
      "text/plain": [
       "      ⎛       2        2        2        2⎞\n",
       "1.0⋅z⋅⎝- 3.0⋅t  + 1.0⋅x  + 1.0⋅y  + 1.0⋅z ⎠\n",
       "───────────────────────────────────────────\n",
       "              2    2    2    2             \n",
       "             t  + x  + y  + z              "
      ]
     },
     "metadata": {},
     "output_type": "display_data"
    }
   ],
   "source": [
    "PFlipFlip = P.product(Tr).product(Tr)\n",
    "display(sp.simplify(PFlipFlip.t))\n",
    "display(sp.simplify(PFlipFlip.x))\n",
    "display(sp.simplify(PFlipFlip.y))\n",
    "display(sp.simplify(PFlipFlip.z))"
   ]
  },
  {
   "cell_type": "markdown",
   "metadata": {},
   "source": [
    "This may not look \"right\" to the eye, so test it. Use \"classical\" values, meaning time $t >>> x, y, z$. "
   ]
  },
  {
   "cell_type": "code",
   "execution_count": 10,
   "metadata": {},
   "outputs": [
    {
     "data": {
      "image/png": "[encoded data removed]",
      "text/latex": [
       "$$-1.0$$"
      ],
      "text/plain": [
       "-1.00000000000000"
      ]
     },
     "metadata": {},
     "output_type": "display_data"
    },
    {
     "data": {
      "image/png": "[encoded data removed]",
      "text/latex": [
       "$$2.0 \\cdot 10^{-10}$$"
      ],
      "text/plain": [
       "2.00000000000000e-10"
      ]
     },
     "metadata": {},
     "output_type": "display_data"
    },
    {
     "data": {
      "image/png": "[encoded data removed]",
      "text/latex": [
       "$$1.2 \\cdot 10^{-10}$$"
      ],
      "text/plain": [
       "1.20000000000000e-10"
      ]
     },
     "metadata": {},
     "output_type": "display_data"
    },
    {
     "data": {
      "image/png": "[encoded data removed]",
      "text/latex": [
       "$$-3.0 \\cdot 10^{-10}$$"
      ],
      "text/plain": [
       "-3.00000000000000e-10"
      ]
     },
     "metadata": {},
     "output_type": "display_data"
    },
    {
     "name": "stdout",
     "output_type": "stream",
     "text": [
      "\n"
     ]
    },
    {
     "data": {
      "image/png": "[encoded data removed]",
      "text/latex": [
       "$$1.0$$"
      ],
      "text/plain": [
       "1.00000000000000"
      ]
     },
     "metadata": {},
     "output_type": "display_data"
    },
    {
     "data": {
      "image/png": "[encoded data removed]",
      "text/latex": [
       "$$-6.0 \\cdot 10^{-10}$$"
      ],
      "text/plain": [
       "-6.00000000000000e-10"
      ]
     },
     "metadata": {},
     "output_type": "display_data"
    },
    {
     "data": {
      "image/png": "[encoded data removed]",
      "text/latex": [
       "$$-3.6 \\cdot 10^{-10}$$"
      ],
      "text/plain": [
       "-3.60000000000000e-10"
      ]
     },
     "metadata": {},
     "output_type": "display_data"
    },
    {
     "data": {
      "image/png": "[encoded data removed]",
      "text/latex": [
       "$$9.0 \\cdot 10^{-10}$$"
      ],
      "text/plain": [
       "9.00000000000000e-10"
      ]
     },
     "metadata": {},
     "output_type": "display_data"
    }
   ],
   "source": [
    "Classical_subs = {t:1, x:0.0000000002, y:0.00000000012, z:-0.0000000003}\n",
    "display(sp.simplify(PFlip.t.subs(Classical_subs)))\n",
    "display(sp.simplify(PFlip.x.subs(Classical_subs)))\n",
    "display(sp.simplify(PFlip.y.subs(Classical_subs)))\n",
    "display(sp.simplify(PFlip.z.subs(Classical_subs)))\n",
    "print()\n",
    "display(sp.simplify(PFlipFlip.t.subs(Classical_subs)))\n",
    "display(sp.simplify(PFlipFlip.x.subs(Classical_subs)))\n",
    "display(sp.simplify(PFlipFlip.y.subs(Classical_subs)))\n",
    "display(sp.simplify(PFlipFlip.z.subs(Classical_subs)))"
   ]
  },
  {
   "cell_type": "markdown",
   "metadata": {},
   "source": [
    "The value for t returned to unity as it should, but the same cannot be said for the spatial terms. This is due to the cross product. See what happens if one does this many, many times. Define a function to do the work."
   ]
  },
  {
   "cell_type": "code",
   "execution_count": 11,
   "metadata": {
    "scrolled": true
   },
   "outputs": [],
   "source": [
    "def reverse_n_times(P1, T1, sub_1, n):\n",
    "    \"\"\"Given a symbolic expression P, applies symbolic space-time reversal using a dictionary of values n times.\"\"\"\n",
    "\n",
    "    P1_t, P1_x, P1_y, P1_z = P1.t.subs(sub_1), P1.x.subs(sub_1), P1.y.subs(sub_1), P1.z.subs(sub_1)\n",
    "    P_result = qt.QH([P1_t, P1_x, P1_y, P1_z])\n",
    "    \n",
    "    T1_t, T1_x, T1_y, T1_z = T1.t.subs(sub_1), T1.x.subs(sub_1), T1.y.subs(sub_1), T1.z.subs(sub_1)\n",
    "    T_sub = qt.QH([T1_t, T1_x, T1_y, T1_z])\n",
    "\n",
    "    for i in range(n):\n",
    "        P_result = P_result.product(T_sub)\n",
    "        \n",
    "    return P_result"
   ]
  },
  {
   "cell_type": "code",
   "execution_count": 12,
   "metadata": {},
   "outputs": [
    {
     "name": "stdout",
     "output_type": "stream",
     "text": [
      "(1.00000000000000, -3.97999999999999E-8, -2.38800000000001E-8, 5.96999999999999E-8) ...\n",
      "(-1.00000000000000, 4.01999999999999E-8, 2.41200000000001E-8, -6.02999999999999E-8) ...\n",
      "(0.999999999999712, -3.99799999999961E-7, -2.39879999999978E-7, 5.99699999999939E-7) ...\n",
      "(-0.999999999999712, 4.00199999999961E-7, 2.40119999999978E-7, -6.00299999999938E-7) ...\n"
     ]
    }
   ],
   "source": [
    "print(reverse_n_times(P, Tr, Classical_subs, 100))\n",
    "print(reverse_n_times(P, Tr, Classical_subs, 101))\n",
    "print(reverse_n_times(P, Tr, Classical_subs, 1000))\n",
    "print(reverse_n_times(P, Tr, Classical_subs, 1001))"
   ]
  },
  {
   "cell_type": "code",
   "execution_count": null,
   "metadata": {},
   "outputs": [
    {
     "name": "stdout",
     "output_type": "stream",
     "text": [
      "(0.999999999971126, -0.00000399979999996151, -0.00000239987999997690, 0.00000599969999994228) ...\n",
      "(0.999999997112059, -0.0000399997999614952, -0.0000239998799768971, 0.0000599996999422425) ...\n"
     ]
    }
   ],
   "source": [
    "print(reverse_n_times(P, Tr, Classical_subs, 10000))\n",
    "print(reverse_n_times(P, Tr, Classical_subs, 100000))"
   ]
  },
  {
   "cell_type": "code",
   "execution_count": null,
   "metadata": {},
   "outputs": [
    {
     "name": "stdout",
     "output_type": "stream",
     "text": [
      "(0.999999711200594, -0.000399999761493507, -0.000239999856896105, 0.000599999642240260) ...\n"
     ]
    }
   ],
   "source": [
    "print(reverse_n_times(P, Tr, Classical_subs, 1000000))\n",
    "print(reverse_n_times(P, Tr, Classical_subs, 10000000))"
   ]
  }
 ],
 "metadata": {
  "kernelspec": {
   "display_name": "Python 3",
   "language": "python",
   "name": "python3"
  },
  "language_info": {
   "codemirror_mode": {
    "name": "ipython",
    "version": 3
   },
   "file_extension": ".py",
   "mimetype": "text/x-python",
   "name": "python",
   "nbconvert_exporter": "python",
   "pygments_lexer": "ipython3",
   "version": "3.5.1"
  }
 },
 "nbformat": 4,
 "nbformat_minor": 2
}
