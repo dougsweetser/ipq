{
 "cells": [
  {
   "cell_type": "markdown",
   "metadata": {},
   "source": [
    "# A Padantic Introduction to the Quaternion Gravity Proposal"
   ]
  },
  {
   "cell_type": "markdown",
   "metadata": {},
   "source": [
    "The quaternion gravity proposal is the imaginary twin of special relativity. Two observers record the difference between two events. When the difference written as quaternion is squared, if the real interval is identical and thus the imaginary parts hereby called space-times-time must have difference, this is the domain of special relativity. Special relativity is viewed as an equivalence class for the real part which uses a Lorentz transformation to go between the two. The space-times-time can be used to determine exactly the relative motion of the two observers."
   ]
  },
  {
   "cell_type": "markdown",
   "metadata": {},
   "source": [
    "If the space-times-time values are identical, the real interval is different. This is what happens seamingly by chance in general relativity for the Schwarzschild solution in Schwarzschild coordinates outside a static, uncharged, non-rotating spherically-symmetric gravitational source mass. In the quaternion gravity proposal, observers that agree on the three space-times-time values is the equivalence class for gravity. Since this is an eqivalence class, there is a transformation that can be constructed between the two."
   ]
  },
  {
   "cell_type": "markdown",
   "metadata": {},
   "source": [
    "In this notebook/blog, I will go through some detail to demonstrate these two equivalence classes."
   ]
  },
  {
   "cell_type": "markdown",
   "metadata": {},
   "source": [
    "## Calculation Tools\n",
    "\n",
    "In the past, I used Mathematica to confirm my algebra was correct (it has caught errors in the past). The software used to be crazy expensive (~\\$2k), but has come down in price (\\$300). Still, I would prefer to use an open source project. This motivated me to look into the iPython Notebook. Since I am a fan of the Python language, I took a closer look. I am quite impressed at the current state of affairs. It looked easy to mix and match real python code with text and images. But how to get iPython Notebook up and running? Anaconda.org is a commercial company that provides a free python environment. They are trying to get by through paid support and cloud services for companies. I liked that after installing anaconda, running \"jupyter notebook\" just worked. Jupyter is the notebook that then attaches to a variety of math tools of your choosing. This blog is being drafted as an iPython Notebook."
   ]
  },
  {
   "cell_type": "markdown",
   "metadata": {},
   "source": [
    "I decided to create my own tools for quaternions from scratch. Why? This is the opening few paragraphs of my \"Q_tool_devo\" notebook:"
   ]
  },
  {
   "cell_type": "markdown",
   "metadata": {},
   "source": [
    "    In this notebook, tools for working with quaternions for physics issues are developed. The class Qh treat quaternions as Hamilton would have done: as a 4-vector over the real numbers."
   ]
  },
  {
   "cell_type": "markdown",
   "metadata": {},
   "source": [
    "    In physics, group theory plays a central role in the fundamental forces of Nature via the standard model. The  gauge symmetry U(1) a unit circle in the complex plane leads to electric charge conservation. The unit quaternions SU(2) is the symmetry needed for the weak force which leads to beta decay. The group SU(3) is the symmetry of the strong force that keeps a nucleus together."
   ]
  },
  {
   "cell_type": "markdown",
   "metadata": {},
   "source": [
    "    The class Qq was written in the hope that group theory would be written in first, not added as needed later. I call these \"space-time numbers\". The problem with such an approach is that one does not use the mathematical field of real numbers. Instead one relies on the set of positive reals. In some ways, this is like reverse engineering some basic computer science. Libraries written in C have a notion of a signed versus unsigned integer. The signed integer behaves like the familiar integers. The unsigned integer is like the positive integers. The difference between the two is whether there is a placeholder for the sign or not. All floats are signed. The modulo operations that work for unsigned integers does not work for floats."
   ]
  },
  {
   "cell_type": "markdown",
   "metadata": {},
   "source": [
    "     Test driven development was used. The same tests for class Qh were used for Qq.  Either class can be used to study quaternions in physics."
   ]
  },
  {
   "cell_type": "markdown",
   "metadata": {},
   "source": [
    "Here is a list of the functions that were written for the Qq classes:"
   ]
  },
  {
   "cell_type": "markdown",
   "metadata": {},
   "source": [
    "    abs_of_q, abs_of_vector, add, all_products, anti_commuting_products, boost, commuting_products, conj, dif, divide_by, g_shift, invert, norm, norm_of_vector, product, q4, q_one, q_zero, reduce, rotate, square, and triple_product."
   ]
  },
  {
   "cell_type": "markdown",
   "metadata": {},
   "source": [
    "Like all long list, this makes for dull prose. I had a little fun breaking up the multiplication product into the commuting and anticommuting parts."
   ]
  },
  {
   "cell_type": "markdown",
   "metadata": {},
   "source": [
    "The most unusual method is \"reduce\". The Qq class uses 8 positive numbers to represent a quaternion. Any number can be represented an inifinite number of ways, so long as the difference between the positive and negative number remains the same. There is however only one reduced form for a number. That will have either the positive or its additive inverse set to zero (both can be zero also). It is mildly amusing to see a complicated calculation that fills up all eight slots that after the reduce step ends up with precisely the same result as appears from the Qh or Hamilton quaternion class that uses real numbers. It feels uncomfortable to me to see these eight numbers since it is not my experience with calculations. Numbers in Nature do deeply odd things (think of the great boson/fermion divide in how states should be filled). "
   ]
  },
  {
   "cell_type": "markdown",
   "metadata": {},
   "source": [
    "I program using a method called Test Driven Development. This means that all methods get a test so one knows each piece is working. That is critcal with programs since one typo will means a tool does not work as expected. The same tests were applied to the Hamilton Qq class as the Quaternion Group Q<sub>8</sub> class Qq. The reduced form of all Qq calculations are the same as the Qh class."
   ]
  },
  {
   "cell_type": "markdown",
   "metadata": {},
   "source": [
    "If you have any interst it playing with the iPython notebook, feel free to clone it:\n",
    "\n",
    "git clone https://github.com/dougsweetser/ipq"
   ]
  },
  {
   "cell_type": "markdown",
   "metadata": {},
   "source": [
    "## Equivalence classes\n",
    "\n",
    "An equivalence class is part of set theory. Take a big set, carve it up into subsets, and a subset is an equivalence class. One uses an equivalence relation to determine if something is in a subset. As usual, you can [read more about that on wikipedia](https://en.wikipedia.org/wiki/Equivalence_class)."
   ]
  },
  {
   "cell_type": "markdown",
   "metadata": {},
   "source": [
    "Start simple with the future equivalence class $[f]$. To be a member, all that an event needs is a positive measure of time."
   ]
  },
  {
   "cell_type": "markdown",
   "metadata": {},
   "source": [
    "$$[f] = \\{ q \\in Q \\,|\\, f \\sim q \\;\\rm{if} \\; \\rm{Re}(q) > 0 \\}$$"
   ]
  },
  {
   "cell_type": "markdown",
   "metadata": {},
   "source": [
    "One can define an exact future class $[f_e]$ where two points are in the future the exact same amount:"
   ]
  },
  {
   "cell_type": "markdown",
   "metadata": {},
   "source": [
    "$$[f_e] = \\{ q \\in Q \\,|\\, f_e \\sim q \\;\\rm{if} \\; \\rm{Re}(q) > 0 \\; \\rm{and} \\; \\rm{Re}(q) = \\rm{Re}(f_e)\\}$$"
   ]
  },
  {
   "cell_type": "markdown",
   "metadata": {},
   "source": [
    "One question can be asked of a pair of quaternions: are they both in the future equivalence class, and if so, are they exactly equal to one another? This type of question was particularly easy to ask of with the Qq class in the reduced form. They would both be positive in the future if they had a non-zero time value. In the case that both were in the future, then one could ask futher if the values were the same, up to a defined rounding error. The computer code felt like it was doing basic set theory: a pair of numbers was in or out. No inequalities were needed."
   ]
  },
  {
   "cell_type": "markdown",
   "metadata": {},
   "source": [
    "The two classes are easy enough to graph:"
   ]
  },
  {
   "cell_type": "markdown",
   "metadata": {},
   "source": [
    "![sdf](https://raw.githubusercontent.com/dougsweetser/ipq/master/q_notebook/images/eq_classes/time_future_future_exact.png)"
   ]
  },
  {
   "cell_type": "markdown",
   "metadata": {},
   "source": [
    "Figuring out if a pair of events are both in the past works the same. This time one looks to see if they both have non-zero values in the additive invserse (aka negative) time slot of the Qq class. The same function was used, but telling the function to look at the additive inverses."
   ]
  },
  {
   "cell_type": "markdown",
   "metadata": {},
   "source": [
    "One can also see if both numbers are neither positive or negative. That only happens if the value of time is zero, or now. If so, the pair events gets marked as now exact."
   ]
  },
  {
   "cell_type": "markdown",
   "metadata": {},
   "source": [
    "Plucking events at random, the most common situation is that a pair of events would be disjoint: one in the future, the ohter in the past. This was the default case that resulted after all the other situations were investigated."
   ]
  },
  {
   "cell_type": "markdown",
   "metadata": {},
   "source": [
    "The 6 questions - are you both positive, if so, exact, negative, if so exact, both zeroes or disjoint - can be asked for the three spatial dimensions: left versus right, up versus down, and near versus far. All use the same function to figure out which is the winning equivalence class (although disjoint is not an equivance class)."
   ]
  },
  {
   "cell_type": "markdown",
   "metadata": {},
   "source": [
    "![](https://raw.githubusercontent.com/dougsweetser/ipq/master/q_notebook/images/eq_classes/space_classes.png)"
   ]
  },
  {
   "cell_type": "markdown",
   "metadata": {},
   "source": [
    "The equivalence class EQ is fed 2 quaternions. It reduces these two to deal with the future/past, left/right, up/down, and near/far equivalance classes. It also calculates the reduced square. With the reduced square calculated, one can asked if the first term of the square both have positive values. If true, then both are time-like events."
   ]
  },
  {
   "cell_type": "markdown",
   "metadata": {},
   "source": [
    "![](https://raw.githubusercontent.com/dougsweetser/ipq/master/q_notebook/images/eq_classes/causality_time-like_time-like_exact.png)"
   ]
  },
  {
   "cell_type": "markdown",
   "metadata": {},
   "source": [
    "Of course it might be the case that the events were both space-like separated because the first term of the square was negative:"
   ]
  },
  {
   "cell_type": "markdown",
   "metadata": {},
   "source": [
    "![](images/eq_classes/causality_space-like_space-like_exact.png)\n",
    "\n"
   ]
  },
  {
   "cell_type": "code",
   "execution_count": null,
   "metadata": {
    "collapsed": true
   },
   "outputs": [],
   "source": []
  },
  {
   "cell_type": "code",
   "execution_count": null,
   "metadata": {
    "collapsed": true
   },
   "outputs": [],
   "source": []
  }
 ],
 "metadata": {
  "kernelspec": {
   "display_name": "Python 3",
   "language": "python",
   "name": "python3"
  },
  "language_info": {
   "codemirror_mode": {
    "name": "ipython",
    "version": 3
   },
   "file_extension": ".py",
   "mimetype": "text/x-python",
   "name": "python",
   "nbconvert_exporter": "python",
   "pygments_lexer": "ipython3",
   "version": "3.5.1"
  }
 },
 "nbformat": 4,
 "nbformat_minor": 0
}
