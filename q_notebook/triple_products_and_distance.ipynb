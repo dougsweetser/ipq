{
 "cells": [
  {
   "cell_type": "markdown",
   "metadata": {},
   "source": [
    "# Quaternion Triple Products and Distance"
   ]
  },
  {
   "cell_type": "markdown",
   "metadata": {},
   "source": [
    "by Doug Sweetser, sweetser@alum.mit.edu - please feel free to email"
   ]
  },
  {
   "cell_type": "markdown",
   "metadata": {},
   "source": [
    "In this IPython notebook, efforts will be made to understand quaternion triple products and how they are related to distances in space and intervals in space-time as seen in special relativity. Rather than follow a historical story, I will try a more abstract approach. Initialize a few tools."
   ]
  },
  {
   "cell_type": "code",
   "execution_count": 1,
   "metadata": {},
   "outputs": [],
   "source": [
    "%%capture\n",
    "%matplotlib inline\n",
    "import numpy as np\n",
    "import sympy as sp\n",
    "import matplotlib.pyplot as plt\n",
    "\n",
    "# To get equations the look like, well, equations, use the following.\n",
    "from sympy.interactive import printing\n",
    "printing.init_printing(use_latex=True)\n",
    "from IPython.display import display\n",
    "\n",
    "# Tools for manipulating quaternions.\n",
    "import Q_tool_devo as qtd;"
   ]
  },
  {
   "cell_type": "markdown",
   "metadata": {},
   "source": [
    "## Spatial Rotations"
   ]
  },
  {
   "cell_type": "markdown",
   "metadata": {},
   "source": [
    "Define a triple product function modeled on what it takes to do a spatial rotation, $P R P^*$, where $R$ is a quaternion to be spatially rotated and $P$ is a quaternion parameter to do said rotation."
   ]
  },
  {
   "cell_type": "code",
   "execution_count": 2,
   "metadata": {},
   "outputs": [],
   "source": [
    "def triple_sandwich(r, p=qtd.QH([1, 0, 0, 0])):\n",
    "    \"\"\"A function that takes 2 quaternions but does a triple product. The default value for P leaves R unchanged.\"\"\"\n",
    "\n",
    "    return p.product(r.product(p.conj()))"
   ]
  },
  {
   "cell_type": "code",
   "execution_count": 3,
   "metadata": {},
   "outputs": [
    {
     "data": {
      "image/png": "[encoded data removed]",
      "text/latex": [
       "$$t \\left(s^{2} + u^{2} + v^{2} + w^{2}\\right)$$"
      ],
      "text/plain": [
       "  ⎛ 2    2    2    2⎞\n",
       "t⋅⎝s  + u  + v  + w ⎠"
      ]
     },
     "execution_count": 3,
     "metadata": {},
     "output_type": "execute_result"
    }
   ],
   "source": [
    "t, x, y, z = sp.symbols(\"t x y z\")\n",
    "s, u, v, w = sp.symbols(\"s u v w\")\n",
    "\n",
    "R = qtd.QH([t, x, y, z])\n",
    "P = qtd.QH([s, u, v, w])\n",
    "RP_sandwich = triple_sandwich(R, P)\n",
    "sp.simplify(RP_sandwich.t)"
   ]
  },
  {
   "cell_type": "markdown",
   "metadata": {},
   "source": [
    "The first term is just the norm of the parameter $P$ times the scalar value of $R$, how simple! Rotating a value is complicated."
   ]
  },
  {
   "cell_type": "code",
   "execution_count": 4,
   "metadata": {},
   "outputs": [
    {
     "data": {
      "image/png": "[encoded data removed]",
      "text/latex": [
       "$$s^{2} x + 2 s v z - 2 s w y + u^{2} x + 2 u v y + 2 u w z - v^{2} x - w^{2} x$$"
      ],
      "text/plain": [
       " 2                          2                          2      2  \n",
       "s ⋅x + 2⋅s⋅v⋅z - 2⋅s⋅w⋅y + u ⋅x + 2⋅u⋅v⋅y + 2⋅u⋅w⋅z - v ⋅x - w ⋅x"
      ]
     },
     "execution_count": 4,
     "metadata": {},
     "output_type": "execute_result"
    }
   ],
   "source": [
    "sp.simplify(RP_sandwich.x)"
   ]
  },
  {
   "cell_type": "markdown",
   "metadata": {},
   "source": [
    "Show the interval of $R$ is unchanged up to the norm of the parameter $P$:"
   ]
  },
  {
   "cell_type": "code",
   "execution_count": 5,
   "metadata": {},
   "outputs": [
    {
     "data": {
      "image/png": "[encoded data removed]",
      "text/latex": [
       "$$\\left(s^{2} + u^{2} + v^{2} + w^{2}\\right)^{2} \\left(t^{2} - x^{2} - y^{2} - z^{2}\\right)$$"
      ],
      "text/plain": [
       "                   2                    \n",
       "⎛ 2    2    2    2⎞  ⎛ 2    2    2    2⎞\n",
       "⎝s  + u  + v  + w ⎠ ⋅⎝t  - x  - y  - z ⎠"
      ]
     },
     "execution_count": 5,
     "metadata": {},
     "output_type": "execute_result"
    }
   ],
   "source": [
    "sp.simplify(sp.factor(RP_sandwich.square().t))"
   ]
  },
  {
   "cell_type": "markdown",
   "metadata": {},
   "source": [
    "The interval will be invariant so long as the norm of the parameter $P$ is equal to one. A common way to do this is to use sine and cosine functions due to the trig identity $\\sin^2(\\theta) + \\cos^2(\\theta) = 1$."
   ]
  },
  {
   "cell_type": "code",
   "execution_count": 6,
   "metadata": {},
   "outputs": [],
   "source": [
    "def triple_trig_z(r, a):\n",
    "    \"\"\"A rotation around the z axis only by the double angle of a.\"\"\"\n",
    "    \n",
    "    return triple_sandwich(r, qtd.QH([sp.cos(a), 0, 0, sp.sin(a)]))\n",
    "\n",
    "def is_quadratic(r):\n",
    "    \"\"\"Tests if the the first term of the square of a quaternion is equal to t^2 - x^2 - y^2 - z^2.\"\"\"\n",
    "    \n",
    "    r2 = r.square()\n",
    "    simple_r2 = sp.simplify(r2.t)\n",
    "    it_is = ((simple_r2 == 1.0*t**2 - 1.0*x**2 - 1.0*y**2 - 1.0*z**2) \n",
    "             or (simple_r2 == t**2 - x**2 - y**2 - z**2))\n",
    "    \n",
    "    if it_is:\n",
    "        display(t**2 - x**2 - y**2 - z**2)\n",
    "    else:\n",
    "        display(simple_r2)\n",
    "        \n",
    "    return it_is"
   ]
  },
  {
   "cell_type": "code",
   "execution_count": 7,
   "metadata": {},
   "outputs": [
    {
     "data": {
      "image/png": "[encoded data removed]",
      "text/latex": [
       "$$t$$"
      ],
      "text/plain": [
       "t"
      ]
     },
     "metadata": {},
     "output_type": "display_data"
    },
    {
     "data": {
      "image/png": "[encoded data removed]",
      "text/latex": [
       "$$x \\cos{\\left (2 α \\right )} - y \\sin{\\left (2 α \\right )}$$"
      ],
      "text/plain": [
       "x⋅cos(2⋅α) - y⋅sin(2⋅α)"
      ]
     },
     "metadata": {},
     "output_type": "display_data"
    },
    {
     "data": {
      "image/png": "[encoded data removed]",
      "text/latex": [
       "$$x \\sin{\\left (2 α \\right )} + y \\cos{\\left (2 α \\right )}$$"
      ],
      "text/plain": [
       "x⋅sin(2⋅α) + y⋅cos(2⋅α)"
      ]
     },
     "metadata": {},
     "output_type": "display_data"
    },
    {
     "data": {
      "image/png": "[encoded data removed]",
      "text/latex": [
       "$$z$$"
      ],
      "text/plain": [
       "z"
      ]
     },
     "metadata": {},
     "output_type": "display_data"
    },
    {
     "data": {
      "image/png": "[encoded data removed]",
      "text/latex": [
       "$$t^{2} - x^{2} - y^{2} - z^{2}$$"
      ],
      "text/plain": [
       " 2    2    2    2\n",
       "t  - x  - y  - z "
      ]
     },
     "metadata": {},
     "output_type": "display_data"
    },
    {
     "data": {
      "text/plain": [
       "True"
      ]
     },
     "execution_count": 7,
     "metadata": {},
     "output_type": "execute_result"
    }
   ],
   "source": [
    "α = sp.Symbol('α')\n",
    "display(sp.simplify(triple_trig_z(R, α).t))\n",
    "display(sp.simplify(triple_trig_z(R, α).x))\n",
    "display(sp.simplify(triple_trig_z(R, α).y))\n",
    "display(sp.simplify(triple_trig_z(R, α).z))\n",
    "is_quadratic(triple_trig_z(R, α))"
   ]
  },
  {
   "cell_type": "markdown",
   "metadata": {},
   "source": [
    "An important thing to notice is that rotations work for arbitrarily small values of an angle."
   ]
  },
  {
   "cell_type": "code",
   "execution_count": 8,
   "metadata": {},
   "outputs": [
    {
     "data": {
      "image/png": "[encoded data removed]",
      "text/latex": [
       "$$1.0 t$$"
      ],
      "text/plain": [
       "1.0⋅t"
      ]
     },
     "metadata": {},
     "output_type": "display_data"
    },
    {
     "data": {
      "image/png": "[encoded data removed]",
      "text/latex": [
       "$$0.999800006666578 x - 0.0199986666933331 y$$"
      ],
      "text/plain": [
       "0.999800006666578⋅x - 0.0199986666933331⋅y"
      ]
     },
     "metadata": {},
     "output_type": "display_data"
    },
    {
     "data": {
      "image/png": "[encoded data removed]",
      "text/latex": [
       "$$0.0199986666933331 x + 0.999800006666578 y$$"
      ],
      "text/plain": [
       "0.0199986666933331⋅x + 0.999800006666578⋅y"
      ]
     },
     "metadata": {},
     "output_type": "display_data"
    },
    {
     "data": {
      "image/png": "[encoded data removed]",
      "text/latex": [
       "$$1.0 z$$"
      ],
      "text/plain": [
       "1.0⋅z"
      ]
     },
     "metadata": {},
     "output_type": "display_data"
    },
    {
     "data": {
      "image/png": "[encoded data removed]",
      "text/latex": [
       "$$t^{2} - x^{2} - y^{2} - z^{2}$$"
      ],
      "text/plain": [
       " 2    2    2    2\n",
       "t  - x  - y  - z "
      ]
     },
     "metadata": {},
     "output_type": "display_data"
    },
    {
     "data": {
      "text/plain": [
       "True"
      ]
     },
     "execution_count": 8,
     "metadata": {},
     "output_type": "execute_result"
    }
   ],
   "source": [
    "display(sp.simplify(triple_trig_z(R, 0.01).t))\n",
    "display(sp.simplify(triple_trig_z(R, 0.01).x))\n",
    "display(sp.simplify(triple_trig_z(R, 0.01).y))\n",
    "display(sp.simplify(triple_trig_z(R, 0.01).z))\n",
    "is_quadratic(triple_trig_z(R, 0.01))"
   ]
  },
  {
   "cell_type": "markdown",
   "metadata": {},
   "source": [
    "This is relevant to the fact that the group $SO(3)$ is a compact group. It is easy to visualize the example above: it is a circle in the $xy$ plane with $t$ and $z$ unaltered. Circles are sets of points where the \"next\" point is an arbitrarily short distance away."
   ]
  },
  {
   "cell_type": "markdown",
   "metadata": {},
   "source": [
    "Can we create a function that can take _any_ quaternion parameter $P$ yet still always generate another member of the group $SO(3)$? This can be done using the inverse of a quaternion which is the conjugate of a quaternion divided by the norm squared. Groups are about binary operations on a set. The binary operation can be a composite function, where the results of one rotation are fed into another."
   ]
  },
  {
   "cell_type": "code",
   "execution_count": 9,
   "metadata": {},
   "outputs": [],
   "source": [
    "def next_rotation(r, p=qtd.QH([1, 0, 0, 0])):\n",
    "    \"\"\"Generates another member of the rotation group given a quaternion parameter P.\"\"\"\n",
    "    \n",
    "    return p.product(r.product(p.invert()))\n",
    "\n",
    "def composite_rotation(r, p1=qtd.QH([1, 0, 0, 0]), p2=qtd.QH([1, 0, 0, 0])):\n",
    "    \"\"\"A composite function of next_rotation.\"\"\"\n",
    "    \n",
    "    return next_rotation(next_rotation(r, p1), p2)"
   ]
  },
  {
   "cell_type": "code",
   "execution_count": 10,
   "metadata": {},
   "outputs": [
    {
     "data": {
      "image/png": "[encoded data removed]",
      "text/latex": [
       "$$1.0 t$$"
      ],
      "text/plain": [
       "1.0⋅t"
      ]
     },
     "metadata": {},
     "output_type": "display_data"
    },
    {
     "data": {
      "image/png": "[encoded data removed]",
      "text/latex": [
       "$$\\frac{1}{s^{2} + u^{2} + v^{2} + w^{2}} \\left(1.0 s^{2} x + 2.0 s v z - 2.0 s w y + 1.0 u^{2} x + 2.0 u v y + 2.0 u w z - 1.0 v^{2} x - 1.0 w^{2} x\\right)$$"
      ],
      "text/plain": [
       "    ⎛     2                                  2                                \n",
       "1.0⋅⎝1.0⋅s ⋅x + 2.0⋅s⋅v⋅z - 2.0⋅s⋅w⋅y + 1.0⋅u ⋅x + 2.0⋅u⋅v⋅y + 2.0⋅u⋅w⋅z - 1.0\n",
       "──────────────────────────────────────────────────────────────────────────────\n",
       "                                        2    2    2    2                      \n",
       "                                       s  + u  + v  + w                       \n",
       "\n",
       "  2          2  ⎞\n",
       "⋅v ⋅x - 1.0⋅w ⋅x⎠\n",
       "─────────────────\n",
       "                 \n",
       "                 "
      ]
     },
     "metadata": {},
     "output_type": "display_data"
    },
    {
     "data": {
      "image/png": "[encoded data removed]",
      "text/latex": [
       "$$t^{2} - x^{2} - y^{2} - z^{2}$$"
      ],
      "text/plain": [
       " 2    2    2    2\n",
       "t  - x  - y  - z "
      ]
     },
     "metadata": {},
     "output_type": "display_data"
    },
    {
     "data": {
      "text/plain": [
       "True"
      ]
     },
     "execution_count": 10,
     "metadata": {},
     "output_type": "execute_result"
    }
   ],
   "source": [
    "display(sp.simplify(composite_rotation(R, qtd.QH([s, u, v, w])).t))\n",
    "display(sp.simplify(composite_rotation(R, qtd.QH([s, u, v, w])).x))\n",
    "is_quadratic(composite_rotation(R, qtd.QH([s, u, v, w])))"
   ]
  },
  {
   "cell_type": "markdown",
   "metadata": {},
   "source": [
    "The next_rotation function can use any quaternion parameter $P$ as input and create another member of the group. This does not mean that rotations have four degrees of freedom. There is an equivalence relation involved since the product of a quaternion with its inverse has a norm of one. This algebraic constraint means the composite_rotation function has $4-1=3$ degrees of freedom."
   ]
  },
  {
   "cell_type": "markdown",
   "metadata": {},
   "source": [
    "The composite_rotation function could be used to show that there is a real-valued quaternion representation of the compact Lie group $SO(3)$. Since it is well known quaternions can do this, such an effort will be skipped."
   ]
  },
  {
   "cell_type": "markdown",
   "metadata": {},
   "source": [
    "## Other Triple Products Lead to More Than Just Rotations"
   ]
  },
  {
   "cell_type": "markdown",
   "metadata": {},
   "source": [
    "Other triple products are possible. For example, the two quaternions could be on the same side. A number of years ago, a search for a real-valued quaternion function that could do a Lorentz boost turned up this difference between two one-sided triples, $ \\frac{1}{2}((P P R)^* - (P^* P^* R)^*)$:"
   ]
  },
  {
   "cell_type": "code",
   "execution_count": 11,
   "metadata": {},
   "outputs": [],
   "source": [
    "def triple_2_on_1(r, p=qtd.QH([1, 0, 0, 0])):\n",
    "    \"\"\"The two are on one side, minus a different two on one side.\"\"\"\n",
    "    \n",
    "    ppr = p.product(p.product(r)).conj()\n",
    "    pcpcr = p.conj().product(p.conj().product(r)).conj()\n",
    "    pd = ppr.dif(pcpcr)\n",
    "    pd_ave = pd.product(qtd.QH([1/2, 0, 0, 0]))\n",
    "    return pd_ave"
   ]
  },
  {
   "cell_type": "code",
   "execution_count": 12,
   "metadata": {},
   "outputs": [
    {
     "data": {
      "image/png": "[encoded data removed]",
      "text/latex": [
       "$$- 2.0 s \\left(u x + v y + w z\\right)$$"
      ],
      "text/plain": [
       "-2.0⋅s⋅(u⋅x + v⋅y + w⋅z)"
      ]
     },
     "metadata": {},
     "output_type": "display_data"
    },
    {
     "data": {
      "image/png": "[encoded data removed]",
      "text/latex": [
       "$$2.0 s \\left(- t u - v z + w y\\right)$$"
      ],
      "text/plain": [
       "2.0⋅s⋅(-t⋅u - v⋅z + w⋅y)"
      ]
     },
     "metadata": {},
     "output_type": "display_data"
    },
    {
     "data": {
      "image/png": "[encoded data removed]",
      "text/latex": [
       "$$2.0 s \\left(- t v + u z - w x\\right)$$"
      ],
      "text/plain": [
       "2.0⋅s⋅(-t⋅v + u⋅z - w⋅x)"
      ]
     },
     "metadata": {},
     "output_type": "display_data"
    },
    {
     "data": {
      "image/png": "[encoded data removed]",
      "text/latex": [
       "$$2.0 s \\left(- t w - u y + v x\\right)$$"
      ],
      "text/plain": [
       "2.0⋅s⋅(-t⋅w - u⋅y + v⋅x)"
      ]
     },
     "metadata": {},
     "output_type": "display_data"
    }
   ],
   "source": [
    "rq_321 = triple_2_on_1(R, P)\n",
    "display(sp.simplify(rq_321.t))\n",
    "display(sp.simplify(rq_321.x))\n",
    "display(sp.simplify(rq_321.y))\n",
    "display(sp.simplify(rq_321.z))"
   ]
  },
  {
   "cell_type": "markdown",
   "metadata": {},
   "source": [
    "If $s=0$, then triple_2_on_1 would contribute nothing."
   ]
  },
  {
   "cell_type": "markdown",
   "metadata": {},
   "source": [
    "Explore the hyperbolic sine and cosines:"
   ]
  },
  {
   "cell_type": "code",
   "execution_count": 13,
   "metadata": {},
   "outputs": [
    {
     "data": {
      "image/png": "[encoded data removed]",
      "text/latex": [
       "$$- 1.0 x \\sinh{\\left (2 α \\right )}$$"
      ],
      "text/plain": [
       "-1.0⋅x⋅sinh(2⋅α)"
      ]
     },
     "metadata": {},
     "output_type": "display_data"
    }
   ],
   "source": [
    "phx = qtd.QH([sp.cosh(α), sp.sinh(α), 0, 0])\n",
    "ppr = triple_2_on_1(R, phx)\n",
    "display(sp.simplify(ppr.t))"
   ]
  },
  {
   "cell_type": "markdown",
   "metadata": {},
   "source": [
    "This is promising for doing a Lorentz boost. There is a direct link between hyperbolic trig functions and the relativistic velocity $\\beta$ and stretch factor $\\gamma$ of special relativity."
   ]
  },
  {
   "cell_type": "markdown",
   "metadata": {},
   "source": [
    "$$\\gamma = \\cosh(\\alpha)$$\n",
    "$$\\beta \\gamma = \\sinh(\\alpha)$$"
   ]
  },
  {
   "cell_type": "markdown",
   "metadata": {},
   "source": [
    "The trig functions are based on a circle in the plane, while the hyperbolic trig functions start with hyperbolas. The definitions are remarkably similar:"
   ]
  },
  {
   "cell_type": "markdown",
   "metadata": {},
   "source": [
    "$$\\sin(\\alpha) = \\frac{e^{i \\alpha} - e^{-i \\alpha}}{2 i}$$"
   ]
  },
  {
   "cell_type": "markdown",
   "metadata": {},
   "source": [
    "$$\\cos(\\alpha) = \\frac{e^{i \\alpha} + e^{-i \\alpha}}{2 i}$$"
   ]
  },
  {
   "cell_type": "markdown",
   "metadata": {},
   "source": [
    "$$\\sinh(\\alpha) = \\frac{e^{\\alpha} - e^{-\\alpha}}{2}$$"
   ]
  },
  {
   "cell_type": "markdown",
   "metadata": {},
   "source": [
    "$$\\cosh(\\alpha) = \\frac{e^{\\alpha} + e^{-\\alpha}}{2}$$"
   ]
  },
  {
   "cell_type": "markdown",
   "metadata": {},
   "source": [
    "The hyperbolic trig functions oddly are \"more real\", never needing an imaginary factor. The hyperbola of the hyperbolic cosine does touch the unit circle at its minimum, suggesting a solitary link to the trig functions."
   ]
  },
  {
   "cell_type": "markdown",
   "metadata": {},
   "source": [
    "Combine the three triples and test if they do all the work of a Lorentz boost:\n",
    "$$\\rm{triple-triple}(R, P) \\equiv P R P^* + \\frac{1}{2}((P P R)^* - (P^* P^* R)^*)$$"
   ]
  },
  {
   "cell_type": "code",
   "execution_count": 14,
   "metadata": {},
   "outputs": [],
   "source": [
    "def triple_triple(r, p=qtd.QH([1, 0, 0, 0])):\n",
    "    \"\"\"Use three triple products for rotations and boosts.\"\"\"\n",
    "    \n",
    "    # Note: 'qtype' provides a record of what algrabric operations were done to create a quaternion.\n",
    "    return triple_sandwich(r, p).add(triple_2_on_1(r, p), qtype=\"triple_triple\")"
   ]
  },
  {
   "cell_type": "markdown",
   "metadata": {},
   "source": [
    "Can this function do a rotation? If the first value of $P$ is equal to zero, then the two one-sided triple terms, $PPR$, will make no contribution, leaving the triple sandwich $PRP^*$. So long as the norm is equal to unity, then spatial rotations result. Do a rotation:"
   ]
  },
  {
   "cell_type": "code",
   "execution_count": 15,
   "metadata": {},
   "outputs": [
    {
     "data": {
      "image/png": "[encoded data removed]",
      "text/latex": [
       "$$1.0 t$$"
      ],
      "text/plain": [
       "1.0⋅t"
      ]
     },
     "metadata": {},
     "output_type": "display_data"
    },
    {
     "data": {
      "image/png": "[encoded data removed]",
      "text/latex": [
       "$$- 1.0 x$$"
      ],
      "text/plain": [
       "-1.0⋅x"
      ]
     },
     "metadata": {},
     "output_type": "display_data"
    },
    {
     "data": {
      "image/png": "[encoded data removed]",
      "text/latex": [
       "$$- 0.28 y + 0.96 z$$"
      ],
      "text/plain": [
       "-0.28⋅y + 0.96⋅z"
      ]
     },
     "metadata": {},
     "output_type": "display_data"
    },
    {
     "data": {
      "image/png": "[encoded data removed]",
      "text/latex": [
       "$$0.96 y + 0.28 z$$"
      ],
      "text/plain": [
       "0.96⋅y + 0.28⋅z"
      ]
     },
     "metadata": {},
     "output_type": "display_data"
    },
    {
     "data": {
      "image/png": "[encoded data removed]",
      "text/latex": [
       "$$t^{2} - x^{2} - y^{2} - z^{2}$$"
      ],
      "text/plain": [
       " 2    2    2    2\n",
       "t  - x  - y  - z "
      ]
     },
     "metadata": {},
     "output_type": "display_data"
    },
    {
     "data": {
      "text/plain": [
       "True"
      ]
     },
     "execution_count": 15,
     "metadata": {},
     "output_type": "execute_result"
    }
   ],
   "source": [
    "jk = qtd.QH([0, 0, 3/5, 4/5])\n",
    "display(sp.simplify(triple_triple(R, jk).t))\n",
    "display(sp.simplify(triple_triple(R, jk).x))\n",
    "display(sp.simplify(triple_triple(R, jk).y))\n",
    "display(sp.simplify(triple_triple(R, jk).z))\n",
    "is_quadratic(triple_triple(R, jk))"
   ]
  },
  {
   "cell_type": "markdown",
   "metadata": {},
   "source": [
    "Something important has changed going from the regular trig functions to these hyperbolic functions for rotations. The requirements that the first term must be zero while the other three terms are normalized to unity means that one cannot go an arbitrarily small distance away and find another transformation. If one wants a product of rotations, those rotations must be at right angles to each other."
   ]
  },
  {
   "cell_type": "code",
   "execution_count": 16,
   "metadata": {},
   "outputs": [
    {
     "name": "stdout",
     "output_type": "stream",
     "text": [
      "(t, -x, -y, z) triple_triple\n",
      "(t, -x, -y, z) triple_triple\n"
     ]
    }
   ],
   "source": [
    "Qi, Qj, Qk = qtd.QH([0, 1, 0, 0]), qtd.QH([0, 0, 1, 0]), qtd.QH([0, 0, 0, 1])\n",
    "print(triple_triple(triple_triple(R, Qi), Qj))\n",
    "print(triple_triple(R, Qi.product(Qj)))"
   ]
  },
  {
   "cell_type": "markdown",
   "metadata": {},
   "source": [
    "The fact that one cannot find a super close neighbor is a big technical change."
   ]
  },
  {
   "cell_type": "markdown",
   "metadata": {},
   "source": [
    "What is so special about setting the first term equal to zero? Is there a more general form? Perhaps all that is needed is for the first term of the square to be equal to negative one. Test this out:"
   ]
  },
  {
   "cell_type": "code",
   "execution_count": 17,
   "metadata": {},
   "outputs": [
    {
     "name": "stdout",
     "output_type": "stream",
     "text": [
      "-1\n"
     ]
    },
    {
     "data": {
      "image/png": "[encoded data removed]",
      "text/latex": [
       "$$\\left ( 9 t - 8.0 x - 4.0 y, \\quad - 8.0 t + 7 x + 4 y, \\quad - 4.0 t + 4 x + y, \\quad - z\\right )$$"
      ],
      "text/plain": [
       "(9⋅t - 8.0⋅x - 4.0⋅y, -8.0⋅t + 7⋅x + 4⋅y, -4.0⋅t + 4⋅x + y, -z)"
      ]
     },
     "metadata": {},
     "output_type": "display_data"
    },
    {
     "data": {
      "image/png": "[encoded data removed]",
      "text/latex": [
       "$$t^{2} - x^{2} - y^{2} - z^{2}$$"
      ],
      "text/plain": [
       " 2    2    2    2\n",
       "t  - x  - y  - z "
      ]
     },
     "metadata": {},
     "output_type": "display_data"
    },
    {
     "data": {
      "text/plain": [
       "True"
      ]
     },
     "execution_count": 17,
     "metadata": {},
     "output_type": "execute_result"
    }
   ],
   "source": [
    "minus_1 = qtd.QH([2, 2, 1, 0])\n",
    "print(minus_1.square().t)\n",
    "display((triple_triple(R, minus_1).t, triple_triple(R, minus_1).x, triple_triple(R, minus_1).y, triple_triple(R, minus_1).z))\n",
    "is_quadratic(triple_triple(R, minus_1))"
   ]
  },
  {
   "cell_type": "markdown",
   "metadata": {},
   "source": [
    "To be honest, this came as a surprise to me. Notice that the value for time changes, so a rotation is getting mixed in with a boost. This sort of mixing of rotations and boosts is known to happen when one does two boosts, one say along $x$, the other along $y$. Now we can say a similar thing is possible for rotations. If there scalar is zero then one gets a pure spatial rotation. When that is not the case, there is a mixture of rotations and boosts."
   ]
  },
  {
   "cell_type": "markdown",
   "metadata": {},
   "source": [
    "Demonstrate that a boost along the $x$ axis works."
   ]
  },
  {
   "cell_type": "code",
   "execution_count": 18,
   "metadata": {},
   "outputs": [
    {
     "data": {
      "image/png": "[encoded data removed]",
      "text/latex": [
       "$$1$$"
      ],
      "text/plain": [
       "1"
      ]
     },
     "metadata": {},
     "output_type": "display_data"
    },
    {
     "data": {
      "image/png": "[encoded data removed]",
      "text/latex": [
       "$$1.0 t \\cosh{\\left (2 α \\right )} - 1.0 x \\sinh{\\left (2 α \\right )}$$"
      ],
      "text/plain": [
       "1.0⋅t⋅cosh(2⋅α) - 1.0⋅x⋅sinh(2⋅α)"
      ]
     },
     "metadata": {},
     "output_type": "display_data"
    },
    {
     "data": {
      "image/png": "[encoded data removed]",
      "text/latex": [
       "$$- 1.0 t \\sinh{\\left (2 α \\right )} + 1.0 x \\cosh{\\left (2 α \\right )}$$"
      ],
      "text/plain": [
       "-1.0⋅t⋅sinh(2⋅α) + 1.0⋅x⋅cosh(2⋅α)"
      ]
     },
     "metadata": {},
     "output_type": "display_data"
    },
    {
     "data": {
      "image/png": "[encoded data removed]",
      "text/latex": [
       "$$1.0 y$$"
      ],
      "text/plain": [
       "1.0⋅y"
      ]
     },
     "metadata": {},
     "output_type": "display_data"
    },
    {
     "data": {
      "image/png": "[encoded data removed]",
      "text/latex": [
       "$$1.0 z$$"
      ],
      "text/plain": [
       "1.0⋅z"
      ]
     },
     "metadata": {},
     "output_type": "display_data"
    },
    {
     "data": {
      "image/png": "[encoded data removed]",
      "text/latex": [
       "$$t^{2} - x^{2} - y^{2} - z^{2}$$"
      ],
      "text/plain": [
       " 2    2    2    2\n",
       "t  - x  - y  - z "
      ]
     },
     "metadata": {},
     "output_type": "display_data"
    },
    {
     "data": {
      "text/plain": [
       "True"
      ]
     },
     "execution_count": 18,
     "metadata": {},
     "output_type": "execute_result"
    }
   ],
   "source": [
    "bx = qtd.QH([sp.cosh(α), sp.sinh(α), 0, 0])\n",
    "display(sp.simplify(bx.square().t))\n",
    "display(sp.simplify(triple_triple(R, bx).t))\n",
    "display(sp.simplify(triple_triple(R, bx).x))\n",
    "display(sp.simplify(triple_triple(R, bx).y))\n",
    "display(sp.simplify(triple_triple(R, bx).z))\n",
    "is_quadratic(triple_triple(R, bx))"
   ]
  },
  {
   "cell_type": "markdown",
   "metadata": {},
   "source": [
    "Perfect. It was this result that began my investigation of triple_triple quaternion products. This is what the boost looks like using gammas and betas: $$(\\gamma t - \\gamma \\beta x, \\gamma x - \\gamma \\beta t, y, z)$$"
   ]
  },
  {
   "cell_type": "markdown",
   "metadata": {},
   "source": [
    "The first term of the square of the hyperbolic parameter $P=bx$ is equal to positive one. So long as the triple_triple function is fed a quaternion parameter $P$ whose first term of the square has an absolute value of one, the interval is invariant. That is surprisingly simple."
   ]
  },
  {
   "cell_type": "markdown",
   "metadata": {},
   "source": [
    "Note the double angle in the hyperbolic trig function that appeared earlier for rotations."
   ]
  },
  {
   "cell_type": "markdown",
   "metadata": {},
   "source": [
    "## Spatial Reflection and Time Reversal"
   ]
  },
  {
   "cell_type": "markdown",
   "metadata": {},
   "source": [
    "For a spatial reflection, just one spatial term flips signs. The first term of the square will not be altered. Yet the triple_triple function cannot flip only one sign. It can flip two terms. Thus, using just the triple_triple function one can go from all positive, to two positive-two negative, to all negative terms, but never one or three negative terms starting from an all positive quaternion $R$. The conjugate operator can do odd sign changes. Do a spatial reflection on $x$ only by rotating using $i$ and using the conjugate operator like so:"
   ]
  },
  {
   "cell_type": "code",
   "execution_count": 19,
   "metadata": {},
   "outputs": [
    {
     "name": "stdout",
     "output_type": "stream",
     "text": [
      "(t, -x, y, z) triple_triple.*\n"
     ]
    },
    {
     "data": {
      "image/png": "[encoded data removed]",
      "text/latex": [
       "$$t^{2} - x^{2} - y^{2} - z^{2}$$"
      ],
      "text/plain": [
       " 2    2    2    2\n",
       "t  - x  - y  - z "
      ]
     },
     "metadata": {},
     "output_type": "display_data"
    },
    {
     "data": {
      "text/plain": [
       "True"
      ]
     },
     "execution_count": 19,
     "metadata": {},
     "output_type": "execute_result"
    }
   ],
   "source": [
    "x_reflection = triple_triple(R, Qi).conj()\n",
    "print(x_reflection)\n",
    "is_quadratic(x_reflection)"
   ]
  },
  {
   "cell_type": "markdown",
   "metadata": {},
   "source": [
    "Time reversal also cannot be done using triple_triple. The parameter $P$ is used twice, so its sign is of no consequence for the scalar in $R$. The entire quaternion $R$ must be multiplied by $-1$ then take a conjugate like so:"
   ]
  },
  {
   "cell_type": "code",
   "execution_count": 20,
   "metadata": {},
   "outputs": [
    {
     "name": "stdout",
     "output_type": "stream",
     "text": [
      "(-t, x, y, z) triple_triple.*xsign_flip\n"
     ]
    },
    {
     "data": {
      "image/png": "[encoded data removed]",
      "text/latex": [
       "$$t^{2} - x^{2} - y^{2} - z^{2}$$"
      ],
      "text/plain": [
       " 2    2    2    2\n",
       "t  - x  - y  - z "
      ]
     },
     "metadata": {},
     "output_type": "display_data"
    },
    {
     "data": {
      "text/plain": [
       "True"
      ]
     },
     "execution_count": 20,
     "metadata": {},
     "output_type": "execute_result"
    }
   ],
   "source": [
    "t_reversal = triple_triple(R).conj().product(qtd.QH([-1, 0, 0, 0], qtype=\"sign_flip\"))\n",
    "print(t_reversal)\n",
    "is_quadratic(t_reversal)"
   ]
  },
  {
   "cell_type": "markdown",
   "metadata": {},
   "source": [
    "Rotations and boosts do not do the work of time reversal. Time reversal requires different algebraic tricks."
   ]
  },
  {
   "cell_type": "markdown",
   "metadata": {},
   "source": [
    "## Fixing the Limitations of the Triple_Triple Function"
   ]
  },
  {
   "cell_type": "markdown",
   "metadata": {},
   "source": [
    "The triple_triple function must be fed quaternions whose square is either exactly equal to plus or minus one. Create a function that can take in _any_ quaternion as a parameter and generate the next quadratic. The function must be scaled to the square root of the first term of the quaternion parameter $P$ squared. Expand the parameters so both spatial reflections and time reversals can be done."
   ]
  },
  {
   "cell_type": "markdown",
   "metadata": {},
   "source": [
    "If the parameter $P$ is light-like, it cannot be used to do a boost. Feed the triple_triple function a light-like quaternion and it will always return zero. Light-like quaternions can do rotations. The next_rotation function is up to the task."
   ]
  },
  {
   "cell_type": "code",
   "execution_count": 21,
   "metadata": {},
   "outputs": [],
   "source": [
    "def next_quadratic(r, p=qtd.QH([1, 0, 0, 0]), conj=False, sign_flip=False):\n",
    "    \"\"\"Generates another quadratic using a quaternion parameter p, \n",
    "    if given any quaternion and whether a conjugate or sign flip is needed.\"\"\"\n",
    "    \n",
    "    pt_squared = p.square().t\n",
    "    \n",
    "    # Avoid using sp.Abs() so equations can be simplified.\n",
    "    if isinstance(pt_squared, (int, float)):\n",
    "        if pt_squared < 0:\n",
    "            pt_squared *= -1\n",
    "    else:\n",
    "        if pt_squared.is_negative:\n",
    "            pt_squared *= -1\n",
    "        \n",
    "    sqrt_pt_squared = sp.sqrt(pt_squared)\n",
    "    \n",
    "    # A light-like parameter P can rotate but not boost R.\n",
    "    if sqrt_pt_squared == 0:\n",
    "        rot_calc = next_rotation(r, p) \n",
    "    else:\n",
    "        p_normalized = p.product(qtd.QH([1/sqrt_pt_squared, 0, 0, 0]))\n",
    "        rot_calc = triple_triple(r, p_normalized)\n",
    "    \n",
    "    if conj:\n",
    "        conj_calc = rot_calc.conj()\n",
    "    else:\n",
    "        conj_calc = rot_calc\n",
    "        \n",
    "    if sign_flip:\n",
    "        sign_calc = conj_calc.product(qtd.QH([-1, 0, 0, 0]))\n",
    "    else:\n",
    "        sign_calc = conj_calc\n",
    "            \n",
    "    calc_t = sp.simplify(sp.expand(sign_calc.t))\n",
    "    calc_x = sp.simplify(sp.expand(sign_calc.x))\n",
    "    calc_y = sp.simplify(sp.expand(sign_calc.y))\n",
    "    calc_z = sp.simplify(sp.expand(sign_calc.z))\n",
    "    \n",
    "    return qtd.QH([calc_t, calc_x, calc_y, calc_z], qtype=\"L\")"
   ]
  },
  {
   "cell_type": "code",
   "execution_count": 22,
   "metadata": {},
   "outputs": [
    {
     "data": {
      "image/png": "[encoded data removed]",
      "text/latex": [
       "$$\\frac{1}{- s^{2} + u^{2} + v^{2} + w^{2}} \\left(1.0 s^{2} t - 2.0 s u x - 2.0 s v y - 2.0 s w z + 1.0 t u^{2} + 1.0 t v^{2} + 1.0 t w^{2}\\right)$$"
      ],
      "text/plain": [
       "     2                                                2          2          2\n",
       "1.0⋅s ⋅t - 2.0⋅s⋅u⋅x - 2.0⋅s⋅v⋅y - 2.0⋅s⋅w⋅z + 1.0⋅t⋅u  + 1.0⋅t⋅v  + 1.0⋅t⋅w \n",
       "─────────────────────────────────────────────────────────────────────────────\n",
       "                                2    2    2    2                             \n",
       "                             - s  + u  + v  + w                              "
      ]
     },
     "metadata": {},
     "output_type": "display_data"
    },
    {
     "data": {
      "image/png": "[encoded data removed]",
      "text/latex": [
       "$$\\frac{1}{- s^{2} + u^{2} + v^{2} + w^{2}} \\left(- 1.0 s^{2} x + 2.0 s t u - 1.0 u^{2} x - 2.0 u v y - 2.0 u w z + 1.0 v^{2} x + 1.0 w^{2} x\\right)$$"
      ],
      "text/plain": [
       "       2                      2                                  2          2 \n",
       "- 1.0⋅s ⋅x + 2.0⋅s⋅t⋅u - 1.0⋅u ⋅x - 2.0⋅u⋅v⋅y - 2.0⋅u⋅w⋅z + 1.0⋅v ⋅x + 1.0⋅w ⋅\n",
       "──────────────────────────────────────────────────────────────────────────────\n",
       "                                 2    2    2    2                             \n",
       "                              - s  + u  + v  + w                              \n",
       "\n",
       " \n",
       "x\n",
       "─\n",
       " \n",
       " "
      ]
     },
     "metadata": {},
     "output_type": "display_data"
    },
    {
     "data": {
      "image/png": "[encoded data removed]",
      "text/latex": [
       "$$t^{2} - x^{2} - y^{2} - z^{2}$$"
      ],
      "text/plain": [
       " 2    2    2    2\n",
       "t  - x  - y  - z "
      ]
     },
     "metadata": {},
     "output_type": "display_data"
    },
    {
     "data": {
      "text/plain": [
       "True"
      ]
     },
     "execution_count": 22,
     "metadata": {},
     "output_type": "execute_result"
    }
   ],
   "source": [
    "display(sp.simplify(next_quadratic(R, P, True, True).t))\n",
    "display(sp.simplify(next_quadratic(R, P, True, True).x))\n",
    "is_quadratic(next_quadratic(R, P, True, True))"
   ]
  },
  {
   "cell_type": "markdown",
   "metadata": {},
   "source": [
    "No matter what values are used for the parameter $P$, the next_quadratic function will preserve the interval of $R$. Even a light-like interval works:"
   ]
  },
  {
   "cell_type": "code",
   "execution_count": 23,
   "metadata": {},
   "outputs": [
    {
     "name": "stdout",
     "output_type": "stream",
     "text": [
      "(1.0*t, 1.0*x, -1.0*z, 1.0*y) L\n"
     ]
    },
    {
     "data": {
      "image/png": "[encoded data removed]",
      "text/latex": [
       "$$t^{2} - x^{2} - y^{2} - z^{2}$$"
      ],
      "text/plain": [
       " 2    2    2    2\n",
       "t  - x  - y  - z "
      ]
     },
     "metadata": {},
     "output_type": "display_data"
    },
    {
     "data": {
      "text/plain": [
       "True"
      ]
     },
     "execution_count": 23,
     "metadata": {},
     "output_type": "execute_result"
    }
   ],
   "source": [
    "print(next_quadratic(R, qtd.QH([s, s, 0, 0])))\n",
    "is_quadratic(next_quadratic(R, qtd.QH([s, s, 0, 0])))"
   ]
  },
  {
   "cell_type": "markdown",
   "metadata": {},
   "source": [
    "Notice how the $y$ and $z$ terms flip positions, but the squaring process will put both into their proper spots in the first term of the square."
   ]
  },
  {
   "cell_type": "markdown",
   "metadata": {},
   "source": [
    "## The Lorentz Group and Functional Composition with the next_quadratic Function"
   ]
  },
  {
   "cell_type": "markdown",
   "metadata": {},
   "source": [
    "The Lorentz group is all possible ways to transform an event in space-time yet preserve the quadratic form:\n",
    "$$(t, x, y, z) \\rightarrow t^2 - x^2 - y^2 - z^2$$\n",
    "The elements of the group are the tuples (t, x, y, z) but not the rotation angles, boost velocities, conjugation and sign flips.\n",
    "\n",
    "A group is defined as a binary operation on a set of elements that has 4 qualities:\n",
    "1. Closure\n",
    "1. An inverse exists\n",
    "1. There is an identity element\n",
    "1. Associative\n",
    "\n",
    "The next_quadratic function acts on one element of the group. The binary operation is a composite function built from two next_quadratic functions. Take the result of one action of the next_quadratic function, and have that result go into another round of the next_quadratic function."
   ]
  },
  {
   "cell_type": "code",
   "execution_count": 24,
   "metadata": {},
   "outputs": [],
   "source": [
    "def composite_quadratic(r, p1=qtd.QH([1, 0, 0, 0]), p2=qtd.QH([1, 0, 0, 0]), conj1=False, conj2=False, sign_flip1=False, sign_flip2=False):\n",
    "    \"\"\"A composite function for the next_quadratic function.\"\"\"\n",
    "    \n",
    "    return next_quadratic(next_quadratic(r, p1, conj1, sign_flip1), p2, conj2, sign_flip2)"
   ]
  },
  {
   "cell_type": "code",
   "execution_count": 25,
   "metadata": {},
   "outputs": [
    {
     "name": "stdout",
     "output_type": "stream",
     "text": [
      "(t, x, y, z) L\n"
     ]
    },
    {
     "data": {
      "image/png": "[encoded data removed]",
      "text/latex": [
       "$$t^{2} - x^{2} - y^{2} - z^{2}$$"
      ],
      "text/plain": [
       " 2    2    2    2\n",
       "t  - x  - y  - z "
      ]
     },
     "metadata": {},
     "output_type": "display_data"
    },
    {
     "name": "stdout",
     "output_type": "stream",
     "text": [
      "(-t, x, y, -z) L\n"
     ]
    },
    {
     "data": {
      "image/png": "[encoded data removed]",
      "text/latex": [
       "$$t^{2} - x^{2} - y^{2} - z^{2}$$"
      ],
      "text/plain": [
       " 2    2    2    2\n",
       "t  - x  - y  - z "
      ]
     },
     "metadata": {},
     "output_type": "display_data"
    },
    {
     "name": "stdout",
     "output_type": "stream",
     "text": [
      "(-9*t + 8.0*x + 4.0*y, 8.0*t - 7*x - 4*y, -4.0*t + 4*x + y, z) L\n"
     ]
    },
    {
     "data": {
      "image/png": "[encoded data removed]",
      "text/latex": [
       "$$t^{2} - x^{2} - y^{2} - z^{2}$$"
      ],
      "text/plain": [
       " 2    2    2    2\n",
       "t  - x  - y  - z "
      ]
     },
     "metadata": {},
     "output_type": "display_data"
    },
    {
     "name": "stdout",
     "output_type": "stream",
     "text": [
      "((1.0*s**2*t*cosh(2*α) - 1.0*s**2*x*sinh(2*α) - 2.0*s*t*u*sinh(2*α) + 2.0*s*u*x*cosh(2*α) + 2.0*s*v*y + 2.0*s*w*z + 1.0*t*u**2*cosh(2*α) + 1.0*t*v**2*cosh(2*α) + 1.0*t*w**2*cosh(2*α) - 1.0*u**2*x*sinh(2*α) - 1.0*v**2*x*sinh(2*α) - 1.0*w**2*x*sinh(2*α))/(-s**2 + u**2 + v**2 + w**2), -(-1.0*s**2*t*sinh(2*α) + 1.0*s**2*x*cosh(2*α) + 2.0*s*t*u*cosh(2*α) - 2.0*s*u*x*sinh(2*α) - 1.0*t*u**2*sinh(2*α) + 1.0*t*v**2*sinh(2*α) + 1.0*t*w**2*sinh(2*α) + 1.0*u**2*x*cosh(2*α) + 2.0*u*v*y + 2.0*u*w*z - 1.0*v**2*x*cosh(2*α) - 1.0*w**2*x*cosh(2*α))/(-s**2 + u**2 + v**2 + w**2), -(1.0*s**2*y + 2.0*s*t*v*cosh(2*α) - 2.0*s*v*x*sinh(2*α) - 2.0*t*u*v*sinh(2*α) - 1.0*u**2*y + 2.0*u*v*x*cosh(2*α) + 1.0*v**2*y + 2.0*v*w*z - 1.0*w**2*y)/(-s**2 + u**2 + v**2 + w**2), -(1.0*s**2*z + 2.0*s*t*w*cosh(2*α) - 2.0*s*w*x*sinh(2*α) - 2.0*t*u*w*sinh(2*α) - 1.0*u**2*z + 2.0*u*w*x*cosh(2*α) - 1.0*v**2*z + 2.0*v*w*y + 1.0*w**2*z)/(-s**2 + u**2 + v**2 + w**2)) L\n"
     ]
    },
    {
     "data": {
      "image/png": "[encoded data removed]",
      "text/latex": [
       "$$t^{2} - x^{2} - y^{2} - z^{2}$$"
      ],
      "text/plain": [
       " 2    2    2    2\n",
       "t  - x  - y  - z "
      ]
     },
     "metadata": {},
     "output_type": "display_data"
    },
    {
     "name": "stdout",
     "output_type": "stream",
     "text": [
      "(2.0*t*cosh(2*α)**2 - 1.0*t - 1.0*x*sinh(4*α), -1.0*t*sinh(4*α) + 2.0*x*cosh(2*α)**2 - 1.0*x, 1.0*y, 1.0*z) L\n"
     ]
    },
    {
     "data": {
      "image/png": "[encoded data removed]",
      "text/latex": [
       "$$t^{2} - x^{2} - y^{2} - z^{2}$$"
      ],
      "text/plain": [
       " 2    2    2    2\n",
       "t  - x  - y  - z "
      ]
     },
     "metadata": {},
     "output_type": "display_data"
    },
    {
     "data": {
      "text/plain": [
       "True"
      ]
     },
     "execution_count": 25,
     "metadata": {},
     "output_type": "execute_result"
    }
   ],
   "source": [
    "print(composite_quadratic(R))\n",
    "is_quadratic(composite_quadratic(R))\n",
    "print(composite_quadratic(R, Qi, Qj, True, True, True, False))\n",
    "is_quadratic(composite_quadratic(R, Qi, Qj, True, True, True, False))\n",
    "print(composite_quadratic(R, minus_1, Qj, False, True, False, True))\n",
    "is_quadratic(composite_quadratic(R, minus_1, Qj, False, True, False, True))\n",
    "print(composite_quadratic(R, bx, P, True, False, True, False))\n",
    "is_quadratic(composite_quadratic(R, bx, P, True, False, True, False))\n",
    "print(composite_quadratic(composite_quadratic(R, bx, bx)))\n",
    "is_quadratic(composite_quadratic(composite_quadratic(R, bx, bx)))"
   ]
  },
  {
   "cell_type": "markdown",
   "metadata": {},
   "source": [
    "Each of these composite functions generates exactly the same quadratic as required to be part of the Lorentz group. These five examples argue for closure: every possible choice for what one puts in the composite_quadratic function will have the same quadratic. I don't have the math skills to prove closure (unless one thinks the earlier general case is enough)."
   ]
  },
  {
   "cell_type": "markdown",
   "metadata": {},
   "source": [
    "Quaternions are a division algebra. As such, it is reasonable to expect an inverse to exist. Look for one for the $Qi$, $Qk$ parameter case:"
   ]
  },
  {
   "cell_type": "code",
   "execution_count": 26,
   "metadata": {},
   "outputs": [
    {
     "name": "stdout",
     "output_type": "stream",
     "text": [
      "(-t, x, y, -z) L\n",
      "(-t, -x, -y, -z) L\n"
     ]
    }
   ],
   "source": [
    "print(composite_quadratic(R, Qi, Qj, True, True, True, False))\n",
    "print(composite_quadratic(composite_quadratic(R, Qi, Qj, True, True, True, False), Qk))"
   ]
  },
  {
   "cell_type": "markdown",
   "metadata": {},
   "source": [
    "Close, but not quite. Add a sign_flip."
   ]
  },
  {
   "cell_type": "code",
   "execution_count": 27,
   "metadata": {},
   "outputs": [
    {
     "name": "stdout",
     "output_type": "stream",
     "text": [
      "(t, x, y, z) L\n"
     ]
    }
   ],
   "source": [
    "print(composite_quadratic(composite_quadratic(R, Qi, Qj, True, True, True, False), Qk, sign_flip1=True))"
   ]
  },
  {
   "cell_type": "markdown",
   "metadata": {},
   "source": [
    "The is back where we started with the quaternion $R$. Again, this is just an example and not a proof. Some inverses are easier to find than others like pure rotations or pure boosts with a rotation or opposite velocity."
   ]
  },
  {
   "cell_type": "markdown",
   "metadata": {},
   "source": [
    "The identity composition was shown to do its fine work in the first composite_quadratic(R) example."
   ]
  },
  {
   "cell_type": "markdown",
   "metadata": {},
   "source": [
    "Composite functions are associative, at least according to wikipedia."
   ]
  },
  {
   "cell_type": "markdown",
   "metadata": {},
   "source": [
    "## The Difference Between composite_rotation and composite_quadratic"
   ]
  },
  {
   "cell_type": "markdown",
   "metadata": {},
   "source": [
    "Both of these composite functions call another function twice, next_rotation and next_quadratic respectively. Both functions do a normalization. The next_rotation normalizes to the norm squared which can be zero if the parameter $P$ is zero, otherwise it is positive. The next_rotation function always does one thing, $P R P^{-1}$. The next_quadratic normalizes to the first term of the square of parameter $P$. That value can be positive, negative, or zero. When the first term of the square is positive or negative, the next_quadratic function treats both cases identically. Three triple quaternion products are used, $P R P^* + \\frac{1}{2}((P P R)^* - (P^* P^* R)^*)$. The first term is identical to a rotation so long as the norm is equal to one. Otherwise, it is off just by a scaling factor. The difference happens when it is zero which indicates the properties of light come into play. It is the lightcone that separates time-like events from space-like events. For a time-like value of the parameter $P$, the triple-triple returns zero which is not a member of the group. If one uses the first triple, no matter what its norm of light-like parameter $P$ happens to be, the resulting $R->R'$ remains in the group. The rotation group $SO(3)$ is compact, while the Lorentz group $O(1, 3)$ is not. The change in algebra needed for light-light parameter $P$ may be another way to view this difference."
   ]
  },
  {
   "cell_type": "markdown",
   "metadata": {
    "collapsed": true
   },
   "source": [
    "## Degrees of Freedom"
   ]
  },
  {
   "cell_type": "markdown",
   "metadata": {},
   "source": [
    "The typical representation of the Lorentz group $O(1, 3)$ says there are six independent variables needed to represent the Lorentz group: three for rotations and three for boosts. Yet when one does two boosts in different directions, it is a mix between a boost and a rotation. This suggests there is no such thing as a completely separate notion of rotations and boosts, that they have a capacity to mix. If true, that decreases the degrees of freedom.\n",
    "\n",
    "Two spacial rotations will result in spacial rotation:"
   ]
  },
  {
   "cell_type": "code",
   "execution_count": 28,
   "metadata": {},
   "outputs": [
    {
     "name": "stdout",
     "output_type": "stream",
     "text": [
      "(1.0*t, -1.0*y, 1.0*z, -1.0*x) L\n"
     ]
    },
    {
     "data": {
      "image/png": "[encoded data removed]",
      "text/latex": [
       "$$t^{2} - x^{2} - y^{2} - z^{2}$$"
      ],
      "text/plain": [
       " 2    2    2    2\n",
       "t  - x  - y  - z "
      ]
     },
     "metadata": {},
     "output_type": "display_data"
    },
    {
     "data": {
      "text/plain": [
       "True"
      ]
     },
     "execution_count": 28,
     "metadata": {},
     "output_type": "execute_result"
    }
   ],
   "source": [
    "print(composite_quadratic(R, qtd.QH([0, 1,0,1]), qtd.QH([0, 1,1,0])))\n",
    "is_quadratic(composite_quadratic(R, qtd.QH([0, 1,0,1]), qtd.QH([0, 1,1,0])))"
   ]
  },
  {
   "cell_type": "markdown",
   "metadata": {},
   "source": [
    "Notice that the value of the first squared term is negative. That value gets normalized to negative one in the composite_quadratic function (via the next_quadratic function that gets called twice). What makes these rotations be only spacial is the zero in the first position of the parameter $P$. It is easy enough to look at situations where the first term of the square is negative, and the first term of the parameter is not equal to zero:"
   ]
  },
  {
   "cell_type": "code",
   "execution_count": 29,
   "metadata": {},
   "outputs": [
    {
     "name": "stdout",
     "output_type": "stream",
     "text": [
      "(4.55555555555556*t - 4.44444444444444*x, -4.44444444444444*t + 4.55555555555556*x, -y, -z) L\n"
     ]
    },
    {
     "data": {
      "image/png": "[encoded data removed]",
      "text/latex": [
       "$$t^{2} - x^{2} - y^{2} - z^{2}$$"
      ],
      "text/plain": [
       " 2    2    2    2\n",
       "t  - x  - y  - z "
      ]
     },
     "metadata": {},
     "output_type": "display_data"
    },
    {
     "data": {
      "text/plain": [
       "True"
      ]
     },
     "execution_count": 29,
     "metadata": {},
     "output_type": "execute_result"
    }
   ],
   "source": [
    "print(composite_quadratic(R, qtd.QH([4, 5,0,0])))\n",
    "is_quadratic(composite_quadratic(R, qtd.QH([4, 5,0,0])))"
   ]
  },
  {
   "cell_type": "markdown",
   "metadata": {},
   "source": [
    "This is both a boost and a rotation. The boost effect can be seen in the first and second terms where there is a positve and negative term (the negative being the term that \"doesn't belong\", seeing the $x$ in the first term and $t$ in the second). The rotation appears in the sign flips for $y$ and $z$. If the 4 and 5 are switched, there is no rotation of these terms:"
   ]
  },
  {
   "cell_type": "code",
   "execution_count": 30,
   "metadata": {},
   "outputs": [
    {
     "name": "stdout",
     "output_type": "stream",
     "text": [
      "(4.55555555555556*t - 4.44444444444444*x, -4.44444444444444*t + 4.55555555555556*x, y, z) L\n"
     ]
    }
   ],
   "source": [
    "print(composite_quadratic(R, qtd.QH([5, 4,0,0])))"
   ]
  },
  {
   "cell_type": "markdown",
   "metadata": {},
   "source": [
    "The first two terms are exactly the same. Now the last two terms don't flip signs because there is no rotation. Both the (4, 5) and (5, 4) parameter composites will have the same first term for the square. This real-valued quaternion representation makes it possible to see."
   ]
  },
  {
   "cell_type": "markdown",
   "metadata": {},
   "source": [
    "At first blush, one looks into the next_quadratic function and sees six degrees of freedom: four for the quaternion parameter $P$, one for the conjugate operator and one for the sign_flip. These last two are needed to generate spatial reflection and time reversal. The quaternion parameter $P$ normalizes to the first term of the square of the quaternion parameter $P$. This means that once three of the values are chosen, then the value of the fourth one is set by this algebraic constraint. The same thing happens with the composite_rotation function defined earlier: a 4D quaternion may go in, but they way it gets normalized means there is an equivalence class to those quaternions that have a norm of one, and thus only 3 degrees of freedom. Representing the Lorentz group with only five degrees of freedom with this real-valued quaternion representation would be an interesting result if it can be rigorously proved."
   ]
  }
 ],
 "metadata": {
  "kernelspec": {
   "display_name": "Python 3",
   "language": "python",
   "name": "python3"
  },
  "language_info": {
   "codemirror_mode": {
    "name": "ipython",
    "version": 3
   },
   "file_extension": ".py",
   "mimetype": "text/x-python",
   "name": "python",
   "nbconvert_exporter": "python",
   "pygments_lexer": "ipython3",
   "version": "3.5.1"
  }
 },
 "nbformat": 4,
 "nbformat_minor": 2
}
