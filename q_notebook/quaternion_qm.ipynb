{
 "cells": [
  {
   "cell_type": "markdown",
   "metadata": {},
   "source": [
    "# Quaternion Quantum Mechanics"
   ]
  },
  {
   "cell_type": "markdown",
   "metadata": {},
   "source": [
    "by Doug Sweetser, email to sweetser@alum.mit.edu"
   ]
  },
  {
   "cell_type": "markdown",
   "metadata": {},
   "source": [
    "This notebook is being created as a companion to the book \"Quantum Mechanics: the Theoretical Minimum\" by Susskind and Friedman. Those authors of course never use quaternions as they are a bit player in the crowded field of mathematical tools. I have a different perspective on what makes an equation quantum mechanical. If a conjugate operator is used, then the expression is about quantum mechanics. With quaternions, there is not one conjugate operator, but there are three. First, import the tools to work with quaternions in this notebook."
   ]
  },
  {
   "cell_type": "code",
   "execution_count": 1,
   "metadata": {},
   "outputs": [],
   "source": [
    "%%capture\n",
    "%matplotlib inline\n",
    "import numpy as np\n",
    "import sympy as sp\n",
    "import matplotlib.pyplot as plt\n",
    "\n",
    "# To get equations the look like, well, equations, use the following.\n",
    "from sympy.interactive import printing\n",
    "printing.init_printing(use_latex=True)\n",
    "from IPython.display import display\n",
    "\n",
    "# Tools for manipulating quaternions.\n",
    "import Q_tools as qt;"
   ]
  },
  {
   "cell_type": "markdown",
   "metadata": {},
   "source": [
    "Start with the conjugate operator all are familiar with, the one that flips all three imaginary numbers as the Gang of Three:"
   ]
  },
  {
   "cell_type": "code",
   "execution_count": 2,
   "metadata": {},
   "outputs": [
    {
     "name": "stdout",
     "output_type": "stream",
     "text": [
      "(t, x, y, z) Q\n",
      "(t, -x, -y, -z) Q.*\n"
     ]
    }
   ],
   "source": [
    "t, x, y, z = sp.symbols(\"t x y z\")\n",
    "R = qt.QH([t, x, y, z])\n",
    "print(R)\n",
    "print(R.conj())"
   ]
  },
  {
   "cell_type": "markdown",
   "metadata": {},
   "source": [
    "With complex numbers, any function that one can represent in $\\mathbb{R}^2$ can just as well be represented with $\\mathbb{C}^1$ using $z$ and $z^*$. The same cannot be said using just one quaternion conjugate, there needs to be two others. The idea is not complicated. In the standard conjugate, the real-valued $t$ gets to keep its sign. Why not let other terms have that privilege? If one were to pre- and post-multiply by the imaginary $i$, every term goes back to their original chairs. Both $t$ and $x$ are real at one step of the triple product, and get one minus sign, so stay negative. The $y$ and $z$ get two sign flips, so remain positive about the operation. If one takes the conjugate of this triple product, then $x$ will be the only positive term. I call this the first conjugate."
   ]
  },
  {
   "cell_type": "code",
   "execution_count": 3,
   "metadata": {},
   "outputs": [
    {
     "name": "stdout",
     "output_type": "stream",
     "text": [
      "(-t, x, -y, -z) QxQxQ.*\n"
     ]
    }
   ],
   "source": [
    "Qi, Qj, Qk = qt.QH([0, 1, 0, 0]), qt.QH([0, 0, 1, 0]), qt.QH([0, 0, 0, 1])\n",
    "first_conj = Qi.product(R.product(Qi)).conj()\n",
    "print(first_conj)"
   ]
  },
  {
   "cell_type": "markdown",
   "metadata": {},
   "source": [
    "The same trick can be done for the second conjugate using a triple product with $j$. The conj() operator has been designed to take the value of 1 or 2 and generate the appropriate conjugate."
   ]
  },
  {
   "cell_type": "code",
   "execution_count": 4,
   "metadata": {},
   "outputs": [
    {
     "name": "stdout",
     "output_type": "stream",
     "text": [
      "(-t, x, -y, -z) Q.*1\n",
      "(-t, -x, y, -z) Q.*2\n"
     ]
    }
   ],
   "source": [
    "print(R.conj(1))\n",
    "print(R.conj(2))"
   ]
  },
  {
   "cell_type": "markdown",
   "metadata": {},
   "source": [
    "What about the third conjugate operator? Look what happens when we combine the three we have."
   ]
  },
  {
   "cell_type": "code",
   "execution_count": 5,
   "metadata": {},
   "outputs": [
    {
     "name": "stdout",
     "output_type": "stream",
     "text": [
      "(t, x, y, -z) Q.*.*1.*2\n"
     ]
    }
   ],
   "source": [
    "print(R.conj().conj(1).conj(2))"
   ]
  },
  {
   "cell_type": "markdown",
   "metadata": {},
   "source": [
    "It is a sign flip a way from doing the job, so flip the signs."
   ]
  },
  {
   "cell_type": "code",
   "execution_count": 6,
   "metadata": {},
   "outputs": [
    {
     "name": "stdout",
     "output_type": "stream",
     "text": [
      "(-t, -x, -y, z) Q.*.*1.*2.*-1\n"
     ]
    }
   ],
   "source": [
    "print(R.conj().conj(1).conj(2).flip_signs())"
   ]
  },
  {
   "cell_type": "markdown",
   "metadata": {},
   "source": [
    "Having another conjugate operator is not necessary. Mathematics aspires to be minimalist."
   ]
  },
  {
   "cell_type": "markdown",
   "metadata": {},
   "source": [
    "## Bracket Notation and Three Identities"
   ]
  },
  {
   "cell_type": "markdown",
   "metadata": {},
   "source": [
    "Bracket notation from this quaternion-centric perspective is just a quaternion product where the first term must necessarily be conjugated. I have called this the \"Euclidean product\". The Euclidean product is not an associative operator unlike the quaternion product. Write out three things in bracket notation that are known to be true.\n",
    "1. $<A|A> \\rightarrow A^* A$ is real\n",
    "1. $<A|B> = <B|A>^* \\rightarrow A^* B = (B^* A)^*$\n",
    "1. $(<A|+<B|)|C> = <A|C> + <B|C> \\rightarrow (A+ B)^*C = A^*C + B^* C$\n",
    "\n",
    "Note: taken from page 31 of \"Quantum Mechanics, the Theoretical Minimum\" by Susskind and Friedman. This will provide the first signs that the odd math of quantum mechanics is the math of Euclidean products."
   ]
  },
  {
   "cell_type": "code",
   "execution_count": 7,
   "metadata": {},
   "outputs": [
    {
     "name": "stdout",
     "output_type": "stream",
     "text": [
      "(A1**2 + A2**2 + A3**2 + a0**2, 0, 0, 0) Q.*xQ\n"
     ]
    }
   ],
   "source": [
    "a0, A1, A2, A3 = sp.symbols(\"a0 A1 A2 A3\")\n",
    "b0, B1, B2, B3 = sp.symbols(\"b0 B1 B2 B3\")\n",
    "c0, C1, C2, C3 = sp.symbols(\"c0 C1 C2 C3\")\n",
    "A = qt.QH([a0, A1, A2, A3])\n",
    "B = qt.QH([b0, B1, B2, B3])\n",
    "C = qt.QH([c0, C1, C2, C3])\n",
    "print(A.conj().product(A))"
   ]
  },
  {
   "cell_type": "markdown",
   "metadata": {},
   "source": [
    "The first term is a real-valued, with the imaginary vector equal to zero. It is important to understand exactly why this is so. A quaternion point in the direction of itself, so that all the anti-symmetric cross terms are equal to zero. The conjugate operator picks out the mirror reflection of the quaternion. The product of an imaginary with its mirror image is an all positive real number and zero for all three imaginary numbers.\n",
    "\n",
    "Calculus is the story of neighborhoods near points. There are two classes of changes one can imagine. In the first, a point $A$ goes to $A'$. It could be either slightly bigger or smaller, shown in a slightly bigger or smaller first value. Or the mirror reflection to be slightly off. This would create a non-zero space-times-time 3-vector. \n",
    "\n",
    "Note that the first and second conjugates do not have the \"make it all real\" property in any obvious way. This is due to the fact that the operations point the 3-vector in a different direction. See what happens when one uses the same operation on the two other conjugate functions:"
   ]
  },
  {
   "cell_type": "code",
   "execution_count": 8,
   "metadata": {},
   "outputs": [
    {
     "name": "stdout",
     "output_type": "stream",
     "text": [
      "(-A1**2 + A2**2 + A3**2 - a0**2, 0, -2*A1*A3 - 2*A2*a0, 2*A1*A2 - 2*A3*a0) Q.*1xQ\n",
      "(A1**2 - A2**2 + A3**2 - a0**2, -2*A1*a0 + 2*A2*A3, 0, -2*A1*A2 - 2*A3*a0) Q.*2xQ\n"
     ]
    }
   ],
   "source": [
    "print(A.conj(1).product(A))\n",
    "print(A.conj(2).product(A))"
   ]
  },
  {
   "cell_type": "markdown",
   "metadata": {},
   "source": [
    "This result was not what I expected. The square of the norm, $A^* A$, has three zero terms and one non-negative one. The opposite situation occurs for the first and second conjugates: there is one zero, and potentially three non-zero terms. At this point, I don't know what this mean, but will keep the observation in mind."
   ]
  },
  {
   "cell_type": "markdown",
   "metadata": {},
   "source": [
    "Test out the second identity:\n",
    "\n",
    "$$(A^* B)^* = (B^*, A)$$"
   ]
  },
  {
   "cell_type": "code",
   "execution_count": 9,
   "metadata": {},
   "outputs": [
    {
     "name": "stdout",
     "output_type": "stream",
     "text": [
      "(A1*B1 + A2*B2 + A3*B3 + a0*b0, A1*b0 + A2*B3 - A3*B2 - B1*a0, -A1*B3 + A2*b0 + A3*B1 - B2*a0, A1*B2 - A2*B1 + A3*b0 - B3*a0) Q.*xQ.*\n",
      "(A1*B1 + A2*B2 + A3*B3 + a0*b0, A1*b0 + A2*B3 - A3*B2 - B1*a0, -A1*B3 + A2*b0 + A3*B1 - B2*a0, A1*B2 - A2*B1 + A3*b0 - B3*a0) Q.*xQ\n",
      "(0, 0, 0, 0) Q.*xQ.*-Q.*xQ\n"
     ]
    }
   ],
   "source": [
    "AB_conj = A.conj().product(B).conj()\n",
    "BA = B.conj().product(A)\n",
    "print(AB_conj)\n",
    "print(BA)\n",
    "print(AB_conj.dif(BA))"
   ]
  },
  {
   "cell_type": "markdown",
   "metadata": {},
   "source": [
    "Despite the fact that quaternions do not commute, the conjugate operator does the job correctly because the angle between the two quaternions does not change. The same cannot be said for the first conjugate:"
   ]
  },
  {
   "cell_type": "code",
   "execution_count": 10,
   "metadata": {
    "scrolled": true
   },
   "outputs": [
    {
     "name": "stdout",
     "output_type": "stream",
     "text": [
      "(A1*B1 - A2*B2 - A3*B3 + a0*b0, A1*b0 - A2*B3 + A3*B2 - B1*a0, A1*B3 + A2*b0 + A3*B1 + B2*a0, -A1*B2 - A2*B1 + A3*b0 + B3*a0) Q.*1xQ.*1\n",
      "(-A1*B1 + A2*B2 + A3*B3 - a0*b0, -A1*b0 + A2*B3 - A3*B2 + B1*a0, -A1*B3 - A2*b0 - A3*B1 - B2*a0, A1*B2 + A2*B1 - A3*b0 - B3*a0) Q.*1xQ\n",
      "(2*A1*B1 - 2*A2*B2 - 2*A3*B3 + 2*a0*b0, 2*A1*b0 - 2*A2*B3 + 2*A3*B2 - 2*B1*a0, 2*A1*B3 + 2*A2*b0 + 2*A3*B1 + 2*B2*a0, -2*A1*B2 - 2*A2*B1 + 2*A3*b0 + 2*B3*a0) Q.*1xQ.*1-Q.*1xQ\n"
     ]
    }
   ],
   "source": [
    "AB_conj_1 = A.conj(1).product(B).conj(1)\n",
    "BA_conj_1 = B.conj(1).product(A)\n",
    "print(AB_conj_1)\n",
    "print(BA_conj_1)\n",
    "print(AB_conj_1.dif(BA_conj_1))"
   ]
  },
  {
   "cell_type": "markdown",
   "metadata": {},
   "source": [
    "Again, I don't know what to make of this particular result."
   ]
  },
  {
   "cell_type": "markdown",
   "metadata": {},
   "source": [
    "Now for the third identity about sums."
   ]
  },
  {
   "cell_type": "code",
   "execution_count": 11,
   "metadata": {},
   "outputs": [
    {
     "name": "stdout",
     "output_type": "stream",
     "text": [
      "(-C1*(-A1 - B1) - C2*(-A2 - B2) - C3*(-A3 - B3) + c0*(a0 + b0), C1*(a0 + b0) - C2*(-A3 - B3) + C3*(-A2 - B2) + c0*(-A1 - B1), C1*(-A3 - B3) + C2*(a0 + b0) - C3*(-A1 - B1) + c0*(-A2 - B2), -C1*(-A2 - B2) + C2*(-A1 - B1) + C3*(a0 + b0) + c0*(-A3 - B3)) Q.*+Q.*xQ\n",
      "(A1*C1 + A2*C2 + A3*C3 + B1*C1 + B2*C2 + B3*C3 + a0*c0 + b0*c0, -A1*c0 - A2*C3 + A3*C2 - B1*c0 - B2*C3 + B3*C2 + C1*a0 + C1*b0, A1*C3 - A2*c0 - A3*C1 + B1*C3 - B2*c0 - B3*C1 + C2*a0 + C2*b0, -A1*C2 + A2*C1 - A3*c0 - B1*C2 + B2*C1 - B3*c0 + C3*a0 + C3*b0) Q.*xQ+Q.*xQ\n",
      "(0, 0, 0, 0) Q.*xQ+Q.*xQ-Q.*xQ+Q.*xQ\n"
     ]
    }
   ],
   "source": [
    "A_plus_B_then_C = A.conj().add(B.conj()).product(C)\n",
    "AC_plus_BC = A.conj().product(C).add(B.conj().product(C))\n",
    "print(A_plus_B_then_C)\n",
    "print(AC_plus_BC)\n",
    "print(AC_plus_BC.dif(AC_plus_BC))"
   ]
  },
  {
   "cell_type": "markdown",
   "metadata": {},
   "source": [
    "It is a minor struggle to get the terms to \"look\" the same, but subtracting one from the other shows they are identical. Does this property hold for the other two conjugates? I think it should, but let's test it:"
   ]
  },
  {
   "cell_type": "code",
   "execution_count": 12,
   "metadata": {},
   "outputs": [
    {
     "name": "stdout",
     "output_type": "stream",
     "text": [
      "(-C1*(A1 + B1) - C2*(-A2 - B2) - C3*(-A3 - B3) + c0*(-a0 - b0), C1*(-a0 - b0) - C2*(-A3 - B3) + C3*(-A2 - B2) + c0*(A1 + B1), C1*(-A3 - B3) + C2*(-a0 - b0) - C3*(A1 + B1) + c0*(-A2 - B2), -C1*(-A2 - B2) + C2*(A1 + B1) + C3*(-a0 - b0) + c0*(-A3 - B3)) Q.*1+Q.*1xQ\n",
      "(-A1*C1 + A2*C2 + A3*C3 - B1*C1 + B2*C2 + B3*C3 - a0*c0 - b0*c0, A1*c0 - A2*C3 + A3*C2 + B1*c0 - B2*C3 + B3*C2 - C1*a0 - C1*b0, -A1*C3 - A2*c0 - A3*C1 - B1*C3 - B2*c0 - B3*C1 - C2*a0 - C2*b0, A1*C2 + A2*C1 - A3*c0 + B1*C2 + B2*C1 - B3*c0 - C3*a0 - C3*b0) Q.*1xQ+Q.*1xQ\n",
      "(0, 0, 0, 0) Q.*1xQ+Q.*1xQ-Q.*1xQ+Q.*1xQ\n"
     ]
    }
   ],
   "source": [
    "A_plus_B_then_C_conj1 = A.conj(1).add(B.conj(1)).product(C)\n",
    "AC_plus_BC_conj1 = A.conj(1).product(C).add(B.conj(1).product(C))\n",
    "print(A_plus_B_then_C_conj1)\n",
    "print(AC_plus_BC_conj1)\n",
    "print(AC_plus_BC_conj1.dif(AC_plus_BC_conj1))"
   ]
  },
  {
   "cell_type": "code",
   "execution_count": 13,
   "metadata": {},
   "outputs": [
    {
     "name": "stdout",
     "output_type": "stream",
     "text": [
      "(-C1*(-A1 - B1) - C2*(A2 + B2) - C3*(-A3 - B3) + c0*(-a0 - b0), C1*(-a0 - b0) - C2*(-A3 - B3) + C3*(A2 + B2) + c0*(-A1 - B1), C1*(-A3 - B3) + C2*(-a0 - b0) - C3*(-A1 - B1) + c0*(A2 + B2), -C1*(A2 + B2) + C2*(-A1 - B1) + C3*(-a0 - b0) + c0*(-A3 - B3)) Q.*2+Q.*2xQ\n",
      "(A1*C1 - A2*C2 + A3*C3 + B1*C1 - B2*C2 + B3*C3 - a0*c0 - b0*c0, -A1*c0 + A2*C3 + A3*C2 - B1*c0 + B2*C3 + B3*C2 - C1*a0 - C1*b0, A1*C3 + A2*c0 - A3*C1 + B1*C3 + B2*c0 - B3*C1 - C2*a0 - C2*b0, -A1*C2 - A2*C1 - A3*c0 - B1*C2 - B2*C1 - B3*c0 - C3*a0 - C3*b0) Q.*2xQ+Q.*2xQ\n",
      "(0, 0, 0, 0) Q.*2xQ+Q.*2xQ-Q.*2xQ+Q.*2xQ\n"
     ]
    }
   ],
   "source": [
    "A_plus_B_then_C_conj2 = A.conj(2).add(B.conj(2)).product(C)\n",
    "AC_plus_BC_conj2 = A.conj(2).product(C).add(B.conj(2).product(C))\n",
    "print(A_plus_B_then_C_conj2)\n",
    "print(AC_plus_BC_conj2)\n",
    "print(AC_plus_BC_conj2.dif(AC_plus_BC_conj2))"
   ]
  },
  {
   "cell_type": "markdown",
   "metadata": {},
   "source": [
    "This identity does apply to all three conjugate operators."
   ]
  },
  {
   "cell_type": "markdown",
   "metadata": {},
   "source": [
    "## Quantum States and Quaternion Series"
   ]
  },
  {
   "cell_type": "markdown",
   "metadata": {},
   "source": [
    "A quantum state is an n-dimensional vector space. This is fundamentally different from a set of states because certain math relationships are allowed. Vectors can be added to one another, multiplied by complex numbers. One can take the inner product of two vectors.\n",
    "\n",
    "A perspective I will explore here is that a (possibly infinite) series of quaternions has the same algebraic properties of Hilbert spaces when one uses the Euclidean product, $A^* B = \\sum_{1}^{n} a_n^* b_n$."
   ]
  },
  {
   "cell_type": "code",
   "execution_count": 37,
   "metadata": {},
   "outputs": [
    {
     "name": "stdout",
     "output_type": "stream",
     "text": [
      "u\n",
      "n=1: (1, 0, 0, 0) 1\n",
      "n=2: (0, 0, 0, 0) 0\n",
      "d\n",
      "n=1: (0, 0, 0, 0) 0\n",
      "n=2: (1, 0, 0, 0) 1\n"
     ]
    }
   ],
   "source": [
    "q0 = qt.QH().q_0()\n",
    "q1 = qt.QH().q_1()\n",
    "\n",
    "u = qt.QHStates([q1, q0])\n",
    "d = qt.QHStates([q0, q1])\n",
    "\n",
    "print(\"u\")\n",
    "print(u)\n",
    "print(\"d\")\n",
    "print(d)"
   ]
  },
  {
   "cell_type": "markdown",
   "metadata": {},
   "source": [
    "Calculate $<u|u>$, $<d|d>$ and $<u|d>$:"
   ]
  },
  {
   "cell_type": "code",
   "execution_count": 38,
   "metadata": {},
   "outputs": [
    {
     "name": "stdout",
     "output_type": "stream",
     "text": [
      "<u|u>\n",
      "n=1: (1, 0, 0, 0) 1.*x1\n",
      "n=2: (0, 0, 0, 0) 0.*x0\n",
      "(1, 0, 0, 0) Q+1.*x1+0.*x0\n"
     ]
    }
   ],
   "source": [
    "uu = u.Euclidean_product(u)\n",
    "uu_sum = uu.summation()\n",
    "print(\"<u|u>\")\n",
    "print(uu)\n",
    "print(\"sum\")\n",
    "print(uu_norm)"
   ]
  },
  {
   "cell_type": "code",
   "execution_count": 43,
   "metadata": {
    "scrolled": true
   },
   "outputs": [
    {
     "name": "stdout",
     "output_type": "stream",
     "text": [
      "<d|d>\n",
      "n=1: (0, 0, 0, 0) 0.*x0\n",
      "n=2: (1, 0, 0, 0) 1.*x1\n",
      "sum:  (1, 0, 0, 0) Q+0.*x0+1.*x1\n"
     ]
    }
   ],
   "source": [
    "dd = d.Euclidean_product(d)\n",
    "dd_sum = dd.summation()\n",
    "print(\"<d|d>\")\n",
    "print(dd)\n",
    "print(\"sum: \", dd_sum)"
   ]
  },
  {
   "cell_type": "code",
   "execution_count": 41,
   "metadata": {},
   "outputs": [
    {
     "name": "stdout",
     "output_type": "stream",
     "text": [
      "<u|d>\n",
      "n=1: (0, 0, 0, 0) 1.*x0\n",
      "n=2: (0, 0, 0, 0) 0.*x1\n",
      "sum:  (0, 0, 0, 0) Q+1.*x0+0.*x1\n"
     ]
    }
   ],
   "source": [
    "ud = u.Euclidean_product(d)\n",
    "ud_sum = ud.summation()\n",
    "print(\"<u|d>\")\n",
    "print(ud)\n",
    "print(\"sum: \", ud_sum)"
   ]
  },
  {
   "cell_type": "markdown",
   "metadata": {},
   "source": [
    "The next pair of states uses $u$ and $d$ like so (TTM, page 41):"
   ]
  },
  {
   "cell_type": "code",
   "execution_count": 48,
   "metadata": {},
   "outputs": [
    {
     "name": "stdout",
     "output_type": "stream",
     "text": [
      "r\n",
      "n=1: (0.707106781186548, 0, 0, 0) Q\n",
      "n=2: (0.707106781186548, 0, 0, 0) Q\n",
      "L\n",
      "n=1: (0.707106781186548, 0, 0, 0) Q\n",
      "n=2: (-0.707106781186548, 0, 0, 0) Q\n"
     ]
    }
   ],
   "source": [
    "sqrt_2 = qt.QH([sp.sqrt(1/2), 0, 0, 0])\n",
    "\n",
    "r = qt.QHStates([qt.QH([sp.sqrt(1/2),0,0,0]), qt.QH([sp.sqrt(1/2),0,0,0])])\n",
    "L = qt.QHStates([qt.QH([sp.sqrt(1/2),0,0,0]), qt.QH([- sp.sqrt(1/2),0,0,0])])\n",
    "\n",
    "print(\"r\")\n",
    "print(r)\n",
    "print(\"L\")\n",
    "print(L)"
   ]
  },
  {
   "cell_type": "code",
   "execution_count": 54,
   "metadata": {},
   "outputs": [
    {
     "name": "stdout",
     "output_type": "stream",
     "text": [
      "<r|r>\n",
      "n=1: (0.500000000000000, 0, 0, 0) Q.*xQ\n",
      "n=2: (0.500000000000000, 0, 0, 0) Q.*xQ\n",
      "sum\n",
      "(1.00000000000000, 0, 0, 0) Q+Q.*xQ+Q.*xQ\n",
      "\n",
      "<L|L>\n",
      "n=1: (0.500000000000000, 0, 0, 0) Q.*xQ\n",
      "n=2: (0.500000000000000, 0, 0, 0) Q.*xQ\n",
      "sum\n",
      "(1.00000000000000, 0, 0, 0) Q+Q.*xQ+Q.*xQ\n",
      "\n",
      "<r|L>\n",
      "n=1: (0.500000000000000, 0, 0, 0) Q.*xQ\n",
      "n=2: (-0.500000000000000, 0, 0, 0) Q.*xQ\n",
      "sum\n",
      "(0, 0, 0, 0) Q+Q.*xQ+Q.*xQ\n"
     ]
    }
   ],
   "source": [
    "rr = r.Euclidean_product(r)\n",
    "rr_sum = rr.summation()\n",
    "print(\"<r|r>\")\n",
    "print(rr)\n",
    "print(\"sum\")\n",
    "print(rr_sum)\n",
    "print()\n",
    "LL = L.Euclidean_product(L)\n",
    "LL_sum = LL.summation()\n",
    "print(\"<L|L>\")\n",
    "print(LL)\n",
    "print(\"sum\")\n",
    "print(LL_sum)\n",
    "print()\n",
    "rL = r.Euclidean_product(L)\n",
    "rL_sum = rL.summation()\n",
    "print(\"<r|L>\")\n",
    "print(rL)\n",
    "print(\"sum\")\n",
    "print(rL_sum)"
   ]
  },
  {
   "cell_type": "markdown",
   "metadata": {},
   "source": [
    "Orthonormal again, as hoped for."
   ]
  },
  {
   "cell_type": "markdown",
   "metadata": {},
   "source": [
    "The final calculation for chapter 2 is like the one for $r$ and $L$ except one uses an arbitrarily chosen imaginary value - it could point any direction in 3D space - like so:"
   ]
  },
  {
   "cell_type": "code",
   "execution_count": 52,
   "metadata": {},
   "outputs": [
    {
     "name": "stdout",
     "output_type": "stream",
     "text": [
      "i\n",
      "n=1: (0.707106781186548, 0, 0, 0) Q\n",
      "n=2: (0, 0.707106781186548, 0, 0) Q\n",
      "o\n",
      "n=1: (0.707106781186548, 0, 0, 0) Q\n",
      "n=2: (0, -0.707106781186548, 0, 0) Q\n"
     ]
    }
   ],
   "source": [
    "i = qt.QHStates([qt.QH([sp.sqrt(1/2),0,0,0]), qt.QH([0, sp.sqrt(1/2), 0, 0])])\n",
    "o = qt.QHStates([qt.QH([sp.sqrt(1/2),0,0,0]), qt.QH([0, - sp.sqrt(1/2), 0, 0])])\n",
    "\n",
    "print(\"i\")\n",
    "print(i)\n",
    "print(\"o\")\n",
    "print(o)"
   ]
  },
  {
   "cell_type": "code",
   "execution_count": 53,
   "metadata": {},
   "outputs": [
    {
     "name": "stdout",
     "output_type": "stream",
     "text": [
      "<i|i>\n",
      "n=1: (0.500000000000000, 0, 0, 0) Q.*xQ\n",
      "n=2: (0.500000000000000, 0, 0, 0) Q.*xQ\n",
      "sum\n",
      "(1.00000000000000, 0, 0, 0) Q+Q.*xQ+Q.*xQ\n",
      "\n",
      "<o|o>\n",
      "n=1: (0.500000000000000, 0, 0, 0) Q.*xQ\n",
      "n=2: (0.500000000000000, 0, 0, 0) Q.*xQ\n",
      "sum\n",
      "(1.00000000000000, 0, 0, 0) Q+Q.*xQ+Q.*xQ\n",
      "\n",
      "<i|o>\n",
      "n=1: (0.500000000000000, 0, 0, 0) Q.*xQ\n",
      "n=2: (-0.500000000000000, 0, 0, 0) Q.*xQ\n",
      "sum\n",
      "(0, 0, 0, 0) Q+Q.*xQ+Q.*xQ\n"
     ]
    }
   ],
   "source": [
    "ii = i.Euclidean_product(i)\n",
    "ii_sum = ii.summation()\n",
    "print(\"<i|i>\")\n",
    "print(ii)\n",
    "print(\"sum\")\n",
    "print(ii_sum)\n",
    "print()\n",
    "oo = o.Euclidean_product(o)\n",
    "oo_sum = oo.summation()\n",
    "print(\"<o|o>\")\n",
    "print(oo)\n",
    "print(\"sum\")\n",
    "print(oo_sum)\n",
    "print()\n",
    "io = i.Euclidean_product(o)\n",
    "io_sum = io.summation()\n",
    "print(\"<i|o>\")\n",
    "print(io)\n",
    "print(\"sum\")\n",
    "print(io_sum)"
   ]
  }
 ],
 "metadata": {
  "kernelspec": {
   "display_name": "Python 3",
   "language": "python",
   "name": "python3"
  },
  "language_info": {
   "codemirror_mode": {
    "name": "ipython",
    "version": 3
   },
   "file_extension": ".py",
   "mimetype": "text/x-python",
   "name": "python",
   "nbconvert_exporter": "python",
   "pygments_lexer": "ipython3",
   "version": "3.5.1"
  }
 },
 "nbformat": 4,
 "nbformat_minor": 2
}
