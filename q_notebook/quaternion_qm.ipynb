{
 "cells": [
  {
   "cell_type": "markdown",
   "metadata": {},
   "source": [
    "# Quaternion Series Quantum Mechanics"
   ]
  },
  {
   "cell_type": "markdown",
   "metadata": {},
   "source": [
    "by Doug Sweetser, email to sweetser@alum.mit.edu"
   ]
  },
  {
   "cell_type": "markdown",
   "metadata": {},
   "source": [
    "This notebook is being created as a companion to the book \"Quantum Mechanics: the Theoretical Minimum\" by Susskind and Friedman (QM:TTM for short). Those authors of course never use quaternions as they are a bit player in the crowded field of mathematical tools. Nature has used one accounting system since the beginning of space-time, so I will be a jerk in the name of consistency. This leads to a different perspective on what makes an equation quantum mechanical. If a conjugate operator is used, then the expression is about quantum mechanics. It is odd to have such a brief assertion given the complexity of the subject, but that make the hypothesis fun - and testable by seeing if anything in the book cannot be done with quaternions and their conjugates. Import the tools to work with quaternions in this notebook."
   ]
  },
  {
   "cell_type": "code",
   "execution_count": 2,
   "metadata": {},
   "outputs": [],
   "source": [
    "%%capture\n",
    "%matplotlib inline\n",
    "import numpy as np\n",
    "import sympy as sp\n",
    "import matplotlib.pyplot as plt\n",
    "\n",
    "# To get equations the look like, well, equations, use the following.\n",
    "from sympy.interactive import printing\n",
    "printing.init_printing(use_latex=True)\n",
    "from IPython.display import display\n",
    "\n",
    "# Tools for manipulating quaternions.\n",
    "import Q_tools as qt;"
   ]
  },
  {
   "cell_type": "markdown",
   "metadata": {},
   "source": [
    "## Lecture 1: Systems and Experiments"
   ]
  },
  {
   "cell_type": "markdown",
   "metadata": {},
   "source": [
    "### Bracket Notation and Three Identities"
   ]
  },
  {
   "cell_type": "markdown",
   "metadata": {},
   "source": [
    "Bracket notation from this quaternion-centric perspective is just a quaternion product where the first term must necessarily be conjugated. I have called this the \"Euclidean product\". The quaternion product is associative but the Euclidean product is not ($(A^* B)^* C \\ne A^* (B^* C)$ although their norms are equal). Write out three things in bracket notation that are known to be true about inner products(QM:TTH, p. 31).\n",
    "1. $<A|A> \\rightarrow A^* A$ is real\n",
    "1. $<A|B> = <B|A>^* \\rightarrow A^* B = (B^* A)^*$\n",
    "1. $(<A|+<B|)|C> = <A|C> + <B|C> \\rightarrow (A+ B)^*C = A^*C + B^* C$\n",
    "\n",
    "This may provide the first signs that the odd math of quantum mechanics is the math of Euclidean products of quaternions.\n",
    "\n",
    "So, is $A^* A$ real? Yes and no."
   ]
  },
  {
   "cell_type": "code",
   "execution_count": 3,
   "metadata": {},
   "outputs": [
    {
     "data": {
      "image/png": "[encoded data removed]",
      "text/latex": [
       "$$A_{1}^{2} + A_{2}^{2} + A_{3}^{2} + a_{0}^{2}$$"
      ],
      "text/plain": [
       "  2     2     2     2\n",
       "A₁  + A₂  + A₃  + a₀ "
      ]
     },
     "metadata": {},
     "output_type": "display_data"
    },
    {
     "data": {
      "image/png": "[encoded data removed]",
      "text/latex": [
       "$$0$$"
      ],
      "text/plain": [
       "0"
      ]
     },
     "metadata": {},
     "output_type": "display_data"
    },
    {
     "data": {
      "image/png": "[encoded data removed]",
      "text/latex": [
       "$$0$$"
      ],
      "text/plain": [
       "0"
      ]
     },
     "metadata": {},
     "output_type": "display_data"
    },
    {
     "data": {
      "image/png": "[encoded data removed]",
      "text/latex": [
       "$$0$$"
      ],
      "text/plain": [
       "0"
      ]
     },
     "metadata": {},
     "output_type": "display_data"
    }
   ],
   "source": [
    "a0, A1, A2, A3 = sp.symbols(\"a0 A1 A2 A3\")\n",
    "b0, B1, B2, B3 = sp.symbols(\"b0 B1 B2 B3\")\n",
    "c0, C1, C2, C3 = sp.symbols(\"c0 C1 C2 C3\")\n",
    "A = qt.QH([a0, A1, A2, A3], qtype=\"A\")\n",
    "B = qt.QH([b0, B1, B2, B3], qtype=\"B\")\n",
    "C = qt.QH([c0, C1, C2, C3], qtype=\"C\")\n",
    "display(A.conj().product(A).t)\n",
    "display(A.conj().product(A).x)\n",
    "display(A.conj().product(A).y)\n",
    "display(A.conj().product(A).z)"
   ]
  },
  {
   "cell_type": "markdown",
   "metadata": {},
   "source": [
    "The first term is a real-valued, with the 3-imaginary vector equal to zero. I think it is bad practice to just pretend the three zeros are *not there in any way*. One can make an equivalence relation between quaternions of the form $(\\mathbb{R}, 0, 0, 0)$ and the real numbers. The real numbers are a subgroup of quaternions, and never the other way around.\n",
    "\n",
    "It is important to understand exactly why the three imaginary terms are zero. It is too common for people to say \"it's the norm\" and give the subject no thought. No thought means no insights. A quaternion points in the direction of itself, so all the anti-symmetric cross terms are equal to zero. The conjugate operator picks out the mirror reflection of the imaginary terms. The product of an imaginary with its mirror image is an all positive real number and zero for all three imaginary numbers.\n",
    "\n",
    "Calculus is the story of neighborhoods near points. There are two broad classes of changes one can imagine for a norm. In the first, a point $A$ goes to $A'$. It could be either slightly bigger or smaller, shown in a slightly bigger or smaller first value. Or the mirror reflection to be slightly off. This would create a non-zero space-times-time 3-vector. Everyone accepts that a norm can get larger or smaller, it is a \"size\" thing. But a change in direction will lead to imaginary terms that can either commute, anti-commute, or be a mixture of both. This possibility makes this view of a quaternion norm sound richer."
   ]
  },
  {
   "cell_type": "markdown",
   "metadata": {},
   "source": [
    "Test out the second identity:\n",
    "\n",
    "$$(A^* B)^* = (B^*, A)$$"
   ]
  },
  {
   "cell_type": "code",
   "execution_count": 4,
   "metadata": {},
   "outputs": [
    {
     "name": "stdout",
     "output_type": "stream",
     "text": [
      "(A* B)* = (A1*B1 + A2*B2 + A3*B3 + a0*b0, -A1*b0 - A2*B3 + A3*B2 + B1*a0, A1*B3 - A2*b0 - A3*B1 + B2*a0, -A1*B2 + A2*B1 - A3*b0 + B3*a0) A*xB\n",
      "B* A    = (A1*B1 + A2*B2 + A3*B3 + a0*b0, -A1*b0 - A2*B3 + A3*B2 + B1*a0, A1*B3 - A2*b0 - A3*B1 + B2*a0, -A1*B2 + A2*B1 - A3*b0 + B3*a0) B*xA*\n",
      "(A* B)* - B* A = (0, 0, 0, 0) A*xB-B*xA*\n"
     ]
    }
   ],
   "source": [
    "AB_conj = A.Euclidean_product(B)\n",
    "BA = B.Euclidean_product(A).conj()\n",
    "print(\"(A* B)* = {}\".format(AB_conj))\n",
    "print(\"B* A    = {}\".format(BA))\n",
    "print(\"(A* B)* - B* A = {}\".format(AB_conj.dif(BA)))"
   ]
  },
  {
   "cell_type": "markdown",
   "metadata": {},
   "source": [
    "Note on notation: someone pointed out that is *absolutely all calculations start and end with quaternions*, then it is easy to feel lost - this quaternion looks like that one. The string at the end that I call a \"qtype\" represents all the steps that went into a calculation. The last qtype above reads: A*xB-B*xA* which hopefully is clear in this contex."
   ]
  },
  {
   "cell_type": "markdown",
   "metadata": {},
   "source": [
    "Despite the fact that quaternions do not commute, the conjugate operator does the job correctly because the angle between the two quaternions does not change."
   ]
  },
  {
   "cell_type": "markdown",
   "metadata": {},
   "source": [
    "Now for the third identity about sums."
   ]
  },
  {
   "cell_type": "code",
   "execution_count": 5,
   "metadata": {},
   "outputs": [
    {
     "name": "stdout",
     "output_type": "stream",
     "text": [
      "(A+B)* C:  (A1*C1 + A2*C2 + A3*C3 + B1*C1 + B2*C2 + B3*C3 + a0*c0 + b0*c0, -A1*c0 - A2*C3 + A3*C2 - B1*c0 - B2*C3 + B3*C2 + C1*a0 + C1*b0, A1*C3 - A2*c0 - A3*C1 + B1*C3 - B2*c0 - B3*C1 + C2*a0 + C2*b0, -A1*C2 + A2*C1 - A3*c0 - B1*C2 + B2*C1 - B3*c0 + C3*a0 + C3*b0) A*+B*xC\n",
      "\n",
      "A*C + B*C: (A1*C1 + A2*C2 + A3*C3 + B1*C1 + B2*C2 + B3*C3 + a0*c0 + b0*c0, -A1*c0 - A2*C3 + A3*C2 - B1*c0 - B2*C3 + B3*C2 + C1*a0 + C1*b0, A1*C3 - A2*c0 - A3*C1 + B1*C3 - B2*c0 - B3*C1 + C2*a0 + C2*b0, -A1*C2 + A2*C1 - A3*c0 - B1*C2 + B2*C1 - B3*c0 + C3*a0 + C3*b0) A*xC+B*xC\n",
      "\n",
      "(A+B)* C - (A*C + B*C): (0, 0, 0, 0) A*+B*xC-A*xC+B*xC\n"
     ]
    }
   ],
   "source": [
    "A_plus_B_then_C = A.conj().add(B.conj()).product(C).expand_q()\n",
    "AC_plus_BC = A.conj().product(C).add(B.conj().product(C)).expand_q()\n",
    "print(\"(A+B)* C:  {}\\n\".format(A_plus_B_then_C))\n",
    "print(\"A*C + B*C: {}\\n\".format(AC_plus_BC))\n",
    "print(\"(A+B)* C - (A*C + B*C): {}\".format(A_plus_B_then_C.dif(AC_plus_BC)))"
   ]
  },
  {
   "cell_type": "markdown",
   "metadata": {},
   "source": [
    "Subtracting one from the other shows they are identical.\n",
    "\n",
    "There are many more algebraic relationships known for Hilbert spaces such as the triangle inequality and the Schwarz inequality which is the basis of the uncertainty principle. These all work for the [Euclidean product with quaternions](https://dougsweetser.github.io/Q/QM/bracket_notation/)."
   ]
  },
  {
   "cell_type": "markdown",
   "metadata": {},
   "source": [
    "## Lecture 2: Quantum States"
   ]
  },
  {
   "cell_type": "markdown",
   "metadata": {},
   "source": [
    "### Quaternion Series as Quantum States"
   ]
  },
  {
   "cell_type": "markdown",
   "metadata": {},
   "source": [
    "A quantum state is an n-dimensional vector space. This is fundamentally different from a set of states because certain math relationships are allowed. Vectors can be added to one another, multiplied by complex numbers. One can take the inner product of two vectors. Most important calculations involve taking the inner product.\n",
    "\n",
    "A perspective I will explore here is that a (possibly infinite) series of quaternions has the same algebraic properties of Hilbert spaces when one uses the Euclidean product, $A^* B = \\sum_{1}^{n} a_n^* b_n$"
   ]
  },
  {
   "cell_type": "markdown",
   "metadata": {},
   "source": [
    "![AxB.png](images/AxB.png)"
   ]
  },
  {
   "cell_type": "markdown",
   "metadata": {},
   "source": [
    "This only works if the length of the series for **A** is exactly equal to that of **B**. Whatever can be done with a quaternion can be done with its series representation. Unlike vectors that can either be be a row or a column, quaternion series only have a length. Let's just do one calculation, < A | A >:"
   ]
  },
  {
   "cell_type": "code",
   "execution_count": 6,
   "metadata": {},
   "outputs": [
    {
     "name": "stdout",
     "output_type": "stream",
     "text": [
      "<A|A>\n",
      "n=1: (14, 0, 0, 0) Q*xQ\n",
      "n=2: (10, 0, 0, 0) Q*xQ\n",
      "sum= (24, 0, 0, 0) Q*xQ+Q*xQ\n"
     ]
    }
   ],
   "source": [
    "A = qt.QHStates([qt.QH([0,1,2,3]), qt.QH([1,2,1,2])])\n",
    "AA = A.Euclidean_product('bra', ket=A)\n",
    "AA.print_states(\"<A|A>\")"
   ]
  },
  {
   "cell_type": "markdown",
   "metadata": {},
   "source": [
    "A little calculation in the head should show this works as expected - except one is not used to seeing quaternion series in action."
   ]
  },
  {
   "cell_type": "markdown",
   "metadata": {},
   "source": [
    "The first system analyzed has but 2 states, keeping things simple. The first pair of states are likewise so simple they are orthonormal to a casual observer."
   ]
  },
  {
   "cell_type": "code",
   "execution_count": 7,
   "metadata": {},
   "outputs": [
    {
     "name": "stdout",
     "output_type": "stream",
     "text": [
      "u\n",
      "n=1: (1, 0, 0, 0) 1\n",
      "n=2: (0, 0, 0, 0) 0\n",
      "sum= (1, 0, 0, 0) 1+0\n",
      "\n",
      "d\n",
      "n=1: (0, 0, 0, 0) 0\n",
      "n=2: (1, 0, 0, 0) 1\n",
      "sum= (1, 0, 0, 0) 0+1\n"
     ]
    }
   ],
   "source": [
    "q0, q1, qi, qj, qk = qt.QH().q_0(), qt.QH().q_1(), qt.QH().q_i(), qt.QH().q_j(), qt.QH().q_k()\n",
    "\n",
    "u = qt.QHStates([q1, q0])\n",
    "d = qt.QHStates([q0, q1])\n",
    "\n",
    "u.print_states(\"u\", True)\n",
    "d.print_states(\"d\")"
   ]
  },
  {
   "cell_type": "markdown",
   "metadata": {},
   "source": [
    "Calculate $<u|u>$, $<d|d>$ and $<u|d>$:"
   ]
  },
  {
   "cell_type": "code",
   "execution_count": 10,
   "metadata": {},
   "outputs": [
    {
     "name": "stdout",
     "output_type": "stream",
     "text": [
      "<u|u>\n",
      "n=1: (1, 0, 0, 0) 1*x1\n",
      "n=2: (0, 0, 0, 0) 0*x0\n",
      "sum= (1, 0, 0, 0) 1*x1+0*x0\n"
     ]
    }
   ],
   "source": [
    "u.Euclidean_product('bra', ket=u).print_states(\"<u|u>\")"
   ]
  },
  {
   "cell_type": "code",
   "execution_count": 9,
   "metadata": {
    "scrolled": true
   },
   "outputs": [
    {
     "name": "stdout",
     "output_type": "stream",
     "text": [
      "<d|d>\n",
      "n=1: (0, 0, 0, 0) 0*x0\n",
      "n=2: (1, 0, 0, 0) 1*x1\n",
      "sum= (1, 0, 0, 0) 0*x0+1*x1\n"
     ]
    }
   ],
   "source": [
    "d.Euclidean_product('bra', ket=d).print_states(\"<d|d>\")"
   ]
  },
  {
   "cell_type": "code",
   "execution_count": 12,
   "metadata": {},
   "outputs": [
    {
     "name": "stdout",
     "output_type": "stream",
     "text": [
      "<u|d>\n",
      "n=1: (0, 0, 0, 0) 1*x0\n",
      "n=2: (0, 0, 0, 0) 0*x1\n",
      "sum= (0, 0, 0, 0) 1*x0+0*x1\n"
     ]
    }
   ],
   "source": [
    "u.Euclidean_product('bra', ket=d).print_states(\"<u|d>\")"
   ]
  },
  {
   "cell_type": "markdown",
   "metadata": {},
   "source": [
    "The next pair of states is constructed from the first pair, $u$ and $d$ like so (QM:TTM, page 41):"
   ]
  },
  {
   "cell_type": "code",
   "execution_count": 15,
   "metadata": {},
   "outputs": [
    {
     "name": "stdout",
     "output_type": "stream",
     "text": [
      "r\n",
      "n=1: (0.707106781186548, 0, 0, 0) Qx1+0x0+Qx0+0x1\n",
      "n=2: (0.707106781186548, 0, 0, 0) 0x1+Qx0+0x0+Qx1\n",
      "sum= (1.41421356237310, 0, 0, 0) Qx1+0x0+Qx0+0x1+0x1+Qx0+0x0+Qx1\n",
      "\n",
      "L\n",
      "n=1: (0.707106781186548, 0, 0, 0) Qx1+0x0-Qx0+0x1\n",
      "n=2: (-0.707106781186548, 0, 0, 0) 0x1+Qx0-0x0+Qx1\n",
      "sum= (0, 0, 0, 0) Qx1+0x0-Qx0+0x1+0x1+Qx0-0x0+Qx1\n"
     ]
    }
   ],
   "source": [
    "sqrt_2op = qt.QHStates([qt.QH([sp.sqrt(1/2), 0, 0, 0])])\n",
    "\n",
    "u2 = u.Euclidean_product('ket', operator=sqrt_2op)\n",
    "d2 = d.Euclidean_product('ket', operator=sqrt_2op)\n",
    "\n",
    "r = u2.add(d2)\n",
    "L = u2.dif(d2)\n",
    "\n",
    "r.print_states(\"r\", True)\n",
    "L.print_states(\"L\")"
   ]
  },
  {
   "cell_type": "code",
   "execution_count": 16,
   "metadata": {},
   "outputs": [
    {
     "name": "stdout",
     "output_type": "stream",
     "text": [
      "<r|r>\n",
      "n=1: (0.500000000000000, 0, 0, 0) Qx1+0x0+Qx0+0x1*xQx1+0x0+Qx0+0x1\n",
      "n=2: (0.500000000000000, 0, 0, 0) 0x1+Qx0+0x0+Qx1*x0x1+Qx0+0x0+Qx1\n",
      "sum= (1.00000000000000, 0, 0, 0) Qx1+0x0+Qx0+0x1*xQx1+0x0+Qx0+0x1+0x1+Qx0+0x0+Qx1*x0x1+Qx0+0x0+Qx1\n",
      "\n",
      "<L|L>\n",
      "n=1: (0.500000000000000, 0, 0, 0) Qx1+0x0-Qx0+0x1*xQx1+0x0-Qx0+0x1\n",
      "n=2: (0.500000000000000, 0, 0, 0) 0x1+Qx0-0x0+Qx1*x0x1+Qx0-0x0+Qx1\n",
      "sum= (1.00000000000000, 0, 0, 0) Qx1+0x0-Qx0+0x1*xQx1+0x0-Qx0+0x1+0x1+Qx0-0x0+Qx1*x0x1+Qx0-0x0+Qx1\n",
      "\n",
      "<r|L>\n",
      "n=1: (0.500000000000000, 0, 0, 0) Qx1+0x0+Qx0+0x1*xQx1+0x0-Qx0+0x1\n",
      "n=2: (-0.500000000000000, 0, 0, 0) 0x1+Qx0+0x0+Qx1*x0x1+Qx0-0x0+Qx1\n",
      "sum= (0, 0, 0, 0) Qx1+0x0+Qx0+0x1*xQx1+0x0-Qx0+0x1+0x1+Qx0+0x0+Qx1*x0x1+Qx0-0x0+Qx1\n",
      "\n"
     ]
    }
   ],
   "source": [
    "r.Euclidean_product('bra', ket=r).print_states(\"<r|r>\", True)\n",
    "L.Euclidean_product('bra', ket=L).print_states(\"<L|L>\", True)\n",
    "r.Euclidean_product('bra', ket=L).print_states(\"<r|L>\", True)"
   ]
  },
  {
   "cell_type": "markdown",
   "metadata": {},
   "source": [
    "The final calculation for chapter 2 is like the one for $r$ and $L$ except one uses an arbitrarily chosen imaginary value - it could point any direction in 3D space - like so:"
   ]
  },
  {
   "cell_type": "code",
   "execution_count": 20,
   "metadata": {},
   "outputs": [
    {
     "name": "stdout",
     "output_type": "stream",
     "text": [
      "i\n",
      "n=1: (0.707106781186548, 0, 0, 0) 1xQx1+0x0+Qx0+0x1+0x0x1+Qx0+0x0+Qx1\n",
      "n=2: (0, 0.707106781186548, 0, 0) 0xQx1+0x0+Qx0+0x1+ix0x1+Qx0+0x0+Qx1\n",
      "sum= (0.707106781186548, 0.707106781186548, 0, 0) 1xQx1+0x0+Qx0+0x1+0x0x1+Qx0+0x0+Qx1+0xQx1+0x0+Qx0+0x1+ix0x1+Qx0+0x0+Qx1\n",
      "\n",
      "o\n",
      "n=1: (0.707106781186548, 0, 0, 0) 1xQx1+0x0-Qx0+0x1+0x0x1+Qx0-0x0+Qx1\n",
      "n=2: (0, -0.707106781186548, 0, 0) 0xQx1+0x0-Qx0+0x1+ix0x1+Qx0-0x0+Qx1\n",
      "sum= (0.707106781186548, -0.707106781186548, 0, 0) 1xQx1+0x0-Qx0+0x1+0x0x1+Qx0-0x0+Qx1+0xQx1+0x0-Qx0+0x1+ix0x1+Qx0-0x0+Qx1\n"
     ]
    }
   ],
   "source": [
    "i_op = qt.QHStates([q1, q0, q0, qi])\n",
    "\n",
    "i = r.Euclidean_product('ket', operator=i_op)\n",
    "o = L.Euclidean_product('ket', operator=i_op)\n",
    "\n",
    "i.print_states(\"i\", True)\n",
    "o.print_states(\"o\")"
   ]
  },
  {
   "cell_type": "code",
   "execution_count": 22,
   "metadata": {},
   "outputs": [
    {
     "name": "stdout",
     "output_type": "stream",
     "text": [
      "<i|i>\n",
      "n=1: (0.500000000000000, 0, 0, 0) 1xQx1+0x0+Qx0+0x1+0x0x1+Qx0+0x0+Qx1*x1xQx1+0x0+Qx0+0x1+0x0x1+Qx0+0x0+Qx1\n",
      "n=2: (0.500000000000000, 0, 0, 0) 0xQx1+0x0+Qx0+0x1+ix0x1+Qx0+0x0+Qx1*x0xQx1+0x0+Qx0+0x1+ix0x1+Qx0+0x0+Qx1\n",
      "sum= (1.00000000000000, 0, 0, 0) 1xQx1+0x0+Qx0+0x1+0x0x1+Qx0+0x0+Qx1*x1xQx1+0x0+Qx0+0x1+0x0x1+Qx0+0x0+Qx1+0xQx1+0x0+Qx0+0x1+ix0x1+Qx0+0x0+Qx1*x0xQx1+0x0+Qx0+0x1+ix0x1+Qx0+0x0+Qx1\n",
      "\n",
      "<o|o>\n",
      "n=1: (0.500000000000000, 0, 0, 0) 1xQx1+0x0-Qx0+0x1+0x0x1+Qx0-0x0+Qx1*x1xQx1+0x0-Qx0+0x1+0x0x1+Qx0-0x0+Qx1\n",
      "n=2: (0.500000000000000, 0, 0, 0) 0xQx1+0x0-Qx0+0x1+ix0x1+Qx0-0x0+Qx1*x0xQx1+0x0-Qx0+0x1+ix0x1+Qx0-0x0+Qx1\n",
      "sum= (1.00000000000000, 0, 0, 0) 1xQx1+0x0-Qx0+0x1+0x0x1+Qx0-0x0+Qx1*x1xQx1+0x0-Qx0+0x1+0x0x1+Qx0-0x0+Qx1+0xQx1+0x0-Qx0+0x1+ix0x1+Qx0-0x0+Qx1*x0xQx1+0x0-Qx0+0x1+ix0x1+Qx0-0x0+Qx1\n",
      "\n",
      "<i|o>\n",
      "n=1: (0.500000000000000, 0, 0, 0) 1xQx1+0x0+Qx0+0x1+0x0x1+Qx0+0x0+Qx1*x1xQx1+0x0-Qx0+0x1+0x0x1+Qx0-0x0+Qx1\n",
      "n=2: (-0.500000000000000, 0, 0, 0) 0xQx1+0x0+Qx0+0x1+ix0x1+Qx0+0x0+Qx1*x0xQx1+0x0-Qx0+0x1+ix0x1+Qx0-0x0+Qx1\n",
      "sum= (0, 0, 0, 0) 1xQx1+0x0+Qx0+0x1+0x0x1+Qx0+0x0+Qx1*x1xQx1+0x0-Qx0+0x1+0x0x1+Qx0-0x0+Qx1+0xQx1+0x0+Qx0+0x1+ix0x1+Qx0+0x0+Qx1*x0xQx1+0x0-Qx0+0x1+ix0x1+Qx0-0x0+Qx1\n"
     ]
    }
   ],
   "source": [
    "i.Euclidean_product('bra', ket=i).print_states(\"<i|i>\", True)\n",
    "o.Euclidean_product('bra', ket=o).print_states(\"<o|o>\", True)\n",
    "i.Euclidean_product('bra', ket=o).print_states(\"<i|o>\")"
   ]
  },
  {
   "cell_type": "markdown",
   "metadata": {},
   "source": [
    "Notice how long the qtypes have gotten (the strings that keep a record of all the manipulations done to a quaternion). The initial state was just a zero and a one, but that had to get added to another and normalized, then multiplied by a factor of $i$ and combined again."
   ]
  },
  {
   "cell_type": "markdown",
   "metadata": {},
   "source": [
    "Orthonormal again, as hoped for."
   ]
  },
  {
   "cell_type": "markdown",
   "metadata": {},
   "source": [
    "Is the quaternion series approach a faithful representation of these 6 states? On page 43-44, there are 8 products that all add up to one half. See if this works out..."
   ]
  },
  {
   "cell_type": "code",
   "execution_count": 26,
   "metadata": {},
   "outputs": [
    {
     "name": "stdout",
     "output_type": "stream",
     "text": [
      "ouuo sum:\n",
      " (0.353553390593274, 0, 0, 0) 1xQx1+0x0-Qx0+0x1+0x0x1+Qx0-0x0+Qx1*x1x1xQx1+0x0+Qx0+0x1+0x0x1+Qx0+0x0+Qx1*x1xQx1+0x0-Qx0+0x1+0x0x1+Qx0-0x0+Qx1+0xQx1+0x0-Qx0+0x1+ix0x1+Qx0-0x0+Qx1*x0x0xQx1+0x0+Qx0+0x1+ix0x1+Qx0+0x0+Qx1*x0xQx1+0x0-Qx0+0x1+ix0x1+Qx0-0x0+Qx1 \n",
      "\n",
      "oddo sum:\n",
      " (0.500000000000000, 0, 0, 0) 1xQx1+0x0-Qx0+0x1+0x0x1+Qx0-0x0+Qx1*x0x0*x1xQx1+0x0-Qx0+0x1+0x0x1+Qx0-0x0+Qx1+0xQx1+0x0-Qx0+0x1+ix0x1+Qx0-0x0+Qx1*x1x1*x0xQx1+0x0-Qx0+0x1+ix0x1+Qx0-0x0+Qx1 \n",
      "\n",
      "iuui sum:\n",
      " (0.500000000000000, 0, 0, 0) 1xQx1+0x0+Qx0+0x1+0x0x1+Qx0+0x0+Qx1*x1x1*x1xQx1+0x0+Qx0+0x1+0x0x1+Qx0+0x0+Qx1+0xQx1+0x0+Qx0+0x1+ix0x1+Qx0+0x0+Qx1*x0x0*x0xQx1+0x0+Qx0+0x1+ix0x1+Qx0+0x0+Qx1 \n",
      "\n",
      "iddi sum:\n",
      " (0.500000000000000, 0, 0, 0) 1xQx1+0x0+Qx0+0x1+0x0x1+Qx0+0x0+Qx1*x0x0*x1xQx1+0x0+Qx0+0x1+0x0x1+Qx0+0x0+Qx1+0xQx1+0x0+Qx0+0x1+ix0x1+Qx0+0x0+Qx1*x1x1*x0xQx1+0x0+Qx0+0x1+ix0x1+Qx0+0x0+Qx1\n"
     ]
    }
   ],
   "source": [
    "ou = o.Euclidean_product('bra', ket=u)\n",
    "uo = i.Euclidean_product('bra', ket=o)\n",
    "print(\"ouuo sum:\\n\", ou.product('bra', ket=uo).summation(), \"\\n\")\n",
    "od = o.Euclidean_product('bra', ket=d)\n",
    "do = d.Euclidean_product('bra', ket=o)\n",
    "print(\"oddo sum:\\n\", od.product('bra', ket=do).summation(), \"\\n\")\n",
    "iu = i.Euclidean_product('bra', ket=u)\n",
    "ui = u.Euclidean_product('bra', ket=i)\n",
    "print(\"iuui sum:\\n\", iu.product('bra', ket=ui).summation(), \"\\n\")\n",
    "id = i.Euclidean_product('bra', ket=d)\n",
    "di = d.Euclidean_product('bra', ket=i)\n",
    "print(\"iddi sum:\\n\", id.product('bra', ket=di).summation())"
   ]
  },
  {
   "cell_type": "code",
   "execution_count": 28,
   "metadata": {},
   "outputs": [
    {
     "name": "stdout",
     "output_type": "stream",
     "text": [
      "orro:\n",
      " (0.500000000000000, 0, 0, 0) 1xQx1+0x0-Qx0+0x1+0x0x1+Qx0-0x0+Qx1*xQx1+0x0+Qx0+0x1xQx1+0x0+Qx0+0x1*x1xQx1+0x0-Qx0+0x1+0x0x1+Qx0-0x0+Qx1+0xQx1+0x0-Qx0+0x1+ix0x1+Qx0-0x0+Qx1*x0x1+Qx0+0x0+Qx1x0x1+Qx0+0x0+Qx1*x0xQx1+0x0-Qx0+0x1+ix0x1+Qx0-0x0+Qx1 \n",
      "\n",
      "oLLo:\n",
      " (0.500000000000000, 0, 0, 0) 1xQx1+0x0-Qx0+0x1+0x0x1+Qx0-0x0+Qx1*xQx1+0x0-Qx0+0x1xQx1+0x0-Qx0+0x1*x1xQx1+0x0-Qx0+0x1+0x0x1+Qx0-0x0+Qx1+0xQx1+0x0-Qx0+0x1+ix0x1+Qx0-0x0+Qx1*x0x1+Qx0-0x0+Qx1x0x1+Qx0-0x0+Qx1*x0xQx1+0x0-Qx0+0x1+ix0x1+Qx0-0x0+Qx1 \n",
      "\n",
      "irri:\n",
      " (0.500000000000000, 0, 0, 0) 1xQx1+0x0+Qx0+0x1+0x0x1+Qx0+0x0+Qx1*xQx1+0x0+Qx0+0x1xQx1+0x0+Qx0+0x1*x1xQx1+0x0+Qx0+0x1+0x0x1+Qx0+0x0+Qx1+0xQx1+0x0+Qx0+0x1+ix0x1+Qx0+0x0+Qx1*x0x1+Qx0+0x0+Qx1x0x1+Qx0+0x0+Qx1*x0xQx1+0x0+Qx0+0x1+ix0x1+Qx0+0x0+Qx1 \n",
      "\n",
      "iLLi:\n",
      " (0.500000000000000, 0, 0, 0) 1xQx1+0x0+Qx0+0x1+0x0x1+Qx0+0x0+Qx1*xQx1+0x0-Qx0+0x1xQx1+0x0-Qx0+0x1*x1xQx1+0x0+Qx0+0x1+0x0x1+Qx0+0x0+Qx1+0xQx1+0x0+Qx0+0x1+ix0x1+Qx0+0x0+Qx1*x0x1+Qx0-0x0+Qx1x0x1+Qx0-0x0+Qx1*x0xQx1+0x0+Qx0+0x1+ix0x1+Qx0+0x0+Qx1\n"
     ]
    }
   ],
   "source": [
    "Or = o.Euclidean_product('bra', ket=r)\n",
    "ro = r.Euclidean_product('bra', ket=o)\n",
    "print(\"orro:\\n\", Or.product('bra', ket=ro).summation(), \"\\n\")\n",
    "oL = o.Euclidean_product('bra', ket=L)\n",
    "Lo = L.Euclidean_product('bra', ket=o)\n",
    "print(\"oLLo:\\n\", oL.product('bra', ket=Lo).summation(), \"\\n\")\n",
    "ir = i.Euclidean_product('bra', ket=r)\n",
    "ri = r.Euclidean_product('bra', ket=i)\n",
    "print(\"irri:\\n\", ir.product('bra', ket=ri).summation(), \"\\n\")\n",
    "iL = i.Euclidean_product('bra', ket=L)\n",
    "Li = L.Euclidean_product('bra', ket=i)\n",
    "print(\"iLLi:\\n\", iL.product('bra', ket=Li).summation())"
   ]
  },
  {
   "cell_type": "markdown",
   "metadata": {},
   "source": [
    "There is an important technical detail in this calculation I should point out. In the <bra|ket> form, the bra gets conjugated. Notice though that if one does two of these, < i | L >< L | i >, then there has to be a product formed between the two brackets. In practice, < i | L >* < L | i > gives the wrong result:"
   ]
  },
  {
   "cell_type": "code",
   "execution_count": 29,
   "metadata": {},
   "outputs": [
    {
     "name": "stdout",
     "output_type": "stream",
     "text": [
      "iL*Li:\n",
      " (0, 0, 0, 0) 1xQx1+0x0+Qx0+0x1+0x0x1+Qx0+0x0+Qx1*xQx1+0x0-Qx0+0x1*xQx1+0x0-Qx0+0x1*x1xQx1+0x0+Qx0+0x1+0x0x1+Qx0+0x0+Qx1+0xQx1+0x0+Qx0+0x1+ix0x1+Qx0+0x0+Qx1*x0x1+Qx0-0x0+Qx1*x0x1+Qx0-0x0+Qx1*x0xQx1+0x0+Qx0+0x1+ix0x1+Qx0+0x0+Qx1\n"
     ]
    }
   ],
   "source": [
    "print(\"iL*Li:\\n\", iL.Euclidean_product('bra', ket=Li).summation())"
   ]
  },
  {
   "cell_type": "markdown",
   "metadata": {},
   "source": [
    "## Lecture 3: Principles of Quantum Mechanics"
   ]
  },
  {
   "cell_type": "markdown",
   "metadata": {},
   "source": [
    "Quaternion series do not come as either columns or rows, they only have a length. So how does one construct an nxm matrix essential for operators used in quantum mechanics? Just construct a series that has a length of nxm. One can think of the matrix as being sliced into columns and then glued tail-to-head."
   ]
  },
  {
   "attachments": {
    "AOpB.png": {
     "image/png": "[encoded data removed]"
    }
   },
   "cell_type": "markdown",
   "metadata": {},
   "source": [
    "![AOpB.png](attachment:AOpB.png)"
   ]
  },
  {
   "cell_type": "markdown",
   "metadata": {},
   "source": [
    "In the case shown, $A$ had 2 states, $B$ has three, so to form the inner product takes 6 an operator with 6 states. If the operator first acts on $A$, it needs to be viewed as three pairs. The resulting three can then form an inner product with $B$. If instead the operator acts on $B$ first, then the operator is two triplets. The result of forming the inner product can be either a state with length two or three. "
   ]
  },
  {
   "cell_type": "code",
   "execution_count": 30,
   "metadata": {},
   "outputs": [
    {
     "name": "stdout",
     "output_type": "stream",
     "text": [
      "<A|Op|B>\n",
      "n=1: (1, 0, -3, 2) Q*x1x1+j+ixi+k+jxk\n",
      "n=2: (-1, -4, 3, 2) Q*xkx1+j+0xi+k+ixk\n",
      "sum= (0, -4, 0, 4) Q*x1x1+j+ixi+k+jxk+Q*xkx1+j+0xi+k+ixk\n"
     ]
    }
   ],
   "source": [
    "B = qt.QHStates([q1.add(qj), qi.add(qk), qk])\n",
    "Op = qt.QHStates([q1, qi, qj, qk, q0, qi])\n",
    "A.Euclidean_product('bra', ket=B, operator=Op).print_states(\"<A|Op|B>\")"
   ]
  },
  {
   "cell_type": "markdown",
   "metadata": {},
   "source": [
    "It would require some work to confirm this answer was correct, but it does at least show the software was written to multiply the operator time the ket first, leading to the state with a length of 2."
   ]
  },
  {
   "cell_type": "markdown",
   "metadata": {},
   "source": [
    "The first quality an operator must have is that it give just one result. That is how these quaternion series operators work. Note that not any quaternion series will do as there is an algebraic constraint for the operation to make sense, namely the dimensions of the operator modulo the dimensions of the ket vector must be zero."
   ]
  },
  {
   "cell_type": "markdown",
   "metadata": {},
   "source": [
    "One of the first operations is to multiply a ket vector by a number which can be real, complex, or a full quaternion. What one needs is a \"diagonal\" series, thing of a matrix with the same values down the diagonal and zeroes everywhere else. If the function Euclidean_product() is given an operator that only has one value, it constructs a series of size nxn, the first and last values being the number, along with the number appearing at the right place."
   ]
  },
  {
   "cell_type": "code",
   "execution_count": 31,
   "metadata": {},
   "outputs": [
    {
     "name": "stdout",
     "output_type": "stream",
     "text": [
      "3|B>\n",
      "n=1: (3, 0, 3, 0) Qx1+j+0xi+k+0xk\n",
      "n=2: (0, 3, 0, 3) 0x1+j+Qxi+k+0xk\n",
      "n=3: (0, 0, 0, 3) 0x1+j+0xi+k+Qxk\n",
      "sum= (3, 3, 3, 6) Qx1+j+0xi+k+0xk+0x1+j+Qxi+k+0xk+0x1+j+0xi+k+Qxk\n"
     ]
    }
   ],
   "source": [
    "Op3 = qt.QHStates([qt.QH([3,0,0,0])])\n",
    "Op3B = B.Euclidean_product('ket', operator=Op3).print_states(\"3|B>\")"
   ]
  },
  {
   "cell_type": "markdown",
   "metadata": {},
   "source": [
    "A real valued quaternion commutes with all. That makes things simple. It is odd, but when one uses quaternions that admittedly do not commute, people often think this breaks everything. The way quaternions behave is quite precise and so is easy to manage. The commuting part of a product (I call it {even}), does not change when the order is switched. Tha anti-commuting part (called \\[odd\\]) will flip signs.\n",
    "$$ Op q| B> = ({Op, q} + [Op, q])|B> = ({Op, q} - [Op, q])|B> $$ "
   ]
  },
  {
   "cell_type": "markdown",
   "metadata": {},
   "source": [
    "This issue led to a broader one: how exactly should one multiply an operator by a number? It is pretty simple: take every member of the operator and multiply it by said number. This required a new function be written, op_n(). Realize that in standard quantum mechanics done over a the commuting complex numbers, there is no difference between:\n",
    "$$ Op * q = q * Op$$\n",
    "For quaternions, there is no difference between:\n",
    "$$ Op * q = \\rm{even} \\{q, Op\\} - \\rm{odd}[q, Op] $$ "
   ]
  },
  {
   "cell_type": "code",
   "execution_count": 33,
   "metadata": {},
   "outputs": [
    {
     "name": "stdout",
     "output_type": "stream",
     "text": [
      "op q\n",
      "n=1: (1, 2, 3, 4) 1xQ\n",
      "n=2: (-2, 1, -4, 3) ixQ\n",
      "n=3: (-3, 4, 1, -2) jxQ\n",
      "n=4: (-4, -3, 2, 1) kxQ\n",
      "n=5: (0, 0, 0, 0) 0xQ\n",
      "n=6: (-2, 1, -4, 3) ixQ\n",
      "sum= (-10, 5, -2, 9) 1xQ+ixQ+jxQ+kxQ+0xQ+ixQ\n",
      "\n",
      "q op\n",
      "n=1: (1, 2, 3, 4) QxR1\n",
      "n=2: (-2, 1, -4, 3) QxRi\n",
      "n=3: (-3, 4, 1, -2) QxRj\n",
      "n=4: (-4, -3, 2, 1) QxRk\n",
      "n=5: (0, 0, 0, 0) QxR0\n",
      "n=6: (-2, 1, -4, 3) QxRi\n",
      "sum= (-10, 5, -2, 9) QxR1+QxRi+QxRj+QxRk+QxR0+QxRi\n",
      "\n"
     ]
    },
    {
     "data": {
      "text/plain": [
       "True"
      ]
     },
     "execution_count": 33,
     "metadata": {},
     "output_type": "execute_result"
    }
   ],
   "source": [
    "op_q1234 = Op.op_n(n=qt.QH([1,2,3,4]))\n",
    "q1234_op = Op.op_n(n=qt.QH([1,2,3,4]), first=False, reverse=True)\n",
    "op_q1234.print_states(\"op q\", True)\n",
    "q1234_op.print_states(\"q op\", True)\n",
    "op_q1234.equals(q1234_op)"
   ]
  },
  {
   "cell_type": "markdown",
   "metadata": {},
   "source": [
    "In math, two reversals can leave things unchanged. In this case, one can change the order of any two quaternions so long as the odd part is subtracted instead of added to the even part."
   ]
  },
  {
   "cell_type": "markdown",
   "metadata": {},
   "source": [
    "It was shown for quaternions that $(A+B)^∗ C=A^∗ C+B^∗ C$. It seams obvious to me that this should be true for quaternion series - it is good for one quaternion, so it will be good for many done in a row."
   ]
  },
  {
   "cell_type": "markdown",
   "metadata": {},
   "source": [
    "Operators and kets are both being represented as quaternion series, albeit of different lengths. From pages 54-56 in QM:TTM, they give a simple example of a 3x3 operator action on a 3-ket. That can be replicated using an operator that has 9 elements in its states acting on a ket with three quaternions. Here is a simple symbolic calculation:"
   ]
  },
  {
   "cell_type": "code",
   "execution_count": 34,
   "metadata": {},
   "outputs": [
    {
     "name": "stdout",
     "output_type": "stream",
     "text": [
      "Op2x2|k1>\n",
      "n=1: (k1*op11 + k2*op12 + k3*op13, 0, 0, 0) QxQ+QxQ+QxQ\n",
      "n=2: (k1*op21 + k2*op22 + k3*op23, 0, 0, 0) QxQ+QxQ+QxQ\n",
      "n=3: (k1*op31 + k2*op32 + k3*op33, 0, 0, 0) QxQ+QxQ+QxQ\n",
      "sum= (k1*op11 + k1*op21 + k1*op31 + k2*op12 + k2*op22 + k2*op32 + k3*op13 + k3*op23 + k3*op33, 0, 0, 0) QxQ+QxQ+QxQ+QxQ+QxQ+QxQ+QxQ+QxQ+QxQ\n"
     ]
    }
   ],
   "source": [
    "k1, k2, k3 = sp.symbols(\"k1 k2 k3\")\n",
    "op11, op12, op13, op21, op22, op23, op31, op32, op33 = sp.symbols(\"op11 op12 op13 op21 op22 op23 op31 op32 op33\")\n",
    "k12 = qt.QHStates([qt.QH([k1, 0, 0, 0]), qt.QH([k2, 0, 0, 0]), qt.QH([k3, 0, 0, 0])])\n",
    "Op2x2 = qt.QHStates([qt.QH([op11, 0, 0, 0]), qt.QH([op12, 0, 0, 0]), qt.QH([op13, 0, 0, 0]), qt.QH([op21, 0, 0, 0]), qt.QH([op22, 0, 0, 0]), qt.QH([op23, 0, 0, 0]), qt.QH([op31, 0, 0, 0]), qt.QH([op32, 0, 0, 0]), qt.QH([op33, 0, 0, 0])])\n",
    "k12.Euclidean_product('ket', operator=Op2x2).print_states(\"Op2x2|k1>\")"
   ]
  },
  {
   "cell_type": "markdown",
   "metadata": {},
   "source": [
    "To make things simpler to track, all values were real. The expected partners got together. Each state is the sum of three products. It should be easy to get scared of the complexity were all the values to be filled in."
   ]
  },
  {
   "cell_type": "markdown",
   "metadata": {},
   "source": [
    "Is a quaternions series operator a have a particular Eigen series (p57)?  Just multiply them out and compare."
   ]
  },
  {
   "cell_type": "code",
   "execution_count": 35,
   "metadata": {},
   "outputs": [
    {
     "name": "stdout",
     "output_type": "stream",
     "text": [
      "Is Mk11 == M3k11?  True\n",
      "Mk11\n",
      "n=1: (3, 0, 0, 0) 1x1+Qx1\n",
      "n=2: (3, 0, 0, 0) Qx1+1x1\n",
      "sum= (6, 0, 0, 0) 1x1+Qx1+Qx1+1x1\n"
     ]
    }
   ],
   "source": [
    "q2 = qt.QH([2, 0, 0, 0])\n",
    "q3 = qt.QH([3, 0, 0, 0])\n",
    "k11 = qt.QHStates([q1, q1])\n",
    "M = qt.QHStates([q1, q2, q2, q1])\n",
    "M3 = qt.QHStates([q3])\n",
    "\n",
    "Mk11 =  k11.Euclidean_product('ket', operator=M)\n",
    "M3k11 = k11.Euclidean_product('ket', operator=M3)\n",
    "\n",
    "print(\"Is Mk11 == M3k11? \", Mk11.equals(M3k11))\n",
    "Mk11.print_states(\"Mk11\")"
   ]
  },
  {
   "cell_type": "code",
   "execution_count": 36,
   "metadata": {},
   "outputs": [
    {
     "name": "stdout",
     "output_type": "stream",
     "text": [
      "Is M11k1j == Mik1j?  True\n",
      "M11k1j\n",
      "n=1: (0, 0, -1, 0) 0x1+1*-1xj\n",
      "n=2: (1, 0, 0, 0) 1x1+0xj\n",
      "sum= (1, 0, -1, 0) 0x1+1*-1xj+1x1+0xj\n"
     ]
    }
   ],
   "source": [
    "k1j = qt.QHStates([q1, qj])\n",
    "M11 = qt.QHStates([q0, q1.flip_signs(), q1, q0])\n",
    "Mi = qt.QHStates([qj.flip_signs()])\n",
    "M11k1j = k1j.Euclidean_product('ket', operator=M11)\n",
    "Mik1j =  k1j.Euclidean_product('ket', operator=Mi)\n",
    "\n",
    "print(\"Is M11k1j == Mik1j? \", M11k1j.equals(Mik1j))\n",
    "M11k1j.print_states(\"M11k1j\")"
   ]
  },
  {
   "cell_type": "markdown",
   "metadata": {},
   "source": [
    "The question asked in the book used $i$, but it should be clear there is a very open area of study of matching Eigen vectors with Eigen values."
   ]
  },
  {
   "cell_type": "markdown",
   "metadata": {},
   "source": [
    "Let's construct a Hermitian quaternion series. Taking the conjugate of each term of a quaternion series is simple enough. To do a transpose requires that the product of two numbers equals the full length. Then one changes the order of these two numbers. See a simple example:"
   ]
  },
  {
   "cell_type": "code",
   "execution_count": 37,
   "metadata": {},
   "outputs": [
    {
     "name": "stdout",
     "output_type": "stream",
     "text": [
      "q1234\n",
      "n=1: (1, 0, 0, 0) Q\n",
      "n=2: (2, 2, 0, 0) Q\n",
      "n=3: (3, -3, 0, 0) Q\n",
      "n=4: (4, 0, 0, 0) Q\n",
      "sum= (10, -1, 0, 0) Q+Q+Q+Q\n",
      "\n",
      "q1234 transpose\n",
      "n=1: (1, 0, 0, 0) Q\n",
      "n=2: (3, -3, 0, 0) Q\n",
      "n=3: (2, 2, 0, 0) Q\n",
      "n=4: (4, 0, 0, 0) Q\n",
      "sum= (10, -1, 0, 0) Q+Q+Q+Q\n",
      "\n",
      "q1234 Hermitian conj\n",
      "n=1: (1, 0, 0, 0) Q*\n",
      "n=2: (3, 3, 0, 0) Q*\n",
      "n=3: (2, -2, 0, 0) Q*\n",
      "n=4: (4, 0, 0, 0) Q*\n",
      "sum= (10, 1, 0, 0) Q*+Q*+Q*+Q*\n",
      "\n",
      "q1234 normalized Hermitian conj\n",
      "n=1: (1.0, 0.0, 0.0, 0.0) Q*U\n",
      "n=2: (0.7071067811865476, 0.7071067811865476, 0.0, 0.0) Q*U\n",
      "n=3: (0.7071067811865475, -0.7071067811865475, 0.0, 0.0) Q*U\n",
      "n=4: (1.0, 0.0, 0.0, 0.0) Q*U\n",
      "sum= (3.414213562373095, 1.1102230246251565e-16, 0.0, 0.0) Q*U+Q*U+Q*U+Q*U\n",
      "\n",
      "q1234, normalized, is it Hermitian? True\n"
     ]
    }
   ],
   "source": [
    "q1234 = qt.QHStates([qt.QH([1, 0, 0, 0]), qt.QH([2, 2, 0, 0]), qt.QH([3, -3, 0, 0]), qt.QH([4, 0, 0, 0])])\n",
    "q1234.print_states(\"q1234\", True)\n",
    "q1234.transpose().print_states(\"q1234 transpose\", True)\n",
    "q1234.Hermitian_conj().print_states(\"q1234 Hermitian conj\", True)\n",
    "q1234.Hermitian_conj().normalize().print_states(\"q1234 normalized Hermitian conj\", True)\n",
    "print(\"q1234, normalized, is it Hermitian?\", q1234.normalize().is_Hermitian())"
   ]
  },
  {
   "cell_type": "markdown",
   "metadata": {},
   "source": [
    "So what do we think a Hermitian operator will do that is different from a non-Hermitian one to quaternion states? The inner product of a ket with itself create states that are all real numbers and all zero imaginary numbers:"
   ]
  },
  {
   "cell_type": "code",
   "execution_count": 38,
   "metadata": {},
   "outputs": [
    {
     "name": "stdout",
     "output_type": "stream",
     "text": [
      "<B|B>\n",
      "n=1: (2, 0, 0, 0) 1+j*x1+j\n",
      "n=2: (2, 0, 0, 0) i+k*xi+k\n",
      "n=3: (1, 0, 0, 0) k*xk\n",
      "sum= (5, 0, 0, 0) 1+j*x1+j+i+k*xi+k+k*xk\n"
     ]
    }
   ],
   "source": [
    "B.Euclidean_product('bra', ket=B).print_states(\"<B|B>\")"
   ]
  },
  {
   "cell_type": "markdown",
   "metadata": {},
   "source": [
    "Different normalized Hermitian operators should shift the real number values around, but remain real values. A non-Hermitian matrix should make the imaginary values be non-zero."
   ]
  },
  {
   "cell_type": "code",
   "execution_count": 39,
   "metadata": {},
   "outputs": [
    {
     "name": "stdout",
     "output_type": "stream",
     "text": [
      "is h_1 Hermitian?  True\n",
      "is h_2 Hermitian?  True\n",
      "is not_h Hermitian?  False\n"
     ]
    }
   ],
   "source": [
    "q2 = qt.QH([2, 0, 0, 0])\n",
    "q4 = qt.QH([4, 0, 0, 0])\n",
    "q10 = qt.QH([10, 0, 0, 0])\n",
    "q2121 = qt.QH([2, 1, 2, 1])\n",
    "q3033 = qt.QH([3, 0, 3, 3])\n",
    "q4321 = qt.QH([4, 3, 2, 1])\n",
    "\n",
    "h_1 = qt.QHStates([q2, q2121, q3033, q2121.conj(), q4, q4321, q3033.conj(), q4321.conj(), q10]).normalize()\n",
    "h_2 = qt.QHStates([q2, qi, q3033, qi.conj(), q4, q4321, q3033.conj(), q4321.conj(), q10]).normalize()\n",
    "not_h = qt.QHStates([q2121, q2, q3033, qi, q4, q4321, q3033, q4321, q10]).normalize()\n",
    "\n",
    "print(\"is h_1 Hermitian? \", h_1.is_Hermitian())\n",
    "print(\"is h_2 Hermitian? \", h_2.is_Hermitian())\n",
    "print(\"is not_h Hermitian? \", not_h.is_Hermitian())"
   ]
  },
  {
   "cell_type": "markdown",
   "metadata": {},
   "source": [
    "Form the inner product with $B$ using these three operators."
   ]
  },
  {
   "cell_type": "code",
   "execution_count": 40,
   "metadata": {},
   "outputs": [
    {
     "name": "stdout",
     "output_type": "stream",
     "text": [
      "<B|h_1 B>\n",
      "n=1: (0.7901941987766985, 1.2649110640673515, 1.2098058012233015, 2.419611602446603) 1+j*xQUx1+j+QUxi+k+QUxk\n",
      "n=2: (2.4629895829766566, -1.6300594357374623, -0.26730716036356506, -0.5346143207271301) i+k*xQ*Ux1+j+QUxi+k+QUxk\n",
      "n=3: (1.5180948458207064, 0.3651483716701107, -0.9424986408597364, -1.884997281719473) k*xQ*Ux1+j+Q*Uxi+k+QUxk\n",
      "sum= (4.771278627574062, 0.0, 0.0, 0.0) 1+j*xQUx1+j+QUxi+k+QUxk+i+k*xQ*Ux1+j+QUxi+k+QUxk+k*xQ*Ux1+j+Q*Uxi+k+QUxk\n",
      "\n",
      "<B|h_2 B>\n",
      "n=1: (-0.5773502691896257, 0.0, 0.5773502691896257, 1.1547005383792515) 1+j*xQUx1+j+iUxi+k+QUxk\n",
      "n=2: (1.0954451150103321, -0.3651483716701107, 0.3651483716701107, 0.7302967433402214) i+k*xi*Ux1+j+QUxi+k+QUxk\n",
      "n=3: (1.5180948458207064, 0.3651483716701107, -0.9424986408597364, -1.884997281719473) k*xQ*Ux1+j+Q*Uxi+k+QUxk\n",
      "sum= (2.036189691641413, 0.0, 0.0, 0.0) 1+j*xQUx1+j+iUxi+k+QUxk+i+k*xi*Ux1+j+QUxi+k+QUxk+k*xQ*Ux1+j+Q*Uxi+k+QUxk\n",
      "\n",
      "<B|not_h B>\n",
      "n=1: (0.6875607948777258, -0.6324555320336755, 1.8422613332569773, 3.787156070412927) 1+j*xQUx1+j+QUxi+k+QUxk\n",
      "n=2: (5.095445115010332, -0.3651483716701107, 0.3651483716701107, 0.7302967433402214) i+k*xiUx1+j+QUxi+k+QUxk\n",
      "n=3: (1.9424986408597364, 0.7895521667091407, -0.5180948458207064, 0.7302967433402214) k*xQUx1+j+QUxi+k+QUxk\n",
      "sum= (7.725504550747794, -0.20805173699464552, 1.6893148591063816, 5.24774955709337) 1+j*xQUx1+j+QUxi+k+QUxk+i+k*xiUx1+j+QUxi+k+QUxk+k*xQUx1+j+QUxi+k+QUxk\n"
     ]
    }
   ],
   "source": [
    "B.Euclidean_product('bra', ket=B, operator=h_1).print_states(\"<B|h_1 B>\", True)\n",
    "B.Euclidean_product('bra', ket=B, operator=h_2).print_states(\"<B|h_2 B>\", True)\n",
    "B.Euclidean_product('bra', ket=B, operator=not_h).print_states(\"<B|not_h B>\")"
   ]
  },
  {
   "cell_type": "markdown",
   "metadata": {},
   "source": [
    "So it is only the sum that nets out to have zero imaginaries. Different normalized Hermitian operators have different sums, something I did not anticipate. Notice for these two examples, the value was less. Is that a real limit or not?"
   ]
  },
  {
   "cell_type": "markdown",
   "metadata": {},
   "source": [
    "### Appendix: The Three Conjugate Operators for Quaternions"
   ]
  },
  {
   "cell_type": "markdown",
   "metadata": {},
   "source": [
    "Start with the conjugate operator all are familiar with, the one that flips all three imaginary numbers as the Gang of Three:"
   ]
  },
  {
   "cell_type": "code",
   "execution_count": 27,
   "metadata": {},
   "outputs": [
    {
     "name": "stdout",
     "output_type": "stream",
     "text": [
      "(t, x, y, z) Q\n",
      "(t, -x, -y, -z) Q*\n"
     ]
    }
   ],
   "source": [
    "t, x, y, z = sp.symbols(\"t x y z\")\n",
    "R = qt.QH([t, x, y, z])\n",
    "print(R)\n",
    "print(R.conj())"
   ]
  },
  {
   "cell_type": "markdown",
   "metadata": {},
   "source": [
    "With complex numbers, any function that one can represent in $\\mathbb{R}^2$ can just as well be represented with $\\mathbb{C}^1$ using $z$ and $z^*$. The same cannot be said using just one quaternion conjugate, there needs to be two others. The idea is not complicated. In the standard conjugate, the real-valued $t$ gets to keep its sign. Why not let other terms have that privilege? If one were to pre- and post-multiply by the imaginary $i$, every term goes back to their original chairs. Both $t$ and $x$ are real at one step of the triple product, and get one minus sign, so stay negative. The $y$ and $z$ get two sign flips, so remain positive about the operation. If one takes the conjugate of this triple product, then $x$ will be the only positive term. I call this the first conjugate."
   ]
  },
  {
   "cell_type": "code",
   "execution_count": 28,
   "metadata": {},
   "outputs": [
    {
     "name": "stdout",
     "output_type": "stream",
     "text": [
      "(-t, x, -y, -z) QxQxQ*\n"
     ]
    }
   ],
   "source": [
    "Qi, Qj, Qk = qt.QH([0, 1, 0, 0]), qt.QH([0, 0, 1, 0]), qt.QH([0, 0, 0, 1])\n",
    "first_conj = Qi.product(R.product(Qi)).conj()\n",
    "print(first_conj)"
   ]
  },
  {
   "cell_type": "markdown",
   "metadata": {},
   "source": [
    "The same trick can be done for the second conjugate using a triple product with $j$. The conj() operator has been designed to take the value of 1 or 2 and generate the appropriate conjugate."
   ]
  },
  {
   "cell_type": "code",
   "execution_count": 29,
   "metadata": {},
   "outputs": [
    {
     "name": "stdout",
     "output_type": "stream",
     "text": [
      "(-t, x, -y, -z) Q*1\n",
      "(-t, -x, y, -z) Q*2\n"
     ]
    }
   ],
   "source": [
    "print(R.conj(1))\n",
    "print(R.conj(2))"
   ]
  },
  {
   "cell_type": "markdown",
   "metadata": {},
   "source": [
    "What about the third conjugate operator? Look what happens when we combine the three we have."
   ]
  },
  {
   "cell_type": "code",
   "execution_count": 30,
   "metadata": {},
   "outputs": [
    {
     "name": "stdout",
     "output_type": "stream",
     "text": [
      "(t, x, y, -z) Q**1*2\n"
     ]
    }
   ],
   "source": [
    "print(R.conj().conj(1).conj(2))"
   ]
  },
  {
   "cell_type": "markdown",
   "metadata": {},
   "source": [
    "It is a sign flip a way from doing the job, so flip the signs."
   ]
  },
  {
   "cell_type": "code",
   "execution_count": 31,
   "metadata": {},
   "outputs": [
    {
     "name": "stdout",
     "output_type": "stream",
     "text": [
      "(-t, -x, -y, z) Q**1*2*-1\n"
     ]
    }
   ],
   "source": [
    "print(R.conj().conj(1).conj(2).flip_signs())"
   ]
  },
  {
   "cell_type": "markdown",
   "metadata": {},
   "source": [
    "Having another conjugate operator is not necessary. Mathematics aspires to be minimalist."
   ]
  },
  {
   "cell_type": "markdown",
   "metadata": {},
   "source": [
    "Note that the first and second conjugates do not have the \"make it all real\" property that the regular conjugate does. This is due to the fact that the operations point the 3-vector in a different direction. See what happens when one uses the same operation on the two other conjugate functions:"
   ]
  },
  {
   "cell_type": "code",
   "execution_count": 32,
   "metadata": {},
   "outputs": [
    {
     "name": "stdout",
     "output_type": "stream",
     "text": [
      "n=1: (0, 1, 2, 3) Q\n",
      "n=2: (1, 2, 1, 2) Q\n",
      "n=1: (0, 1, 2, 3) Q\n",
      "n=2: (1, 2, 1, 2) Q\n"
     ]
    }
   ],
   "source": [
    "print(A.conj(1).product(A))\n",
    "print(A.conj(2).product(A))"
   ]
  },
  {
   "cell_type": "markdown",
   "metadata": {},
   "source": [
    "This result was not what I expected. The square of the norm, $A^* A$, has three zero terms and one non-negative one. The opposite situation occurs for the first and second conjugates: there is one zero, and potentially three non-zero terms. At this point, I don't know what this mean, but will keep the observation in mind."
   ]
  },
  {
   "cell_type": "markdown",
   "metadata": {},
   "source": [
    "Does this identity hold for the first and second conjugates?\n",
    "\n",
    "$$(<A|+<B|)|C> = <A|C> + <B|C> \\rightarrow (A+ B)^*C = A^*C + B^* C$$"
   ]
  },
  {
   "cell_type": "code",
   "execution_count": 33,
   "metadata": {},
   "outputs": [
    {
     "name": "stdout",
     "output_type": "stream",
     "text": [
      "The dimensions are not the same: 2 != 3\n"
     ]
    },
    {
     "ename": "AttributeError",
     "evalue": "'NoneType' object has no attribute 'product'",
     "output_type": "error",
     "traceback": [
      "\u001b[0;31m---------------------------------------------------------------------------\u001b[0m",
      "\u001b[0;31mAttributeError\u001b[0m                            Traceback (most recent call last)",
      "\u001b[0;32m<ipython-input-33-1e920edb482c>\u001b[0m in \u001b[0;36m<module>\u001b[0;34m()\u001b[0m\n\u001b[0;32m----> 1\u001b[0;31m \u001b[0mA_plus_B_then_C_conj1\u001b[0m \u001b[0;34m=\u001b[0m \u001b[0mA\u001b[0m\u001b[0;34m.\u001b[0m\u001b[0mconj\u001b[0m\u001b[0;34m(\u001b[0m\u001b[0;36m1\u001b[0m\u001b[0;34m)\u001b[0m\u001b[0;34m.\u001b[0m\u001b[0madd\u001b[0m\u001b[0;34m(\u001b[0m\u001b[0mB\u001b[0m\u001b[0;34m.\u001b[0m\u001b[0mconj\u001b[0m\u001b[0;34m(\u001b[0m\u001b[0;36m1\u001b[0m\u001b[0;34m)\u001b[0m\u001b[0;34m)\u001b[0m\u001b[0;34m.\u001b[0m\u001b[0mproduct\u001b[0m\u001b[0;34m(\u001b[0m\u001b[0mC\u001b[0m\u001b[0;34m)\u001b[0m\u001b[0;34m\u001b[0m\u001b[0m\n\u001b[0m\u001b[1;32m      2\u001b[0m \u001b[0mAC_plus_BC_conj1\u001b[0m \u001b[0;34m=\u001b[0m \u001b[0mA\u001b[0m\u001b[0;34m.\u001b[0m\u001b[0mconj\u001b[0m\u001b[0;34m(\u001b[0m\u001b[0;36m1\u001b[0m\u001b[0;34m)\u001b[0m\u001b[0;34m.\u001b[0m\u001b[0mproduct\u001b[0m\u001b[0;34m(\u001b[0m\u001b[0mC\u001b[0m\u001b[0;34m)\u001b[0m\u001b[0;34m.\u001b[0m\u001b[0madd\u001b[0m\u001b[0;34m(\u001b[0m\u001b[0mB\u001b[0m\u001b[0;34m.\u001b[0m\u001b[0mconj\u001b[0m\u001b[0;34m(\u001b[0m\u001b[0;36m1\u001b[0m\u001b[0;34m)\u001b[0m\u001b[0;34m.\u001b[0m\u001b[0mproduct\u001b[0m\u001b[0;34m(\u001b[0m\u001b[0mC\u001b[0m\u001b[0;34m)\u001b[0m\u001b[0;34m)\u001b[0m\u001b[0;34m\u001b[0m\u001b[0m\n\u001b[1;32m      3\u001b[0m \u001b[0mprint\u001b[0m\u001b[0;34m(\u001b[0m\u001b[0mA_plus_B_then_C_conj1\u001b[0m\u001b[0;34m)\u001b[0m\u001b[0;34m\u001b[0m\u001b[0m\n\u001b[1;32m      4\u001b[0m \u001b[0mprint\u001b[0m\u001b[0;34m(\u001b[0m\u001b[0mAC_plus_BC_conj1\u001b[0m\u001b[0;34m)\u001b[0m\u001b[0;34m\u001b[0m\u001b[0m\n\u001b[1;32m      5\u001b[0m \u001b[0mprint\u001b[0m\u001b[0;34m(\u001b[0m\u001b[0mAC_plus_BC_conj1\u001b[0m\u001b[0;34m.\u001b[0m\u001b[0mdif\u001b[0m\u001b[0;34m(\u001b[0m\u001b[0mAC_plus_BC_conj1\u001b[0m\u001b[0;34m)\u001b[0m\u001b[0;34m)\u001b[0m\u001b[0;34m\u001b[0m\u001b[0m\n",
      "\u001b[0;31mAttributeError\u001b[0m: 'NoneType' object has no attribute 'product'"
     ]
    }
   ],
   "source": [
    "A_plus_B_then_C_conj1 = A.conj(1).add(B.conj(1)).product(C)\n",
    "AC_plus_BC_conj1 = A.conj(1).product(C).add(B.conj(1).product(C))\n",
    "print(A_plus_B_then_C_conj1)\n",
    "print(AC_plus_BC_conj1)\n",
    "print(AC_plus_BC_conj1.dif(AC_plus_BC_conj1))"
   ]
  },
  {
   "cell_type": "code",
   "execution_count": null,
   "metadata": {},
   "outputs": [],
   "source": [
    "A_plus_B_then_C_conj2 = A.conj(2).add(B.conj(2)).product(C)\n",
    "AC_plus_BC_conj2 = A.conj(2).product(C).add(B.conj(2).product(C))\n",
    "print(A_plus_B_then_C_conj2)\n",
    "print(AC_plus_BC_conj2)\n",
    "print(AC_plus_BC_conj2.dif(AC_plus_BC_conj2))"
   ]
  },
  {
   "cell_type": "markdown",
   "metadata": {},
   "source": [
    "This identity does apply to all three conjugate operators."
   ]
  },
  {
   "cell_type": "code",
   "execution_count": null,
   "metadata": {},
   "outputs": [],
   "source": [
    "q2 = qt.QH([2,0,0,0])\n",
    "h2112 = qt.QHStates([q2, q1, q1, q2])\n",
    "b11 = qt.QHStates([q1, q1])\n",
    "print(Euclidean_product(ket=b11, operator=h2112))"
   ]
  },
  {
   "cell_type": "code",
   "execution_count": null,
   "metadata": {},
   "outputs": [],
   "source": [
    "def is_Eigen(operator, ket):\n",
    "    \"\"\"Determines if an operator/ket pair forms an Eigen-value/Eigen-vector pair.\n",
    "    Returns either zero quaternion or the quaternion multiplier lambda.\"\"\"\n",
    "    \n",
    "    op_ket = Euclidean_product(operator=operator, ket=ket)\n",
    "    \n",
    "    q1 = op_ket.qs.pop()\n",
    "    \n",
    "    is_equal = True\n",
    "    \n",
    "    for q in op_ket.qs:\n",
    "        test = q1.equals(q)\n",
    "        \n",
    "        if not test:\n",
    "            is_equal = False\n",
    "            \n",
    "    if is_equal:\n",
    "        return q\n",
    "    \n",
    "    else:\n",
    "        return qt.QH().q_0()"
   ]
  },
  {
   "cell_type": "code",
   "execution_count": null,
   "metadata": {},
   "outputs": [],
   "source": [
    "print(is_Eigen(operator=h2112, ket=b11))"
   ]
  },
  {
   "cell_type": "code",
   "execution_count": null,
   "metadata": {},
   "outputs": [],
   "source": [
    "qi1 = qt.QHStates([qi.flip_signs(), q1]) = qt.QHStates([q1, qj])\n",
    "M = qt.QHStates([q0, q1, q1.flip_signs(), q0])\n",
    "print(is_Eigen(operator=M, ket=k1j))"
   ]
  },
  {
   "cell_type": "code",
   "execution_count": null,
   "metadata": {},
   "outputs": [],
   "source": [
    "print(Euclidean_product(operator=qt.QHStates([3,0,0,0]), ket=h2112.invert()))"
   ]
  },
  {
   "cell_type": "code",
   "execution_count": null,
   "metadata": {},
   "outputs": [],
   "source": [
    "qi1 = qt.QHStates([qi.flip_signs(), q1])\n",
    "k1j_inv = k1j.invert()\n",
    "qt.QHStates().product(bra=qi1, ket=k1j_inv).print_states(\"w\")"
   ]
  },
  {
   "cell_type": "code",
   "execution_count": null,
   "metadata": {},
   "outputs": [],
   "source": [
    "print(A)"
   ]
  },
  {
   "cell_type": "code",
   "execution_count": null,
   "metadata": {},
   "outputs": [],
   "source": [
    "k1, k2, k3 = sp.symbols(\"k1 k2 k3\")\n",
    "op11, op12, op13, op21, op22, op23, op31, op32, op33 = sp.symbols(\"op11 op12 op13 op21 op22 op23 op31 op32 op33\")\n",
    "k12 = qt.QHStates([qt.QH([k1, 0, 0, 0]), qt.QH([k2, 0, 0, 0]), qt.QH([k3, 0, 0, 0])])\n",
    "Op2x2 = qt.QHStates([qt.QH([op11, 0, 0, 0]), qt.QH([op12, 0, 0, 0]), qt.QH([op13, 0, 0, 0]), qt.QH([op21, 0, 0, 0]), qt.QH([op22, 0, 0, 0]), qt.QH([op23, 0, 0, 0]), qt.QH([op31, 0, 0, 0]), qt.QH([op32, 0, 0, 0]), qt.QH([op33, 0, 0, 0])])\n",
    "Euclidean_product(ket=k12, operator=Op2x2).print_states(\"Op2x2|k1>\")"
   ]
  },
  {
   "cell_type": "code",
   "execution_count": null,
   "metadata": {},
   "outputs": [],
   "source": [
    "print(qj)"
   ]
  },
  {
   "cell_type": "code",
   "execution_count": null,
   "metadata": {},
   "outputs": [],
   "source": []
  }
 ],
 "metadata": {
  "kernelspec": {
   "display_name": "Python 3",
   "language": "python",
   "name": "python3"
  },
  "language_info": {
   "codemirror_mode": {
    "name": "ipython",
    "version": 3
   },
   "file_extension": ".py",
   "mimetype": "text/x-python",
   "name": "python",
   "nbconvert_exporter": "python",
   "pygments_lexer": "ipython3",
   "version": "3.5.1"
  }
 },
 "nbformat": 4,
 "nbformat_minor": 2
}
