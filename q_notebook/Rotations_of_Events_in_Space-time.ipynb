{
 "cells": [
  {
   "cell_type": "markdown",
   "metadata": {
    "collapsed": true
   },
   "source": [
    "# Simple Rotations"
   ]
  },
  {
   "cell_type": "markdown",
   "metadata": {},
   "source": [
    "Author: Doug <sweetser@alum.mit.edu>"
   ]
  },
  {
   "cell_type": "markdown",
   "metadata": {},
   "source": [
    "A deep leason from special relativity is that all measurements start as events in space-time. A measurment such as the length of a rod would appear to only involve space. Yet one needs a signal from both ends that gets received by the observer. And who is the observer? Every other system in the Universe is allowed. Since observers can be in very different states, that means the raw data these different observers collect from the same signals can be different. Special relaitivty helps determine what can be agreed upon, namely the interval for two inertial reference frame observers."
   ]
  },
  {
   "cell_type": "markdown",
   "metadata": {},
   "source": [
    "## Spatial Rotations"
   ]
  },
  {
   "cell_type": "markdown",
   "metadata": {},
   "source": [
    "In this iPython notebook, the one thing quaternions are known for - doing 3D spatial rotations - will be examined. When working with quaternions, it is not possible to work in just three spatial dimensions. There is always a fourth dimension, namely time. Even when thinking about spatial rotations, one must work with events in space-time.\n",
    "\n",
    "Create a couple of quaternions to play with."
   ]
  },
  {
   "cell_type": "code",
   "execution_count": 1,
   "metadata": {
    "collapsed": false
   },
   "outputs": [],
   "source": [
    "%%capture\n",
    "from Q_tool_devo import Qq;\n",
    "U=Qq([1,2,3,4])\n",
    "R=Qq([5,6,7,8])"
   ]
  },
  {
   "cell_type": "markdown",
   "metadata": {},
   "source": [
    "Use the Qq class that places these 4 numbers in 8 slots like so:"
   ]
  },
  {
   "cell_type": "code",
   "execution_count": 2,
   "metadata": {
    "collapsed": false
   },
   "outputs": [
    {
     "name": "stdout",
     "output_type": "stream",
     "text": [
      "(1, 0)_I0,2  (2, 0)_i1,3  (3, 0)_j1,3  (4, 0)_k1,3  Q\n",
      "(5, 0)_I0,2  (6, 0)_i1,3  (7, 0)_j1,3  (8, 0)_k1,3  Q\n"
     ]
    }
   ],
   "source": [
    "print(U)\n",
    "print(R)"
   ]
  },
  {
   "cell_type": "markdown",
   "metadata": {},
   "source": [
    "If you are unfamiliar with this notation, the $I^2 = -1,\\, i^3=-i,\\, j^3=-j,\\, k^3=-k$. Only positive numbers are used, with additive inverse put in these placeholders.\n",
    "\n",
    "To do a rotation, one needs to pre-multiply by a quaternion (using u for this role), then post-multiply by the inverse. By doing so, the norm of r will not change because quaternions are a normed division algebra."
   ]
  },
  {
   "cell_type": "code",
   "execution_count": 3,
   "metadata": {
    "collapsed": true
   },
   "outputs": [],
   "source": [
    "R_rotated=U.triple_product(R, U.invert())"
   ]
  },
  {
   "cell_type": "markdown",
   "metadata": {},
   "source": [
    "Should we expect the first term to change? Look into the triple product first term where I use Capital variable for 3-vectors to simplify the presentation:\n",
    "\n",
    "$$\\begin{align}(u, W)&(t, R)(u, -W)/(u^2 + W \\cdot W)\\\\\n",
    "&= (u t - W \\cdot R, u R + W t + W \\times R)(u, -W)/(u^2 + W \\cdot W)\\\\\n",
    "&=(u^2 t - uW \\cdot R + u W \\cdot R + W \\cdot W t - W \\cdot W \\times R, ...)/(u^2 + W \\cdot W)\\\\\n",
    "&=\\left(\\frac{u^2 + W \\cdot W}{u^2 + W \\cdot W}t,...\\right) = (t, ...)\\end{align}$$\n",
    "\n",
    "Now look at the rotated event."
   ]
  },
  {
   "cell_type": "code",
   "execution_count": 4,
   "metadata": {
    "collapsed": false
   },
   "outputs": [
    {
     "name": "stdout",
     "output_type": "stream",
     "text": [
      "(13.033333333333333, 8.033333333333333)_I0,2  (12.0, 9.2)_i1,3  (14.566666666666666, 7.566666666666666)_j1,3  (15.933333333333334, 6.333333333333333)_k1,3  QxQxQ.^-1\n",
      "(5.0, 0)_I0,2  (2.8000000000000007, 0)_i1,3  (7.0, 0)_j1,3  (9.600000000000001, 0)_k1,3  QxQxQ.^-1.reduce\n"
     ]
    }
   ],
   "source": [
    "print(R_rotated)\n",
    "print(R_rotated.reduce())"
   ]
  },
  {
   "cell_type": "markdown",
   "metadata": {},
   "source": [
    "The first term does change! At least in the non-reduced Qq format, there is a change because it is composed of the positive and negative terms we saw in the algebra problem. For example, there is the vector identity W.WxR=0. The cross product makes a vector that is 90 degrees to both W and R. The dot product of that cross product with W is zero because nothing is in the direction of W anymore. This shows up algebraically because the 6 terms of the cross product have three positive terms and three negative terms that exactly cancel when dotted to W. But the values remain in the $I^0$ and $I^2$ terms until Qq is reduced.\n",
    "\n",
    "When the Qq is reduced, it ends up being a 5 as expected. This may be of interest because we keep more information about the change with the eight positions to fill in the Qq representation (none of which are empty after the rotation)."
   ]
  },
  {
   "cell_type": "markdown",
   "metadata": {},
   "source": [
    "We expect the norms to be identical in the reduce form:"
   ]
  },
  {
   "cell_type": "code",
   "execution_count": 5,
   "metadata": {
    "collapsed": false
   },
   "outputs": [
    {
     "name": "stdout",
     "output_type": "stream",
     "text": [
      "(174, 0)_I0,2  (0, 0)_i1,3  (0, 0)_j1,3  (0, 0)_k1,3  Q.norm\n",
      "(1026.4666666666667, 852.4666666666666)_I0,2  (0, 0)_i1,3  (0, 0)_j1,3  (0, 0)_k1,3  QxQxQ.^-1.norm\n",
      "(174.0000000000001, 0)_I0,2  (0, 0)_i1,3  (0, 0)_j1,3  (0, 0)_k1,3  QxQxQ.^-1.norm.reduce\n"
     ]
    }
   ],
   "source": [
    "print(R.norm())\n",
    "print(R_rotated.norm())\n",
    "print(R_rotated.norm().reduce())"
   ]
  },
  {
   "cell_type": "markdown",
   "metadata": {
    "collapsed": true
   },
   "source": [
    "If squared, the reduced interval should be the same too:"
   ]
  },
  {
   "cell_type": "code",
   "execution_count": 6,
   "metadata": {
    "collapsed": false
   },
   "outputs": [
    {
     "name": "stdout",
     "output_type": "stream",
     "text": [
      "(0, 124)_I0,2  (60, 0)_i1,3  (70, 0)_j1,3  (80, 0)_k1,3  Q.sq.reduce\n",
      "(877.4666666666666, 1001.4666666666667)_I0,2  (460.61333333333334, 432.61333333333334)_i1,3  (501.27555555555557, 431.27555555555557)_j1,3  (517.0844444444444, 421.08444444444444)_k1,3  QxQxQ.^-1.sq\n",
      "(0, 124.00000000000011)_I0,2  (28.0, 0)_i1,3  (70.0, 0)_j1,3  (96.0, 0)_k1,3  QxQxQ.^-1.sq.reduce\n"
     ]
    }
   ],
   "source": [
    "print(R.square().reduce())\n",
    "print(R_rotated.square())\n",
    "print(R_rotated.square().reduce())"
   ]
  },
  {
   "cell_type": "markdown",
   "metadata": {},
   "source": [
    "But what should we make of these non-reduced calculations? Here is my speculation. In classical physics, one always, always, always uses the reduced form of a Qq quaternion measurement. Classical physics involves one thing doing something. Physics gets odd when dealing with relativistic quantum feild theory. That is a rare sport played only when a one packet of protons collides with another inside an atom smasher. In those entirely odd situations, one must start thinking about multiple particles because we cannot know what happened, there is too much energy around, so we sum over all possible histories.\n",
    "\n",
    "It is simple to move an event to another place in space-time the same distance from the origin. Because it is a transient event, it feels fleeting, which it should."
   ]
  },
  {
   "cell_type": "markdown",
   "metadata": {
    "collapsed": true
   },
   "source": [
    "## Rotations in Time"
   ]
  },
  {
   "cell_type": "markdown",
   "metadata": {},
   "source": [
    "A rotation in time is commonly called a boost. The idea is that one gets a boost in speed, and that will change measurements of both time and distance. If one rushes toward the source of a signal, both the measurement of time and distance will get shorter in a way that keeps the interval the same."
   ]
  },
  {
   "cell_type": "markdown",
   "metadata": {},
   "source": [
    "There are published claims in the literature that a boost cannot be done with real valued quaternions. This may be because people followed the form of rotations in space too closely. It is true that swapping hyperbolic cosines for cosines, and hyperbolic sines for sines does not create a Lorentz boost. Rotations are known as a compact Lie group while boosts form a group that is not compact. A slightly more complicated combination of the hyperbolic trig functions does do the work:"
   ]
  },
  {
   "cell_type": "markdown",
   "metadata": {},
   "source": [
    "$$\\begin{align*} b \\rightarrow b' = &(\\cosh(\\alpha), \\sinh(\\alpha) (t, R) (\\cosh(\\alpha), -\\sinh(\\alpha) \\\\&- \\frac{1}{2}(((\\cosh(\\alpha), \\sinh(\\alpha) (\\cosh(\\alpha), \\sinh(\\alpha) (t,R))^* -((\\cosh(\\alpha), -\\sinh(\\alpha) (\\cosh(\\alpha), -\\sinh(\\alpha) (t,R))^*)\\\\\n",
    "&=(\\cosh(\\alpha) t - \\sinh(\\alpha) R, \\cosh(\\alpha) R - \\sinh(\\alpha) t)\\end{align*}$$"
   ]
  },
  {
   "cell_type": "code",
   "execution_count": 7,
   "metadata": {
    "collapsed": false
   },
   "outputs": [
    {
     "name": "stdout",
     "output_type": "stream",
     "text": [
      "boosted: (4.556864444001997, 0)_I0,2  (5.90443135555998, 0)_i1,3  (6.808862711119961, 0)_j1,3  (7.971329406667996, 0)_k1,3  Q.boost.reduce\n",
      "(0, 124)_I0,2  (60, 0)_i1,3  (70, 0)_j1,3  (80, 0)_k1,3  Q.sq.reduce\n",
      "(332.92404269673744, 456.92404269673744)_I0,2  (168.19865710738904, 114.38727049498547)_i1,3  (192.72655295590604, 130.67242417111888)_j1,3  (220.17238038687336, 147.52384529752752)_k1,3  Q.boost.sq\n",
      "(0, 124.0)_I0,2  (53.81138661240357, 0)_i1,3  (62.05412878478717, 0)_j1,3  (72.64853508934584, 0)_k1,3  Q.boost.sq.reduce\n"
     ]
    }
   ],
   "source": [
    "R_boosted=R.boost(0.01,0.02, 0.003)\n",
    "print(\"boosted: {}\".format(R_boosted.reduce()))\n",
    "print(R.square().reduce())\n",
    "print(R_boosted.square())\n",
    "print(R_boosted.square().reduce())"
   ]
  },
  {
   "cell_type": "markdown",
   "metadata": {},
   "source": [
    "The reduced interval is $124 \\,I^2$, whether boosted or not. The norm will shrink because all the number are a little smaller, no longer quite (5, 6, 7, 8)."
   ]
  },
  {
   "cell_type": "code",
   "execution_count": 8,
   "metadata": {
    "collapsed": false
   },
   "outputs": [
    {
     "name": "stdout",
     "output_type": "stream",
     "text": [
      "(174, 0)_I0,2  (0, 0)_i1,3  (0, 0)_j1,3  (0, 0)_k1,3  Q.norm.reduce\n",
      "(477.6890562577471, 312.1590291357278)_I0,2  (0, 0)_i1,3  (0, 0)_j1,3  (0, 0)_k1,3  Q.boost.norm\n",
      "(165.5300271220193, 0)_I0,2  (0, 0)_i1,3  (0, 0)_j1,3  (0, 0)_k1,3  Q.boost.norm.reduce\n"
     ]
    }
   ],
   "source": [
    "print(R.norm().reduce())\n",
    "print(R_boosted.norm())\n",
    "print(R_boosted.norm().reduce())"
   ]
  },
  {
   "cell_type": "markdown",
   "metadata": {},
   "source": [
    "## Rotations in Space and Time"
   ]
  },
  {
   "cell_type": "markdown",
   "metadata": {},
   "source": [
    "Quaternions are just numbers. This makes combining transformations trivial. A measurement can be rotated and boosted. The only thing that should be unchanged is the interval:"
   ]
  },
  {
   "cell_type": "code",
   "execution_count": 9,
   "metadata": {
    "collapsed": false
   },
   "outputs": [
    {
     "name": "stdout",
     "output_type": "stream",
     "text": [
      "rotated and boosted: (4.611292147703185, 0)_I0,2  (2.703887078522971, 0)_i1,3  (6.807774157045934, 0)_j1,3  (9.571166123556893, 0)_k1,3  QxQxQ.^-1.boost.reduce\n",
      "(0, 124)_I0,2  (60, 0)_i1,3  (70, 0)_j1,3  (80, 0)_k1,3  Q.sq.reduce\n",
      "(4220.9269820845675, 4344.9269820845675)_I0,2  (2057.699089275276, 2032.7622627683381)_i1,3  (2158.177631785001, 2095.3923607575553)_j1,3  (2183.1193449968646, 2094.8484586170234)_k1,3  QxQxQ.^-1.boost.sq\n",
      "(0, 124.0)_I0,2  (24.936826506937905, 0)_i1,3  (62.78527102744556, 0)_j1,3  (88.27088637984116, 0)_k1,3  QxQxQ.^-1.boost.sq.reduce\n"
     ]
    }
   ],
   "source": [
    "R_rotated_and_boosted = R_rotated.boost(0.01,0.02, 0.003)\n",
    "print(\"rotated and boosted: {}\".format(R_rotated_and_boosted.reduce()))\n",
    "print(R.square().reduce())\n",
    "print(R_rotated_and_boosted.square())\n",
    "print(R_rotated_and_boosted.square().reduce())"
   ]
  },
  {
   "cell_type": "markdown",
   "metadata": {},
   "source": [
    "Because of the rotation, the z value was larger. It is a safe bet that the norm turns out to be smaller as happened before:"
   ]
  },
  {
   "cell_type": "code",
   "execution_count": 10,
   "metadata": {
    "collapsed": false
   },
   "outputs": [
    {
     "name": "stdout",
     "output_type": "stream",
     "text": [
      "(174, 0)_I0,2  (0, 0)_i1,3  (0, 0)_j1,3  (0, 0)_k1,3  Q.norm.reduce\n",
      "(4366.190997356037, 4199.662966813099)_I0,2  (0, 0)_i1,3  (0, 0)_j1,3  (0, 0)_k1,3  QxQxQ.^-1.boost.norm\n",
      "(166.5280305429378, 0)_I0,2  (0, 0)_i1,3  (0, 0)_j1,3  (0, 0)_k1,3  QxQxQ.^-1.boost.norm.reduce\n"
     ]
    }
   ],
   "source": [
    "print(R.norm().reduce())\n",
    "print(R_rotated_and_boosted.norm())\n",
    "print(R_rotated_and_boosted.norm().reduce())"
   ]
  },
  {
   "cell_type": "markdown",
   "metadata": {},
   "source": [
    "## Ratios at Work"
   ]
  },
  {
   "cell_type": "markdown",
   "metadata": {},
   "source": [
    "An angle is a ratio, this side over that side. The velocity used in a boost is a ratio of distance over time. Say we have a reference observer who measures the interval between two events. If another observer see the same events, but was standing on his head, we migh expect the headstand to change how the crazy observer places his numbers into the three spatial slots. Yet the two observers should agree to the inteval, and they do.\n",
    "\n",
    "The same happens if there is an observer travelling at a constant velocity relative to the referene observer. It is not surprizing that the math machinery is different because a spatial rotation is different from moving along at certain velocity.\n",
    "\n",
    "Combining the spatial rotations and boosts can be done, creating messy results, except for the interval that remains the same."
   ]
  }
 ],
 "metadata": {
  "kernelspec": {
   "display_name": "Python 3",
   "language": "python",
   "name": "python3"
  },
  "language_info": {
   "codemirror_mode": {
    "name": "ipython",
    "version": 3
   },
   "file_extension": ".py",
   "mimetype": "text/x-python",
   "name": "python",
   "nbconvert_exporter": "python",
   "pygments_lexer": "ipython3",
   "version": "3.5.1"
  }
 },
 "nbformat": 4,
 "nbformat_minor": 0
}
