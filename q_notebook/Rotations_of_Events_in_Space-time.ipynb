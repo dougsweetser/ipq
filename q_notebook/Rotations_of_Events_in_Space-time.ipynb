{
 "cells": [
  {
   "cell_type": "markdown",
   "metadata": {
    "collapsed": true
   },
   "source": [
    "# Simple Rotations"
   ]
  },
  {
   "cell_type": "markdown",
   "metadata": {},
   "source": [
    "In this iPython notebook, the one thing quaternions are known for - doing 3D spatial rotations - will be examined. When working with quaternions, it is not possible to work in just three spatial dimensions. There is always a fourth dimension, namely time. So we are thinking about events in space-time, not just events.\n",
    "\n",
    "Create a couple of quaternions to play with."
   ]
  },
  {
   "cell_type": "code",
   "execution_count": 9,
   "metadata": {
    "collapsed": false
   },
   "outputs": [],
   "source": [
    "from Q_tool_devo import Qq;\n",
    "u=Qq([1,2,3,4])\n",
    "r=Qq([5,6,7,8])"
   ]
  },
  {
   "cell_type": "markdown",
   "metadata": {},
   "source": [
    "We are using the Qq class that places these 4 numbers in 8 slots like so:"
   ]
  },
  {
   "cell_type": "code",
   "execution_count": 3,
   "metadata": {
    "collapsed": false
   },
   "outputs": [
    {
     "name": "stdout",
     "output_type": "stream",
     "text": [
      "1_I0  0_I2  2_i1  0_i3  3_j1  0_j3  4_k1  0_k3\n",
      "5_I0  0_I2  6_i1  0_i3  7_j1  0_j3  8_k1  0_k3\n"
     ]
    }
   ],
   "source": [
    "print(u)\n",
    "print(r)"
   ]
  },
  {
   "cell_type": "markdown",
   "metadata": {},
   "source": [
    "If you are unfamiliar with this notation, the $I^2 = -1,\\, i^3=-i,\\, j^3=-j,\\, k^3=-k$. Only positive numbers are used, with additive inverse put in these placeholders.\n",
    "\n",
    "To do a rotaion, one needs to pre-multiply by a quaternion (using u for this role), then post-multiply by the inverse. By doing so, the norm of r will not change because quaternions are a normed division algebra."
   ]
  },
  {
   "cell_type": "code",
   "execution_count": 4,
   "metadata": {
    "collapsed": true
   },
   "outputs": [],
   "source": [
    "rrotated=u.triple_product(r, u.invert())"
   ]
  },
  {
   "cell_type": "markdown",
   "metadata": {},
   "source": [
    "Should we expect the first term to change? Look into the triple product first term where I use Capital variable for 3-vectors to simplify the presentation:\n",
    "\n",
    "$$\\begin{align}(u, W)&(r, R)(u, -W)/(u^2 + W \\cdot W)\\\\\n",
    "&= (u r - W \\cdot R, u R + W r + W \\times R)(u, -W)/(u^2 + W \\cdot W)\\\\\n",
    "&=(u^2 r - uW \\cdot R + u W \\cdot R + W \\cdot W r - W \\cdot W \\times R, ...)/(u^2 + W \\cdot W)\\\\\n",
    "&=\\left(\\frac{u^2 + W \\cdot W}{u^2 + W \\cdot W}r,...\\right) = (r, ...)\\end{align}$$\n",
    "Now look at the rotated event."
   ]
  },
  {
   "cell_type": "code",
   "execution_count": 5,
   "metadata": {
    "collapsed": false
   },
   "outputs": [
    {
     "name": "stdout",
     "output_type": "stream",
     "text": [
      "13.033333333333333_I0  8.033333333333333_I2  12.0_i1  9.2_i3  14.566666666666666_j1  7.566666666666666_j3  15.933333333333334_k1  6.333333333333333_k3\n",
      "5.0_I0  0_I2  2.8000000000000007_i1  0_i3  7.0_j1  0_j3  9.600000000000001_k1  0_k3\n"
     ]
    }
   ],
   "source": [
    "print(rrotated)\n",
    "print(rrotated.reduce())"
   ]
  },
  {
   "cell_type": "markdown",
   "metadata": {},
   "source": [
    "The first term does change! At least in the non-reduced Qq format, there is a change because it is composed of the positive and negative terms we saw in the algebra problem. For example, there is the vector identity W.WxR=0. The cross product makes a vector that is 90 degrees to both W and R. The dot product of that cross product with W is zero because nothing is in the direction of W anymore. This shows up algebraically because the 6 terms of the cross product have three positive terms and three negative terms that exactly cancel when dotted to W. But the values remain in the $I^0$ and $I^2$ terms until Qq is reduced.\n",
    "\n",
    "When the Qq is reduced, it ends up being a 5 as expected. This may be of interest because we keep more information about the change with the eight positions to fill in the Qq representation (none of which are empty after the rotation)."
   ]
  },
  {
   "cell_type": "markdown",
   "metadata": {},
   "source": [
    "We expect the norms to be identical in the reduce form:"
   ]
  },
  {
   "cell_type": "code",
   "execution_count": 6,
   "metadata": {
    "collapsed": false
   },
   "outputs": [
    {
     "name": "stdout",
     "output_type": "stream",
     "text": [
      "174_I0  0_I2  0_i1  0_i3  0_j1  0_j3  0_k1  0_k3\n",
      "1026.4666666666667_I0  852.4666666666666_I2  0_i1  0_i3  0_j1  0_j3  0_k1  0_k3\n",
      "174.0000000000001_I0  0_I2  0_i1  0_i3  0_j1  0_j3  0_k1  0_k3\n"
     ]
    }
   ],
   "source": [
    "print(r.norm())\n",
    "print(rrotated.norm())\n",
    "print(rrotated.norm().reduce())"
   ]
  },
  {
   "cell_type": "markdown",
   "metadata": {
    "collapsed": true
   },
   "source": [
    "If squared, the reduced interval should be the same too:"
   ]
  },
  {
   "cell_type": "code",
   "execution_count": 8,
   "metadata": {
    "collapsed": false
   },
   "outputs": [
    {
     "name": "stdout",
     "output_type": "stream",
     "text": [
      "37726_I0  7450_I2  0_i1  0_i3  0_j1  0_j3  0_k1  0_k3\n",
      "3054166.394034568_I0  3023890.394034568_I2  0_i1  0_i3  0_j1  0_j3  0_k1  0_k3\n",
      "30276.0_I0  0_I2  0_i1  0_i3  0_j1  0_j3  0_k1  0_k3\n"
     ]
    }
   ],
   "source": [
    "print(r.square().norm())\n",
    "print(rrotated.square().norm())\n",
    "print(rrotated.square().norm().reduce())"
   ]
  },
  {
   "cell_type": "markdown",
   "metadata": {},
   "source": [
    "But what should we make of these non-reduced calculations? Here is my speculation. In classical physics, one always, always, always uses the reduced form of a Qq quaternion measurement. Classical physics involves one thing doing something. Physics gets odd when dealing with relativistic quantum feild theory. That is a rare sport played only when a one packet of protons collides with another inside an atom smasher. In those entirely odd situations, one must start thinking about multiple particles because we cannot know what happened, there is too much energy around, so we sum over all possible histories.\n",
    "\n",
    "It is simple to move an event to another place in space-time the same distance from the origin. Because it is a transient event, it feels fleeting, which it should."
   ]
  },
  {
   "cell_type": "code",
   "execution_count": null,
   "metadata": {
    "collapsed": true
   },
   "outputs": [],
   "source": []
  }
 ],
 "metadata": {
  "kernelspec": {
   "display_name": "Python 3",
   "language": "python",
   "name": "python3"
  },
  "language_info": {
   "codemirror_mode": {
    "name": "ipython",
    "version": 3
   },
   "file_extension": ".py",
   "mimetype": "text/x-python",
   "name": "python",
   "nbconvert_exporter": "python",
   "pygments_lexer": "ipython3",
   "version": "3.5.1"
  }
 },
 "nbformat": 4,
 "nbformat_minor": 0
}
