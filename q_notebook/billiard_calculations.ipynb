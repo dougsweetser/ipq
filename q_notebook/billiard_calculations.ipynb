{
 "cells": [
  {
   "cell_type": "markdown",
   "metadata": {},
   "source": [
    "# Billiards With Space-time Numbers"
   ]
  },
  {
   "cell_type": "markdown",
   "metadata": {},
   "source": [
    "The goal of this iPython notebook is to become familiar with using space-time numbers to describe events. This will be done for three different observers. The first case will cover the fact that the observers happen to be at different locations. How does one handle different ways to represent the numbers used to characterize events?"
   ]
  },
  {
   "cell_type": "markdown",
   "metadata": {},
   "source": [
    "One observer will be set in constant motion. We will work out the equivalence classes that cover observers in motion. The final case will look at equivalence classes that may happen due to gravity."
   ]
  },
  {
   "cell_type": "markdown",
   "metadata": {},
   "source": [
    "Here is an animation of a mini billiard shot."
   ]
  },
  {
   "cell_type": "markdown",
   "metadata": {},
   "source": [
    "![](images/Billiards/billiard_video.gif)"
   ]
  },
  {
   "cell_type": "markdown",
   "metadata": {},
   "source": [
    "Cue ball hits the 8 ball, then into the corner pocket it goes. Observer A is yellow, our proverbial reference observer. I promise to do nothing with her ever. Observer B in pink is at a slightly different location, but still watching from the tabletop. Eventually, he will be set into constant motion. Then we can see about what Observers agree and disagree about. Observer C is in purple and at the end of a pipe cleaner above the tabletop. His observations will be ever-so-slightly different from Observer A and that will be investigated."
   ]
  },
  {
   "cell_type": "markdown",
   "metadata": {},
   "source": [
    "A number of big simplifications will be done for this analysis. All but two frames will be used."
   ]
  },
  {
   "cell_type": "markdown",
   "metadata": {},
   "source": [
    "![](images/Billiards/shot_12.png)"
   ]
  },
  {
   "cell_type": "markdown",
   "metadata": {
    "collapsed": true
   },
   "source": [
    "Get rid of the green felt. In its place, put some graph paper. Add a few markers to make any measurement more precise."
   ]
  },
  {
   "cell_type": "markdown",
   "metadata": {},
   "source": [
    "![](images/Billiards/shot_12_no_felt.png)"
   ]
  },
  {
   "cell_type": "markdown",
   "metadata": {},
   "source": [
    "The image was then printed out so a precise dial calliper could be used to make measurements. Notice that observer A is ~2.5 squares to the left and 3+ squares below the 8 ball in the first frame."
   ]
  },
  {
   "cell_type": "markdown",
   "metadata": {},
   "source": [
    "![](images/Billiards/ball_printout.jpg)"
   ]
  },
  {
   "cell_type": "markdown",
   "metadata": {
    "collapsed": true
   },
   "source": [
    "Can the time be measured precisely? In this case, I will use the frames of the gif animation as a proxy for measuring time. I used the command \"convert billiard_video.gif Frames/billiards_1%02d.png\" to make make individual frames from the gif. The two frames are 147 and 158. The speed of the fastest cue break is over 30 miles per hour, or as a diminsionless relativistic speed is 4.5x10<sup>-8</sup>. If small number are used for the differences in space, then the difference between time should be scaled to be in the ten billion range. So that is what I did: call the first time 1,470,000,000 and the second one 1,580,000,000. The ball is then moving around 20mph. I could have found out the frames per second, and calculated the correct speed from there. The three observers do not need to coordinate to figure out the same origin in time, so I chose B and C to start a billion and two billion earlier respectively."
   ]
  },
  {
   "cell_type": "markdown",
   "metadata": {},
   "source": [
    "This explains how I got numbers related to an 8 ball moving on a table. Now to calculate the in"
   ]
  },
  {
   "cell_type": "code",
   "execution_count": 1,
   "metadata": {
    "collapsed": false
   },
   "outputs": [],
   "source": [
    "%%capture\n",
    "import Q_tool_devo as qtd;\n",
    "Aq1=qtd.Qq([1470000000,0,1.1421,0,1.4220,0,0,0])\n",
    "Aq2=qtd.Qq([1580000000,0,4.2966,0,0,0.3643,0,0])"
   ]
  },
  {
   "cell_type": "code",
   "execution_count": 2,
   "metadata": {
    "collapsed": false
   },
   "outputs": [
    {
     "name": "stdout",
     "output_type": "stream",
     "text": [
      "(3251493000.0, 0.0)_I0,2  (2.5262109899999996, 0.0)_i1,3  (3.1453217999999996, 0.0)_j1,3  (0.0, 0.0)_k1,3  QxS\n",
      "(3494802000.0, 0.0)_I0,2  (9.50364954, 0.0)_i1,3  (0.0, 0.80579517)_j1,3  (0.0, 0.0)_k1,3  QxS\n"
     ]
    }
   ],
   "source": [
    "q_scale = qtd.Qq([2.2119,0,0,0,0,0,0,0], qtype=\"S\")\n",
    "Aq1s=Aq1.product(q_scale)\n",
    "Aq2s=Aq2.product(q_scale)\n",
    "print(Aq1s)\n",
    "print(Aq2s)"
   ]
  },
  {
   "cell_type": "markdown",
   "metadata": {},
   "source": [
    "When scaled, the expected values are seen, the x value at around 2.5, the y value above 3 and zero for z."
   ]
  },
  {
   "cell_type": "markdown",
   "metadata": {},
   "source": [
    "Calculate the delta quaternion between events one and two:"
   ]
  },
  {
   "cell_type": "code",
   "execution_count": 3,
   "metadata": {
    "collapsed": false
   },
   "outputs": [
    {
     "name": "stdout",
     "output_type": "stream",
     "text": [
      "(243309000.0, 0)_I0,2  (6.9774385500000005, 0)_i1,3  (0.0, 3.9511169699999997)_j1,3  (0.0, 0.0)_k1,3  QxS-QxS.reduce\n"
     ]
    }
   ],
   "source": [
    "Adq=Aq2s.dif(Aq1s).reduce()\n",
    "print(Adq)"
   ]
  },
  {
   "cell_type": "markdown",
   "metadata": {},
   "source": [
    "The difference is nearly 7 in the x<sub>1</sub> direction, and 4 in the j<sub>3</sub>, which if real numbers were being used would be the positive x and negative y. The qtype \"QxQ-QxQ.reduce\" shows that both initial components were multiplied by a scalar value, then the difference taken."
   ]
  },
  {
   "cell_type": "code",
   "execution_count": 4,
   "metadata": {
    "collapsed": false
   },
   "outputs": [
    {
     "name": "stdout",
     "output_type": "stream",
     "text": [
      "(5.9199269481e+16, 64.29597402964808)_I0,2  (3395347192.3239, 0.0)_i1,3  (0.0, 1922684637.70746)_j1,3  (0.0, 0.0)_k1,3  QxS-QxS.reduce.sq\n"
     ]
    }
   ],
   "source": [
    "Adq2=Adq.square()\n",
    "print(Adq2)"
   ]
  },
  {
   "cell_type": "markdown",
   "metadata": {
    "collapsed": true
   },
   "source": [
    "It is my thesis that all the numbers in the square provide important information for comparing any pair of observers. Here are the input numbers for observers B and C:"
   ]
  },
  {
   "cell_type": "code",
   "execution_count": 5,
   "metadata": {
    "collapsed": false
   },
   "outputs": [
    {
     "name": "stdout",
     "output_type": "stream",
     "text": [
      "(5463393000.0, 0.0)_I0,2  (1.96173411, 0.0)_i1,3  (4.136253, 0.0)_j1,3  (0.0, 0.0)_k1,3  QxS\n",
      "(5706702000.0, 0.0)_I0,2  (8.73280239, 0.0)_i1,3  (0.0, 0.23534616)_j1,3  (0.0, 0.0)_k1,3  QxS\n",
      "(243309000.0, 0)_I0,2  (6.77106828, 0)_i1,3  (0.0, 4.37159916)_j1,3  (0.0, 0.0)_k1,3  QxS-QxS.reduce\n",
      "(7675293000.0, 0.0)_I0,2  (2.5262109899999996, 0.0)_i1,3  (3.1453217999999996, 0.0)_j1,3  (2.93209464, 0.0)_k1,3  QxS\n",
      "(7918602000.0, 0.0)_I0,2  (9.50364954, 0.0)_i1,3  (0.0, 0.80579517)_j1,3  (2.93209464, 0.0)_k1,3  QxS\n",
      "(243309000.0, 0)_I0,2  (6.9774385500000005, 0)_i1,3  (0.0, 3.9511169699999997)_j1,3  (0, 0)_k1,3  QxS-QxS.reduce\n"
     ]
    }
   ],
   "source": [
    "Bq1=qtd.Qq([2470000000,0,0.8869,0,1.8700,0,0,0])\n",
    "Bq2=qtd.Qq([2580000000,0,3.9481,0,0,0.1064,0,0])\n",
    "Bq1s=Bq1.product(q_scale)\n",
    "Bq2s=Bq2.product(q_scale)\n",
    "Bdq=Bq2s.dif(Bq1s).reduce()\n",
    "Cq1=qtd.Qq([3470000000,0,1.1421,0,1.4220,0,1.3256,0])\n",
    "Cq2=qtd.Qq([3580000000,0,4.2966,0,0,0.3643,1.3256,0])\n",
    "Cq1s=Cq1.product(q_scale)\n",
    "Cq2s=Cq2.product(q_scale)\n",
    "Cdq=Cq2s.dif(Cq1s).reduce()\n",
    "print(Bq1s)\n",
    "print(Bq2s)\n",
    "print(Bdq)\n",
    "print(Cq1s)\n",
    "print(Cq2s)\n",
    "print(Cdq)"
   ]
  },
  {
   "cell_type": "markdown",
   "metadata": {},
   "source": [
    "No set of input numbers for two observers are **ever the same**. Two observers must be located in either a different place in time or a different place in space or both."
   ]
  },
  {
   "cell_type": "code",
   "execution_count": 6,
   "metadata": {
    "collapsed": false
   },
   "outputs": [
    {
     "name": "stdout",
     "output_type": "stream",
     "text": [
      "(5.9199269481e+16, 64.29597402964808)_I0,2  (3395347192.3239, 0.0)_i1,3  (0.0, 1922684637.70746)_j1,3  (0.0, 0.0)_k1,3  QxS-QxS.reduce.sq\n",
      "(5.9199269481e+16, 64.95824486813486)_I0,2  (3294923704.27704, 0.0)_i1,3  (0.0, 2127298840.04088)_j1,3  (0.0, 0.0)_k1,3  QxS-QxS.reduce.sq\n",
      "(5.9199269481e+16, 64.29597402964808)_I0,2  (3395347192.3239, 0.0)_i1,3  (0.0, 1922684637.70746)_j1,3  (0.0, 0.0)_k1,3  QxS-QxS.reduce.sq\n"
     ]
    }
   ],
   "source": [
    "Bdq2=Bq1s.dif(Bq2s).reduce().square()\n",
    "Cdq2=Cq1s.dif(Cq2s).reduce().square()\n",
    "print(Adq2)\n",
    "print(Bdq2)\n",
    "print(Cdq2)"
   ]
  },
  {
   "cell_type": "markdown",
   "metadata": {},
   "source": [
    "We are comparing apples to apples since the qtype, \"QxS-QxS.reduce.sq\", are the same. The first of the 8 terms are exactly the same, the I<sub>0</sub>. The reason is the delta time values were exactly the same. The first and third I<sub>2</sub> are exactly the same because their delta values were identical even though they had different z values. A different physical measurement was made for Observer B. The match is pretty good:"
   ]
  },
  {
   "cell_type": "code",
   "execution_count": 7,
   "metadata": {
    "collapsed": false
   },
   "outputs": [
    {
     "data": {
      "text/plain": [
       "0.010216718266253817"
      ]
     },
     "execution_count": 7,
     "metadata": {},
     "output_type": "execute_result"
    }
   ],
   "source": [
    "(64.96 - 64.30)/64.60"
   ]
  },
  {
   "cell_type": "markdown",
   "metadata": {},
   "source": [
    "The error is about a percent. So while I reported 4 significant digits, only the first two can be trusted."
   ]
  },
  {
   "cell_type": "markdown",
   "metadata": {},
   "source": [
    "The next experiment involved rotating the graph paper for Observer B. This should not change much other than the numbers that get plugged into the inteval calculation."
   ]
  },
  {
   "cell_type": "markdown",
   "metadata": {},
   "source": [
    "![](images/Billiards/shot_12_no_felt_rotated.png)"
   ]
  },
  {
   "cell_type": "code",
   "execution_count": 8,
   "metadata": {
    "collapsed": false
   },
   "outputs": [
    {
     "name": "stdout",
     "output_type": "stream",
     "text": [
      "(5.9199269481e+16, 65.82295734469014)_I0,2  (3651410941.5880804, 0.0)_i1,3  (0.0, 1501293474.03816)_j1,3  (0.0, 0.0)_k1,3  QxS-QxS.reduce.sq\n",
      "(5.9199269481e+16, 64.95824486813486)_I0,2  (3294923704.27704, 0.0)_i1,3  (0.0, 2127298840.04088)_j1,3  (0.0, 0.0)_k1,3  QxS-QxS.reduce.sq\n"
     ]
    }
   ],
   "source": [
    "BRotq1=qtd.Qq([2470000000,0,0.519,0,1.9440,0,0,0])\n",
    "BRotq2=qtd.Qq([2580000000,0,3.9114,0,0.5492,0,0,0])\n",
    "BRotdq2=BRotq1.product(q_scale).dif(BRotq2.product(q_scale)).reduce().square()\n",
    "print(BRotdq2)\n",
    "print(Bdq2)"
   ]
  },
  {
   "cell_type": "markdown",
   "metadata": {},
   "source": [
    "No surprise here: the graph paper will make a difference in the numbers used, but the distance is the same up to the errors made in the measuring process."
   ]
  },
  {
   "cell_type": "markdown",
   "metadata": {},
   "source": [
    "## Representations of Numbers  Versus Coordinate Transformation of Vectors"
   ]
  },
  {
   "cell_type": "markdown",
   "metadata": {},
   "source": [
    "This notebook is focused on space-time numbers that can be added, subtracted, multiplied, and divided. Formally, they are rank 0 tensors. Yet because space-time numbers have four slots to fill, it is quite easy to mistakenly view them as a four dimensional vector space over the mathematical field of real numbers with four basis vectors. Different representations of numbers changes the values of the numbers that get used, but not their meaning. Let's see this in action for a cylindrical representation of a number. Instead of $x$ and $y$, one uses $R \\cos(\\alpha)$ and $R \\sin(\\alpha)$, no change for $z$."
   ]
  },
  {
   "cell_type": "markdown",
   "metadata": {
    "collapsed": true
   },
   "source": [
    "![](images/Billiards/shot_12_no_felt_polar.png)"
   ]
  },
  {
   "cell_type": "markdown",
   "metadata": {
    "collapsed": true
   },
   "source": [
    "What needs to be done with the measurements done in cylindrical coordinates is to convert them to Cartesian, the proceed with the same calculations."
   ]
  },
  {
   "cell_type": "code",
   "execution_count": 9,
   "metadata": {
    "collapsed": true
   },
   "outputs": [],
   "source": [
    "import math\n",
    "\n",
    "def cyl_2_cart(q1):\n",
    "    \"\"\"Convert a measurment made with cylindrical coordinates in angles to Cartesian cooridantes.\"\"\"\n",
    "    \n",
    "    t = q1.dt.p - q1.dt.n\n",
    "    r = q1.dx.p - q1.dx.n\n",
    "    a = q1.dy.p - q1.dy.n\n",
    "    h = q1.dz.p - q1.dz.n\n",
    "    \n",
    "    x = r * math.cos(a * math.pi / 180)\n",
    "    y = r * math.sin(a * math.pi / 180)\n",
    "    \n",
    "    return qtd.Qq([t, x, y, h])"
   ]
  },
  {
   "cell_type": "markdown",
   "metadata": {},
   "source": [
    "For polar coordinates, measure directly the distance between the origin and the billiard ball. Then determine an angle. This constitutes a different approach to making a measurement."
   ]
  },
  {
   "cell_type": "code",
   "execution_count": 10,
   "metadata": {
    "collapsed": false
   },
   "outputs": [
    {
     "name": "stdout",
     "output_type": "stream",
     "text": [
      "(5.9199269481e+16, 65.28358588503004)_I0,2  (3426312023.8477516, 0.0)_i1,3  (0.0, 1928561196.6468496)_j1,3  (0.0, 0.0)_k1,3  QxS-QxS.reduce.sq\n",
      "(5.9199269481e+16, 64.95824486813486)_I0,2  (3294923704.27704, 0.0)_i1,3  (0.0, 2127298840.04088)_j1,3  (0.0, 0.0)_k1,3  QxS-QxS.reduce.sq\n"
     ]
    }
   ],
   "source": [
    "BPolarq1=cyl_2_cart(qtd.Qq([2470000000,0,2.0215,0, 68.0,0,0,0]))\n",
    "BPolarq2=cyl_2_cart(qtd.Qq([2580000000,0,3.9414,0,1.2,0,0,0]))\n",
    "BPolardq2=BPolarq1.product(q_scale).dif(BPolarq2.product(q_scale)).reduce().square()\n",
    "print(BPolardq2)\n",
    "print(Bdq2)"
   ]
  },
  {
   "cell_type": "markdown",
   "metadata": {
    "collapsed": true
   },
   "source": [
    "Yet the result for the interval is the same: the positive time squared term is exactly the same since those numbers were not changed, and the negative numbers for the space terms were only different to the error in measurement."
   ]
  },
  {
   "cell_type": "markdown",
   "metadata": {},
   "source": [
    "## Observer B Boosted"
   ]
  },
  {
   "cell_type": "markdown",
   "metadata": {},
   "source": [
    "Give Observer B a Lorenz boost. All that is needed is to relocate Observer B in the second frame like so:"
   ]
  },
  {
   "cell_type": "markdown",
   "metadata": {},
   "source": [
    "![](images/Billiards/shot_12_no_felt_boosted.png)"
   ]
  },
  {
   "cell_type": "markdown",
   "metadata": {},
   "source": [
    "To make the math simpler, presume all the motion is along $x$, not the slightest wiggle along $y$ or $z$. Constant motion between the frames shown is also presumed."
   ]
  },
  {
   "cell_type": "markdown",
   "metadata": {},
   "source": [
    "What velocity is involved? THat would be the change in space, 2, over the time, a big number"
   ]
  },
  {
   "cell_type": "code",
   "execution_count": 11,
   "metadata": {
    "collapsed": false
   },
   "outputs": [
    {
     "name": "stdout",
     "output_type": "stream",
     "text": [
      "8.220000082200001e-09\n"
     ]
    }
   ],
   "source": [
    "vx = 2/Bdq.dt.p\n",
    "print(vx)"
   ]
  },
  {
   "cell_type": "markdown",
   "metadata": {},
   "source": [
    "This feels about right. The speed of observer B is about what a cube ball is.\n",
    "\n",
    "Boost the delta by this velocity."
   ]
  },
  {
   "cell_type": "code",
   "execution_count": 17,
   "metadata": {
    "collapsed": false
   },
   "outputs": [
    {
     "name": "stdout",
     "output_type": "stream",
     "text": [
      "(364963500.00000006, 121654500.00000018)_I0,2  (12.15660242, 9.38553414)_i1,3  (2.1857995800000003, 6.55739874)_j1,3  (7.186909090909091e-08, 7.186909090909091e-08)_k1,3  QxS-QxS.reduce.boost\n",
      "(243308999.99999988, 0)_I0,2  (2.7710682799999997, 0)_i1,3  (0, 4.37159916)_j1,3  (0, 0)_k1,3  QxS-QxS.reduce.boost.reduce\n",
      "(243309000.0, 0)_I0,2  (6.77106828, 0)_i1,3  (0.0, 4.37159916)_j1,3  (0.0, 0.0)_k1,3  QxS-QxS.reduce\n",
      "(0, 1.1920928955078125e-07)_I0,2  (0, 3.9999999999999982)_i1,3  (0, 0)_j1,3  (0, 0)_k1,3  QxS-QxS.reduce.boost-QxS-QxS.reduce.reduce\n"
     ]
    }
   ],
   "source": [
    "Bdq_boosted = Bdq.boost(beta_x = vx)\n",
    "print(Bdq_boosted)\n",
    "print(Bdq_boosted.reduce())\n",
    "print(Bdq)\n",
    "print(Bdq_boosted.dif(Bdq).reduce())"
   ]
  },
  {
   "cell_type": "markdown",
   "metadata": {},
   "source": [
    "The last line indicates there is no difference between the boosted values of $y$ and $z$, as expected. Both the change in time and in space are negative. Moving in unison is a quality of simple boosts. The change in time is tiny. The change in space is almost 4, but not quite due to the work of the $\\gamma$ factor that altered the time measurement."
   ]
  },
  {
   "cell_type": "markdown",
   "metadata": {},
   "source": [
    "Compare the squares of the boosted with the non-boosted Observer B"
   ]
  },
  {
   "cell_type": "code",
   "execution_count": 18,
   "metadata": {
    "collapsed": false
   },
   "outputs": [
    {
     "name": "stdout",
     "output_type": "stream",
     "text": [
      "(1.4799817370250035e+17, 8.879890422150043e+16)_I0,2  (11157017260.692606, 9808565556.415565)_i1,3  (3190948260.0613227, 5318247100.102201)_j1,3  (69.94558656000004, 69.94558656000004)_k1,3  QxS-QxS.reduce.boost.sq\n",
      "(5.9199269481e+16, 64.95824486813486)_I0,2  (3294923704.27704, 0.0)_i1,3  (0.0, 2127298840.04088)_j1,3  (0.0, 0.0)_k1,3  QxS-QxS.reduce.sq\n"
     ]
    }
   ],
   "source": [
    "print(Bdq_boosted.square())\n",
    "print(Bdq.square())"
   ]
  },
  {
   "cell_type": "markdown",
   "metadata": {
    "collapsed": true
   },
   "source": [
    "Time and space are mixing together for the boosted frame. There are two huge numbers for $I_0$ and $I_2$ instead of a big number and about 65. Are they the same? Compare the reduced squares:"
   ]
  },
  {
   "cell_type": "code",
   "execution_count": 19,
   "metadata": {
    "collapsed": false
   },
   "outputs": [
    {
     "name": "stdout",
     "output_type": "stream",
     "text": [
      "(5.919926948099992e+16, 0)_I0,2  (1348451704.2770405, 0)_i1,3  (0, 2127298840.0408788)_j1,3  (0, 0)_k1,3  QxS-QxS.reduce.boost.sq.reduce\n",
      "(5.919926948099994e+16, 0)_I0,2  (3294923704.27704, 0.0)_i1,3  (0.0, 2127298840.04088)_j1,3  (0.0, 0.0)_k1,3  QxS-QxS.reduce.sq.reduce\n"
     ]
    }
   ],
   "source": [
    "print(Bdq_boosted.square().reduce())\n",
    "print(Bdq.square().reduce())"
   ]
  },
  {
   "cell_type": "markdown",
   "metadata": {},
   "source": [
    "The reduced intervals are the same. The space-times-time terms are not. The difference between the space-times-time terms can be used to determine how Observer B boosted in moving relative to Observer B (calculation not done here). Even with out going into detail, the motion is only along x because that is the only term that changes."
   ]
  },
  {
   "cell_type": "markdown",
   "metadata": {},
   "source": [
    "## Observer C in a Gravity Field"
   ]
  },
  {
   "cell_type": "markdown",
   "metadata": {},
   "source": [
    "We know from the video of the billiard balls that they are in a gravity field since the eight ball drops into the pocket."
   ]
  }
 ],
 "metadata": {
  "kernelspec": {
   "display_name": "Python 3",
   "language": "python",
   "name": "python3"
  },
  "language_info": {
   "codemirror_mode": {
    "name": "ipython",
    "version": 3
   },
   "file_extension": ".py",
   "mimetype": "text/x-python",
   "name": "python",
   "nbconvert_exporter": "python",
   "pygments_lexer": "ipython3",
   "version": "3.5.1"
  }
 },
 "nbformat": 4,
 "nbformat_minor": 0
}
