{
 "cells": [
  {
   "cell_type": "markdown",
   "metadata": {},
   "source": [
    "# Billiards With Space-time Numbers"
   ]
  },
  {
   "cell_type": "markdown",
   "metadata": {},
   "source": [
    "The goal of this iPython notebook is to become familiar with using space-time numbers to describe events. This will be done for three different observers. The first case will cover the fact that the observers happen to be at different locations. How does one handle different ways to represent the numbers used to characterize events?"
   ]
  },
  {
   "cell_type": "markdown",
   "metadata": {},
   "source": [
    "One observer will be set in constant motion. We will work out the equivalence classes that cover observers in motion. The final case will look at equivalence classes that may happen due to gravity."
   ]
  },
  {
   "cell_type": "markdown",
   "metadata": {},
   "source": [
    "Here is an animation of a mini billiard shot."
   ]
  },
  {
   "cell_type": "markdown",
   "metadata": {},
   "source": [
    "![](images/Billiards/billiard_video.gif)"
   ]
  },
  {
   "cell_type": "markdown",
   "metadata": {},
   "source": [
    "Cue ball hits the 8 ball, then into the corner pocket it goes. Observer A is yellow, our proverbial reference observer. I promise to do nothing with her ever. Observer B in pink is at a slightly different location, but still watching from the tabletop. Eventually, he will be set into constant motion. Then we can see about what Observers agree and disagree about. Observer C is in purple and at the end of a pipe cleaner above the tabletop. His observations will be ever-so-slightly different from Observer A and that will be investigated."
   ]
  },
  {
   "cell_type": "markdown",
   "metadata": {},
   "source": [
    "A number of big simplifications will be done for this analysis. All but two frames will be used."
   ]
  },
  {
   "cell_type": "markdown",
   "metadata": {},
   "source": [
    "![](images/Billiards/shot_12.png)"
   ]
  },
  {
   "cell_type": "markdown",
   "metadata": {
    "collapsed": true
   },
   "source": [
    "Get rid of the green felt. In its place, put some graph paper. Add a few markers to make any measurement more precise."
   ]
  },
  {
   "cell_type": "markdown",
   "metadata": {},
   "source": [
    "![](images/Billiards/shot_12_no_felt.png)"
   ]
  },
  {
   "cell_type": "markdown",
   "metadata": {},
   "source": [
    "The image was then printed out so a precise dial calliper could be used to make measurements. Notice that observer A is ~2.5 squares to the left and 3+ squares below the 8 ball in the first frame."
   ]
  },
  {
   "cell_type": "markdown",
   "metadata": {},
   "source": [
    "![](images/Billiards/ball_printout.jpg)"
   ]
  },
  {
   "cell_type": "markdown",
   "metadata": {
    "collapsed": true
   },
   "source": [
    "Can the time be measured precisely? In this case, I will use the frames of the gif animation as a proxy for measuring time. I used the command \"convert billiard_video.gif Frames/billiards_1%02d.png\" to make make individual frames from the gif. The two frames are 147 and 158. The speed of the fastest cue break is over 30 miles per hour, or as a diminsionless relativistic speed is 4.5x10<sup>-8</sup>. If small number are used for the differences in space, then the difference between time should be scaled to be in the ten billion range. So that is what I did: call the first time 1,470,000,000 and the second one 1,580,000,000. The ball is then moving around 20mph. I could have found out the frames per second, and calculated the correct speed from there. The three observers do not need to coordinate to figure out the same origin in time, so I chose B and C to start a billion and two billion earlier respectively."
   ]
  },
  {
   "cell_type": "markdown",
   "metadata": {},
   "source": [
    "This explains how I got numbers related to an 8 ball moving on a table. Now to calculate the in"
   ]
  },
  {
   "cell_type": "code",
   "execution_count": 1,
   "metadata": {
    "collapsed": false
   },
   "outputs": [
    {
     "name": "stderr",
     "output_type": "stream",
     "text": [
      "....................\n",
      "----------------------------------------------------------------------\n",
      "Ran 20 tests in 0.036s\n",
      "\n",
      "OK\n",
      "..........\n",
      "----------------------------------------------------------------------\n",
      "Ran 10 tests in 0.009s\n",
      "\n",
      "OK\n",
      "......................"
     ]
    },
    {
     "name": "stdout",
     "output_type": "stream",
     "text": [
      "abs_of_q: 5.0t  0i  0j  0k  P.abs\n",
      "abs_of_vector: 5.0t  0i  0j  0k  P.absV\n",
      "add: 1t  2i  -6j  -4k  Q+P\n",
      "q1_sq: -28t  -4i  -6j  -8k  Q.sq\n",
      "boosted: 1.0120181081629736t  -2.006036054324489i  -3.0j  -4.0k  Q.boost\n",
      "boosted squared: -28.0t  -4.0602896252083704i  -6.072108648977841j  -8.096144865303788k  Q.boost.sq\n",
      "q_conj 0: 1t  2i  3j  4k  Q.*\n",
      "q_conj 1: -1t  -2i  3j  4k  Q.*1\n",
      "q_conj 2: -1t  2i  -3j  4k  Q.*2\n",
      "dif: 1t  -6i  0j  -4k  Q-P\n",
      "divide_by: 1.0t  0.0i  0.0j  0.0k  Q/Q\n",
      "q1_sq: -28t  -4i  -6j  -8k  Q.sq\n",
      "g_shift: 0.997004495503373t  -2.00600900900675i  -3.00901351351013j  -4.01201801801351k  Q.g_shift\n",
      "g squared: -28.1805050815139t  -4.00000000000000i  -6.00000000000000j  -8.00000000000000k  Q.g_shift.sq\n",
      "invert: 0.0t  -0.16i  0.12j  0.0k  P.^-1\n",
      "norm: 30t  0i  0j  0k  Q.norm\n",
      "norm_of_vector: 29t  0i  0j  0k  Q.normV\n",
      "product: -1t  -8i  -19j  18k  QxP\n",
      "q0: 0t  0i  0j  0k  Zero\n",
      "q1: 1t  0i  0j  0k  One\n",
      "rotate: 1.0t  -2.0i  3.0j  4.0k  Q.rot\n",
      "square: -28t  -4i  -6j  -8k  Q.sq\n",
      "triple product: -2t  124i  -84j  8k  QxPxQ\n",
      "abs_of_q: (5.0, 0)_I0,2  (0, 0)_i1,3  (0, 0)_j1,3  (0, 0)_k1,3  Q.Q.abs\n",
      "abs_of_vector: (5.0, 0)_I0,2  (0, 0)_i1,3  (0, 0)_j1,3  (0, 0)_k1,3  Q.absV\n",
      "add: (1, 0)_I0,2  (4, 2)_i1,3  (0, 6)_j1,3  (0, 4)_k1,3  Q+Q\n",
      "add reduce: (1, 0)_I0,2  (2, 0)_i1,3  (0, 6)_j1,3  (0, 4)_k1,3  Q+Q.reduce\n",
      "q1_sq: (0, 28)_I0,2  (0, 4)_i1,3  (0, 6)_j1,3  (0, 8)_k1,3  Q.sq.reduce\n",
      "boosted: (1.51802716224446, 0.5060090540814867)_I0,2  (1.0030180271622444, 3.0090540814867333)_i1,3  (1.5240542164879485, 4.524054216487949)_j1,3  (2.0180721626494638, 6.018072162649464)_k1,3  Q.boost\n",
      "b squared: (0, 28.000000000000007)_I0,2  (0, 4.06028962520837)_i1,3  (0, 6.072108648977842)_j1,3  (0, 8.096144865303788)_k1,3  Q.boost.sq.reduce\n",
      "conj 0: (1, 0)_I0,2  (2, 0)_i1,3  (3, 0)_j1,3  (4, 0)_k1,3  Q.*\n",
      "conj 1: (0, 1)_I0,2  (0, 2)_i1,3  (3, 0)_j1,3  (4, 0)_k1,3  Q.*1\n",
      "conj 2: (0, 1)_I0,2  (2, 0)_i1,3  (0, 3)_j1,3  (4, 0)_k1,3  Q.*2\n",
      "dif: (1, 0)_I0,2  (0, 6)_i1,3  (3, 3)_j1,3  (0, 4)_k1,3  Q-Q\n",
      "inverse: (1.0, 0.0)_I0,2  (0, 0)_i1,3  (0, 0)_j1,3  (0, 0)_k1,3  Q/Q.reduce\n",
      "q1_sq: (0, 28)_I0,2  (0, 4)_i1,3  (0, 6)_j1,3  (0, 8)_k1,3  Q.sq.reduce\n",
      "g_shift: (0.997004495503373, 0)_I0,2  (0, 2.00600900900675)_i1,3  (0, 3.00901351351013)_j1,3  (0, 4.01201801801351)_k1,3  Q.g_shift\n",
      "g squared: (0, 28.1805050815139)_I0,2  (0, 4.00000000000000)_i1,3  (0, 6.00000000000000)_j1,3  (0, 8.00000000000000)_k1,3  Q.g_shift.sq.reduce\n",
      "inverse: (0.0, 0.0)_I0,2  (0.0, 0.16)_i1,3  (0.12, 0.0)_j1,3  (0.0, 0.0)_k1,3  Q.^-1.reduce\n",
      "norm: (30, 0)_I0,2  (0, 0)_i1,3  (0, 0)_j1,3  (0, 0)_k1,3  Q.norm\n",
      "norm_of_vector: (29, 0)_I0,2  (0, 0)_i1,3  (0, 0)_j1,3  (0, 0)_k1,3  Q.normV\n",
      "product: (0, 1)_I0,2  (0, 8)_i1,3  (0, 19)_j1,3  (18, 0)_k1,3  QxQ.reduce\n",
      "q1: (1, 0)_I0,2  (0, 0)_i1,3  (0, 0)_j1,3  (0, 0)_k1,3  Q\n",
      "q0: (0, 0)_I0,2  (0, 0)_i1,3  (0, 0)_j1,3  (0, 0)_k1,3  Q\n",
      "q_big reduced: (0, 1)_I0,2  (0, 1)_i1,3  (0, 1)_j1,3  (0, 1)_k1,3  Q.reduce\n",
      "rotate: (1.0, 0.0)_I0,2  (0.0, 2.0)_i1,3  (3.0, 0.0)_j1,3  (4.0, 0.0)_k1,3  Q/Q.Q.absxQxQ/Q.Q.abs.*.reduce\n",
      "square: (1, 29)_I0,2  (0, 4)_i1,3  (0, 6)_j1,3  (0, 8)_k1,3  Q.sq\n",
      "square reduced: (0, 28)_I0,2  (0, 4)_i1,3  (0, 6)_j1,3  (0, 8)_k1,3  Q.sq.reduce\n",
      "triple: (0, 2)_I0,2  (124, 0)_i1,3  (0, 84)_j1,3  (8, 0)_k1,3  QxQxQ.reduce\n"
     ]
    },
    {
     "name": "stderr",
     "output_type": "stream",
     "text": [
      "\n",
      "----------------------------------------------------------------------\n",
      "Ran 22 tests in 0.030s\n",
      "\n",
      "OK\n",
      ".......\n",
      "----------------------------------------------------------------------\n",
      "Ran 7 tests in 0.017s\n",
      "\n",
      "OK\n"
     ]
    },
    {
     "name": "stdout",
     "output_type": "stream",
     "text": [
      "The equivalence classes for this pair of events are as follows...\n",
      "q1: 0t  0i  0j  0k  Q\n",
      "q2: 1t  1i  0j  0k  Q\n",
      "q1_squared: 0t  0i  0j  0k  Q\n",
      "q2_squared: 0t  2i  0j  0k  Q\n",
      "q1_norm -1: -1t  0i  0j  0k  Q\n",
      "q2_norm -1: 1t  0i  0j  0k  Q\n",
      "                time: disjoint\n",
      "             space-1: disjoint\n",
      "             space-2: here_exact\n",
      "             space-3: here_exact\n",
      "           causality: light-like_exact\n",
      "  space-times-time-1: disjoint\n",
      "  space-times-time-2: here-now_exact\n",
      "  space-times-time-3: here-now_exact\n",
      "       norm_of_unity: disjoint\n",
      "\n",
      "The equivalence classes for this pair of events are as follows...\n",
      "q1: 0t  0i  0j  0k  Q\n",
      "q2: 2t  0i  0j  0k  Q\n",
      "q1_squared: 0t  0i  0j  0k  Q\n",
      "q2_squared: 4t  0i  0j  0k  Q\n",
      "q1_norm -1: -1t  0i  0j  0k  Q\n",
      "q2_norm -1: 3t  0i  0j  0k  Q\n",
      "                time: disjoint\n",
      "             space-1: here_exact\n",
      "             space-2: here_exact\n",
      "             space-3: here_exact\n",
      "           causality: disjoint\n",
      "  space-times-time-1: here-now_exact\n",
      "  space-times-time-2: here-now_exact\n",
      "  space-times-time-3: here-now_exact\n",
      "       norm_of_unity: disjoint\n",
      "\n",
      "The equivalence classes for this pair of events are as follows...\n",
      "q1: 1t  1i  0j  0k  Q\n",
      "q2: 2t  0i  0j  0k  Q\n",
      "q1_squared: 0t  2i  0j  0k  Q\n",
      "q2_squared: 4t  0i  0j  0k  Q\n",
      "q1_norm -1: 1t  0i  0j  0k  Q\n",
      "q2_norm -1: 3t  0i  0j  0k  Q\n",
      "                time: future\n",
      "             space-1: disjoint\n",
      "             space-2: here_exact\n",
      "             space-3: here_exact\n",
      "           causality: disjoint\n",
      "  space-times-time-1: disjoint\n",
      "  space-times-time-2: here-now_exact\n",
      "  space-times-time-3: here-now_exact\n",
      "       norm_of_unity: greater_than_unity\n",
      "\n",
      "The equivalence classes for this pair of events are as follows...\n",
      "q1: 4t  0i  0j  5k  Q\n",
      "q2: 5t  1i  0j  5k  Q\n",
      "q1_squared: -9t  0i  0j  40k  Q\n",
      "q2_squared: -1t  10i  0j  50k  Q\n",
      "q1_norm -1: 40t  0i  0j  0k  Q\n",
      "q2_norm -1: 50t  0i  0j  0k  Q\n",
      "                time: future\n",
      "             space-1: disjoint\n",
      "             space-2: here_exact\n",
      "             space-3: near_exact\n",
      "           causality: space-like\n",
      "  space-times-time-1: disjoint\n",
      "  space-times-time-2: here-now_exact\n",
      "  space-times-time-3: future-near_exact\n",
      "       norm_of_unity: greater_than_unity\n",
      "\n",
      "The equivalence classes for this pair of events are as follows...\n",
      "q1: -1t  -1i  0j  0k  Q\n",
      "q2: -2t  0i  0j  0k  Q\n",
      "q1_squared: 0t  2i  0j  0k  Q\n",
      "q2_squared: 4t  0i  0j  0k  Q\n",
      "q1_norm -1: 1t  0i  0j  0k  Q\n",
      "q2_norm -1: 3t  0i  0j  0k  Q\n",
      "                time: past\n",
      "             space-1: disjoint\n",
      "             space-2: here_exact\n",
      "             space-3: here_exact\n",
      "           causality: disjoint\n",
      "  space-times-time-1: disjoint\n",
      "  space-times-time-2: here-now_exact\n",
      "  space-times-time-3: here-now_exact\n",
      "       norm_of_unity: greater_than_unity\n",
      "\n",
      "The equivalence classes for this pair of events are as follows...\n",
      "q1: -1t  -1i  0j  0k  Q\n",
      "q2: -1t  1i  0j  0k  Q\n",
      "q1_squared: 0t  2i  0j  0k  Q\n",
      "q2_squared: 0t  -2i  0j  0k  Q\n",
      "q1_norm -1: 1t  0i  0j  0k  Q\n",
      "q2_norm -1: 1t  0i  0j  0k  Q\n",
      "                time: past_exact\n",
      "             space-1: disjoint\n",
      "             space-2: here_exact\n",
      "             space-3: here_exact\n",
      "           causality: light-like_exact\n",
      "  space-times-time-1: disjoint\n",
      "  space-times-time-2: here-now_exact\n",
      "  space-times-time-3: here-now_exact\n",
      "       norm_of_unity: greater_than_unity_exact\n",
      "\n",
      "The equivalence classes for this pair of events are as follows...\n",
      "q1: -2t  0i  0j  0k  Q\n",
      "q2: -1t  1i  0j  0k  Q\n",
      "q1_squared: 4t  0i  0j  0k  Q\n",
      "q2_squared: 0t  -2i  0j  0k  Q\n",
      "q1_norm -1: 3t  0i  0j  0k  Q\n",
      "q2_norm -1: 1t  0i  0j  0k  Q\n",
      "                time: past\n",
      "             space-1: disjoint\n",
      "             space-2: here_exact\n",
      "             space-3: here_exact\n",
      "           causality: disjoint\n",
      "  space-times-time-1: disjoint\n",
      "  space-times-time-2: here-now_exact\n",
      "  space-times-time-3: here-now_exact\n",
      "       norm_of_unity: greater_than_unity\n",
      "\n",
      "The equivalence classes for this pair of events are as follows...\n",
      "q1: -1t  -1i  0j  0k  Q\n",
      "q2: -2t  0i  0j  0k  Q\n",
      "q1_squared: 0t  2i  0j  0k  Q\n",
      "q2_squared: 4t  0i  0j  0k  Q\n",
      "q1_norm -1: 1t  0i  0j  0k  Q\n",
      "q2_norm -1: 3t  0i  0j  0k  Q\n",
      "                time: past\n",
      "             space-1: disjoint\n",
      "             space-2: here_exact\n",
      "             space-3: here_exact\n",
      "           causality: disjoint\n",
      "  space-times-time-1: disjoint\n",
      "  space-times-time-2: here-now_exact\n",
      "  space-times-time-3: here-now_exact\n",
      "       norm_of_unity: greater_than_unity\n",
      "\n",
      "The equivalence classes for this pair of events are as follows...\n",
      "q1: -1t  -1i  0j  0k  Q\n",
      "q2: -1t  1i  0j  0k  Q\n",
      "q1_squared: 0t  2i  0j  0k  Q\n",
      "q2_squared: 0t  -2i  0j  0k  Q\n",
      "q1_norm -1: 1t  0i  0j  0k  Q\n",
      "q2_norm -1: 1t  0i  0j  0k  Q\n",
      "                time: past_exact\n",
      "             space-1: disjoint\n",
      "             space-2: here_exact\n",
      "             space-3: here_exact\n",
      "           causality: light-like_exact\n",
      "  space-times-time-1: disjoint\n",
      "  space-times-time-2: here-now_exact\n",
      "  space-times-time-3: here-now_exact\n",
      "       norm_of_unity: greater_than_unity_exact\n",
      "\n",
      "The equivalence classes for this pair of events are as follows...\n",
      "q1: -2t  0i  0j  0k  Q\n",
      "q2: -1t  1i  0j  0k  Q\n",
      "q1_squared: 4t  0i  0j  0k  Q\n",
      "q2_squared: 0t  -2i  0j  0k  Q\n",
      "q1_norm -1: 3t  0i  0j  0k  Q\n",
      "q2_norm -1: 1t  0i  0j  0k  Q\n",
      "                time: past\n",
      "             space-1: disjoint\n",
      "             space-2: here_exact\n",
      "             space-3: here_exact\n",
      "           causality: disjoint\n",
      "  space-times-time-1: disjoint\n",
      "  space-times-time-2: here-now_exact\n",
      "  space-times-time-3: here-now_exact\n",
      "       norm_of_unity: greater_than_unity\n",
      "\n",
      "{causality: light-like_exact, norm_of_unity: greater_than_unity_exact, space-1\n",
      ": disjoint, space-2: here_exact, space-3: here_exact, space-times-time-1: disj\n",
      "oint, space-times-time-2: here-now_exact, space-times-time-3: here-now_exact, \n",
      "time: past_exact}\n",
      "dict_keys(['time_disjoint', 'norm_of_unity_greater_than_unity_exact', 'space-t\n",
      "imes-time-1_future-left', 'time_now_exact', 'space-1_left', 'space-times-time-\n",
      "3_future-far_exact', 'space-1_disjoint', 'space-1_here_exact', 'causality_spac\n",
      "e-like', 'space-2_up', 'norm_of_unity_less_than_unity', 'causality_space-like_\n",
      "space-like_exact', 'time_past', 'time_future', 'space-2_up_exact', 'space_clas\n",
      "ses', 'norm_of_unity_unity_exact', 'space-3_near_exact', 'causality_light-like\n",
      "_exact', 'space-times-time-1_here-now_exact', 'causality_time-like_exact', 'sp\n",
      "ace-1_right', 'space-times-time-2_future-up_exact', 'time_future_future_exact'\n",
      ", 'space-2_here_exact', 'space-times-time-1_future-right', 'space-times-time-3\n",
      "_future-far', 'time_past_exact', 'space-times-time-2_future-down_exact', 'spac\n",
      "e-2_down_exact', 'space-1_right_exact', 'space-2_disjoint', 'causality_space-l\n",
      "ike_exact', 'causality_disjoint', 'norm_of_unity_disjoint', 'space-1_left_exac\n",
      "t', 'space-times-time-1_disjoint', 'time_future_exact', 'causality_time-like_t\n",
      "ime-like_exact', 'space-times-time-1_future-left_exact', 'space-2_down', 'spac\n",
      "e-times-time-3_future-near', 'causality_time-like', 'space_disjoint', 'space-t\n",
      "imes-time-2_future-up', 'space-3_here_exact', 'space-times-time-2_disjoint', '\n",
      "space-times-time-3_here-now_exact', 'space-times-time-3_disjoint', 'space-time\n",
      "s-time-2_future-down', 'space-times-time-2_here-now_exact', 'space-3_far_exact\n",
      "', 'norm_of_unity_greater_than_unity', 'space-3_disjoint', 'space_here_exact',\n",
      " 'norm_of_unity_less_than_unity_exact', 'space-3_far', 'space-3_near', 'space-\n",
      "times-time-1_future-right_exact', 'space-times-time-3_future-near_exact'])\n",
      "The equivalence classes for this pair of events are as follows...\n",
      "q1: -1t  -1i  0j  0k  Q\n",
      "q2: -1t  1i  0j  0k  Q\n",
      "q1_squared: 0t  2i  0j  0k  Q\n",
      "q2_squared: 0t  -2i  0j  0k  Q\n",
      "q1_norm -1: 1t  0i  0j  0k  Q\n",
      "q2_norm -1: 1t  0i  0j  0k  Q\n",
      "                time: past_exact\n",
      "             space-1: disjoint\n",
      "             space-2: here_exact\n",
      "             space-3: here_exact\n",
      "           causality: light-like_exact\n",
      "  space-times-time-1: disjoint\n",
      "  space-times-time-2: here-now_exact\n",
      "  space-times-time-3: here-now_exact\n",
      "       norm_of_unity: greater_than_unity_exact\n",
      "\n",
      "(13.033333333333333, 8.033333333333333)_I0,2  (12.0, 9.2)_i1,3  (14.566666666666666, 7.566666666666666)_j1,3  (15.933333333333334, 6.333333333333333)_k1,3  QxQxQ.^-1\n",
      "(5.0, 0)_I0,2  (2.8000000000000007, 0)_i1,3  (7.0, 0)_j1,3  (9.600000000000001, 0)_k1,3  QxQxQ.^-1.reduce\n",
      "(174, 0)_I0,2  (0, 0)_i1,3  (0, 0)_j1,3  (0, 0)_k1,3  Q.norm\n",
      "(1026.4666666666667, 852.4666666666666)_I0,2  (0, 0)_i1,3  (0, 0)_j1,3  (0, 0)_k1,3  QxQxQ.^-1.norm\n",
      "(174.0000000000001, 0)_I0,2  (0, 0)_i1,3  (0, 0)_j1,3  (0, 0)_k1,3  QxQxQ.^-1.norm.reduce\n",
      "53t  0i  0j  0k  P-Q.norm\n",
      "53.0t  0i  0j  0k  P.rot-Q.rot.norm\n",
      "52.999999999999986t  0i  0j  0k  P-Q.rot.norm\n",
      "0.0t  0i  0j  0k  P-Q.norm-P.rot-Q.rot.norm\n"
     ]
    }
   ],
   "source": [
    "import Q_tool_devo as qtd;\n",
    "Aq1=qtd.Qq([1470000000,0,1.1421,0,1.4220,0,0,0])\n",
    "Aq2=qtd.Qq([1580000000,0,4.2966,0,0,0.3643,0,0])"
   ]
  },
  {
   "cell_type": "code",
   "execution_count": 2,
   "metadata": {
    "collapsed": false
   },
   "outputs": [
    {
     "name": "stdout",
     "output_type": "stream",
     "text": [
      "(3251493000.0, 0.0)_I0,2  (2.5262109899999996, 0.0)_i1,3  (3.1453217999999996, 0.0)_j1,3  (0.0, 0.0)_k1,3  QxS\n"
     ]
    }
   ],
   "source": [
    "q_scale = qtd.Qq([2.2119,0,0,0,0,0,0,0], qtype=\"S\")\n",
    "Aq1s=Aq1.product(q_scale)\n",
    "Aq2s=Aq2.product(q_scale)\n",
    "print(Aq1s)"
   ]
  },
  {
   "cell_type": "markdown",
   "metadata": {},
   "source": [
    "When scaled, the expected values are seen, the x value at around 2.5, the y value above 3 and zero for z."
   ]
  },
  {
   "cell_type": "markdown",
   "metadata": {},
   "source": [
    "Calculate the delta quaternion between events one and two:"
   ]
  },
  {
   "cell_type": "code",
   "execution_count": 3,
   "metadata": {
    "collapsed": false
   },
   "outputs": [
    {
     "name": "stdout",
     "output_type": "stream",
     "text": [
      "(243309000.0, 0)_I0,2  (6.9774385500000005, 0)_i1,3  (0.0, 3.9511169699999997)_j1,3  (0.0, 0.0)_k1,3  QxS-QxS.reduce\n"
     ]
    }
   ],
   "source": [
    "Adq=Aq2s.dif(Aq1s).reduce()\n",
    "print(Adq)"
   ]
  },
  {
   "cell_type": "markdown",
   "metadata": {},
   "source": [
    "The difference is nearly 7 in the x<sub>1</sub> direction, and 4 in the j<sub>3</sub>, which if real numbers were being used would be the positive x and negative y. The qtype \"QxQ-QxQ.reduce\" shows that both initial components were multiplied by a scalar value, then the difference taken."
   ]
  },
  {
   "cell_type": "code",
   "execution_count": 4,
   "metadata": {
    "collapsed": false
   },
   "outputs": [
    {
     "name": "stdout",
     "output_type": "stream",
     "text": [
      "(5.9199269481e+16, 64.29597402964808)_I0,2  (3395347192.3239, 0.0)_i1,3  (0.0, 1922684637.70746)_j1,3  (0.0, 0.0)_k1,3  QxS-QxS.reduce.sq\n"
     ]
    }
   ],
   "source": [
    "Adq2=Adq.square()\n",
    "print(Adq2)"
   ]
  },
  {
   "cell_type": "markdown",
   "metadata": {
    "collapsed": true
   },
   "source": [
    "It is my thesis that all the numbers in the square provide important information for comparing any pair of observers. Here are the input numbers for observers B and C:"
   ]
  },
  {
   "cell_type": "code",
   "execution_count": 5,
   "metadata": {
    "collapsed": true
   },
   "outputs": [],
   "source": [
    "Bq1=qtd.Qq([2470000000,0,0.8869,0,1.8700,0,0,0])\n",
    "Bq2=qtd.Qq([2580000000,0,3.9481,0,0,0.1064,0,0])\n",
    "Cq1=qtd.Qq([3470000000,0,1.1421,0,1.4220,0,1.3256,0])\n",
    "Cq2=qtd.Qq([3580000000,0,4.2966,0,0,0.3643,1.3256,0])"
   ]
  },
  {
   "cell_type": "markdown",
   "metadata": {},
   "source": [
    "No set of input numbers for two observers are **ever the same**. Two observers must be located in either a different place in time or a different place in space or both."
   ]
  },
  {
   "cell_type": "code",
   "execution_count": 6,
   "metadata": {
    "collapsed": false
   },
   "outputs": [
    {
     "name": "stdout",
     "output_type": "stream",
     "text": [
      "(5.9199269481e+16, 64.29597402964808)_I0,2  (3395347192.3239, 0.0)_i1,3  (0.0, 1922684637.70746)_j1,3  (0.0, 0.0)_k1,3  QxS-QxS.reduce.sq\n",
      "(5.9199269481e+16, 64.95824486813486)_I0,2  (3294923704.27704, 0.0)_i1,3  (0.0, 2127298840.04088)_j1,3  (0.0, 0.0)_k1,3  QxS-QxS.reduce.sq\n",
      "(5.9199269481e+16, 64.29597402964808)_I0,2  (3395347192.3239, 0.0)_i1,3  (0.0, 1922684637.70746)_j1,3  (0.0, 0.0)_k1,3  QxS-QxS.reduce.sq\n"
     ]
    }
   ],
   "source": [
    "Bdq2=Bq1.product(q_scale).dif(Bq2.product(q_scale)).reduce().square()\n",
    "Cdq2=Cq1.product(q_scale).dif(Cq2.product(q_scale)).reduce().square()\n",
    "print(Adq2)\n",
    "print(Bdq2)\n",
    "print(Cdq2)"
   ]
  },
  {
   "cell_type": "markdown",
   "metadata": {},
   "source": [
    "We are comparing apples to apples since the qtype, \"QxS-QxS.reduce.sq\", are the same. The first of the 8 terms are exactly the same, the I<sub>0</sub>. The reason is the delta time values were exactly the same. The first and third I<sub>2</sub> are exactly the same because their delta values were identical even though they had different z values. A different physical measurement was made for Observer B. The match is pretty good:"
   ]
  },
  {
   "cell_type": "code",
   "execution_count": 14,
   "metadata": {
    "collapsed": false
   },
   "outputs": [
    {
     "data": {
      "text/plain": [
       "0.10107778324762479"
      ]
     },
     "execution_count": 14,
     "metadata": {},
     "output_type": "execute_result"
    }
   ],
   "source": [
    "((64.96 - 64.30)/64.60)**0.5"
   ]
  },
  {
   "cell_type": "markdown",
   "metadata": {},
   "source": [
    "The error is about a tenth of a percent. So while I reported 4 significant digits, only the first three can be trusted."
   ]
  },
  {
   "cell_type": "markdown",
   "metadata": {},
   "source": [
    "The next experiment involved rotating the graph paper for observer B. This should not change much other than the numbers that get plugged into the inteval calculation."
   ]
  },
  {
   "cell_type": "markdown",
   "metadata": {},
   "source": [
    "![](images/Billiards/shot_12_no_felt_rotated.png)"
   ]
  },
  {
   "cell_type": "code",
   "execution_count": 8,
   "metadata": {
    "collapsed": false
   },
   "outputs": [
    {
     "name": "stdout",
     "output_type": "stream",
     "text": [
      "The equivalence classes for this pair of events are as follows...\n",
      "q1: 5.919926948099994e+16t  3395347192.3239i  -1922684637.70746j  0.0k  Q\n",
      "q2: 5.919926948099994e+16t  3294923704.27704i  -2127298840.04088j  0.0k  Q\n",
      "q1_squared: 3.5045535070840356e+33t  4.0200414683987816e+26i  -2.276430519892453e+26j  0.0k  Q\n",
      "q2_squared: 3.504553507084035e+33t  3.9011415257766206e+26i  -2.5186907459639727e+26j  0.0k  Q\n",
      "q1_norm -1: 3.5045535070840655e+33t  0i  0j  0k  Q\n",
      "q2_norm -1: 3.504553507084066e+33t  0i  0j  0k  Q\n",
      "                time: future_exact\n",
      "             space-1: right\n",
      "             space-2: down\n",
      "             space-3: here_exact\n",
      "           causality: time-like\n",
      "  space-times-time-1: future-right\n",
      "  space-times-time-2: future-down\n",
      "  space-times-time-3: here-now_exact\n",
      "       norm_of_unity: greater_than_unity\n",
      "\n"
     ]
    }
   ],
   "source": [
    "print(qtd.EQ(Adq2,Bdq2))"
   ]
  },
  {
   "cell_type": "code",
   "execution_count": 16,
   "metadata": {
    "collapsed": false
   },
   "outputs": [
    {
     "name": "stdout",
     "output_type": "stream",
     "text": [
      "(5.9199269481e+16, 65.82295734469014)_I0,2  (3651410941.5880804, 0.0)_i1,3  (0.0, 1501293474.03816)_j1,3  (0.0, 0.0)_k1,3  QxS-QxS.reduce.sq\n",
      "(5.9199269481e+16, 64.95824486813486)_I0,2  (3294923704.27704, 0.0)_i1,3  (0.0, 2127298840.04088)_j1,3  (0.0, 0.0)_k1,3  QxS-QxS.reduce.sq\n"
     ]
    }
   ],
   "source": [
    "BRotq1=qtd.Qq([2470000000,0,0.519,0,1.9440,0,0,0])\n",
    "BRotq2=qtd.Qq([2580000000,0,3.9114,0,0.5492,0,0,0])\n",
    "BRotdq2=BRotq1.product(q_scale).dif(BRotq2.product(q_scale)).reduce().square()\n",
    "print(BRotdq2)\n",
    "print(Bdq2)"
   ]
  },
  {
   "cell_type": "markdown",
   "metadata": {
    "collapsed": true
   },
   "source": [
    "![](images/Billiards/shot_12_no_felt_polar.png)"
   ]
  },
  {
   "cell_type": "code",
   "execution_count": null,
   "metadata": {
    "collapsed": true
   },
   "outputs": [],
   "source": []
  }
 ],
 "metadata": {
  "kernelspec": {
   "display_name": "Python 3",
   "language": "python",
   "name": "python3"
  },
  "language_info": {
   "codemirror_mode": {
    "name": "ipython",
    "version": 3
   },
   "file_extension": ".py",
   "mimetype": "text/x-python",
   "name": "python",
   "nbconvert_exporter": "python",
   "pygments_lexer": "ipython3",
   "version": "3.5.1"
  }
 },
 "nbformat": 4,
 "nbformat_minor": 0
}
